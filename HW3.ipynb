{
 "cells": [
  {
   "cell_type": "markdown",
   "id": "a18ac738",
   "metadata": {},
   "source": [
    "# 딕셔너리"
   ]
  },
  {
   "cell_type": "markdown",
   "id": "a3f09c49",
   "metadata": {},
   "source": [
    "# 문제1."
   ]
  },
  {
   "cell_type": "code",
   "execution_count": 10,
   "id": "53381e0c",
   "metadata": {},
   "outputs": [
    {
     "name": "stdout",
     "output_type": "stream",
     "text": [
      "1 2 10 "
     ]
    }
   ],
   "source": [
    "d = {'youn': 1, 'park': 2, 'kim': 10}\n",
    "\n",
    "for i in d.keys() :\n",
    "    print(d[i], end =' ')"
   ]
  },
  {
   "cell_type": "markdown",
   "id": "892a60d1",
   "metadata": {},
   "source": [
    "# 문제2."
   ]
  },
  {
   "cell_type": "code",
   "execution_count": 16,
   "id": "15620147",
   "metadata": {},
   "outputs": [
    {
     "name": "stdout",
     "output_type": "stream",
     "text": [
      "five 5\n",
      "four 4\n",
      "one 1\n",
      "three 3\n",
      "two 2\n"
     ]
    }
   ],
   "source": [
    "d1 = {'one':1, 'two':2, 'three':3, 'four':4, 'five':5}\n",
    "\n",
    "key_list = d1.keys()\n",
    "key_list = sorted(key_list)\n",
    "key_list\n",
    "\n",
    "for i in key_list :\n",
    "    print(\"%s %s\" %(i, d1[i]))"
   ]
  },
  {
   "cell_type": "markdown",
   "id": "52568d07",
   "metadata": {},
   "source": [
    "# 문제3."
   ]
  },
  {
   "cell_type": "code",
   "execution_count": 17,
   "id": "08fde9ee",
   "metadata": {},
   "outputs": [
    {
     "name": "stdout",
     "output_type": "stream",
     "text": [
      "Enter a sentence : Python is fun!\n",
      "{'P': 1, 'y': 1, 't': 1, 'h': 1, 'o': 1, 'n': 2, ' ': 2, 'i': 1, 's': 1, 'f': 1, 'u': 1, '!': 1} "
     ]
    }
   ],
   "source": [
    "sentence = input(\"Enter a sentence : \")\n",
    "dict_sent = {}\n",
    "\n",
    "for i in range(len(sentence)) :\n",
    "    i = sentence[i]\n",
    "    if i in dict_sent.keys() :\n",
    "        dict_sent[i] +=1\n",
    "    else :\n",
    "        dict_sent[i] =1\n",
    "\n",
    "print(dict_sent, end = \" \")"
   ]
  },
  {
   "cell_type": "markdown",
   "id": "b504e09b",
   "metadata": {},
   "source": [
    "# 문제4."
   ]
  },
  {
   "cell_type": "code",
   "execution_count": 24,
   "id": "53cf985a",
   "metadata": {},
   "outputs": [
    {
     "name": "stdout",
     "output_type": "stream",
     "text": [
      "Highest: 150\n",
      "Lowest: 20\n",
      "Average: 81.0\n"
     ]
    }
   ],
   "source": [
    "score = {'iu':100, 'heize': 70, 'zico':65, 'ailee':150,'rain': 20}\n",
    "\n",
    "score_list = score.values()\n",
    "score_list = sorted(score_list)\n",
    "\n",
    "print(\"Highest: %d\" %(max(score_list)))\n",
    "print(\"Lowest: %d\" %(min(score_list)))\n",
    "print(\"Average: %.1f\" %(sum(score_list)/len(score_list)))"
   ]
  },
  {
   "cell_type": "markdown",
   "id": "cadd9288",
   "metadata": {},
   "source": [
    "# 문제5."
   ]
  },
  {
   "cell_type": "code",
   "execution_count": 27,
   "id": "baf6e5cd",
   "metadata": {},
   "outputs": [
    {
     "name": "stdout",
     "output_type": "stream",
     "text": [
      "채울 음료 이름 입력: 포도주스\n",
      "자판기 목록에 없는 음료입니다.\n"
     ]
    }
   ],
   "source": [
    "items = { \"커피\": 5, \"콜라\": 3, \"생수\": 2,\"비타민워터\": 1 }\n",
    "\n",
    "item = input(\"채울 음료 이름 입력: \")\n",
    "\n",
    "if item not in items.keys() :\n",
    "    print(\"자판기 목록에 없는 음료입니다.\")\n",
    "else :\n",
    "    number = int(input(\"추가할 개수 입력: \"))\n",
    "    items[item] += number\n",
    "    print(items)"
   ]
  },
  {
   "cell_type": "code",
   "execution_count": 28,
   "id": "04d56ad4",
   "metadata": {},
   "outputs": [
    {
     "name": "stdout",
     "output_type": "stream",
     "text": [
      "채울 음료 이름 입력: 생수\n",
      "추가할 개수 입력: 3\n",
      "{'커피': 5, '콜라': 3, '생수': 5, '비타민워터': 1}\n"
     ]
    }
   ],
   "source": [
    "items = { \"커피\": 5, \"콜라\": 3, \"생수\": 2,\"비타민워터\": 1 }\n",
    "\n",
    "item = input(\"채울 음료 이름 입력: \")\n",
    "\n",
    "if item not in items.keys() :\n",
    "    print(\"자판기 목록에 없는 음료입니다.\")\n",
    "else :\n",
    "    number = int(input(\"추가할 개수 입력: \"))\n",
    "    items[item] += number\n",
    "    print(items)"
   ]
  },
  {
   "cell_type": "markdown",
   "id": "56dace8a",
   "metadata": {},
   "source": [
    "# 문제6."
   ]
  },
  {
   "cell_type": "code",
   "execution_count": 30,
   "id": "94614b60",
   "metadata": {},
   "outputs": [
    {
     "name": "stdout",
     "output_type": "stream",
     "text": [
      "수강생 이름 입력: 포닉스\n",
      "프로그래밍 수강생입니다.\n"
     ]
    }
   ],
   "source": [
    "Names = [\"포닉스\", \"넙죽이\", \"클로바\",\"독수리\"]\n",
    "\n",
    "student = input(\"수강생 이름 입력: \")\n",
    "\n",
    "if student in Names:\n",
    "    print(\"프로그래밍 수강생입니다.\")\n",
    "else :\n",
    "    print(\"프로그래밍 수강생이 아닙니다.\")"
   ]
  },
  {
   "cell_type": "code",
   "execution_count": 31,
   "id": "e76c8f30",
   "metadata": {},
   "outputs": [
    {
     "name": "stdout",
     "output_type": "stream",
     "text": [
      "수강생 이름 입력: 호랑이\n",
      "프로그래밍 수강생이 아닙니다.\n"
     ]
    }
   ],
   "source": [
    "Names = [\"포닉스\", \"넙죽이\", \"클로바\",\"독수리\"]\n",
    "\n",
    "student = input(\"수강생 이름 입력: \")\n",
    "\n",
    "if student in Names:\n",
    "    print(\"프로그래밍 수강생입니다.\")\n",
    "else :\n",
    "    print(\"프로그래밍 수강생이 아닙니다.\")"
   ]
  }
 ],
 "metadata": {
  "kernelspec": {
   "display_name": "Python 3 (ipykernel)",
   "language": "python",
   "name": "python3"
  },
  "language_info": {
   "codemirror_mode": {
    "name": "ipython",
    "version": 3
   },
   "file_extension": ".py",
   "mimetype": "text/x-python",
   "name": "python",
   "nbconvert_exporter": "python",
   "pygments_lexer": "ipython3",
   "version": "3.9.12"
  }
 },
 "nbformat": 4,
 "nbformat_minor": 5
}
