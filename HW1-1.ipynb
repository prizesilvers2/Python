{
 "cells": [
  {
   "cell_type": "markdown",
   "id": "43ad3542",
   "metadata": {},
   "source": [
    "# 파이썬 프로그래밍 기초 실습1-1"
   ]
  },
  {
   "cell_type": "markdown",
   "id": "54d10aa3",
   "metadata": {},
   "source": [
    "## 문제 1."
   ]
  },
  {
   "cell_type": "code",
   "execution_count": 30,
   "id": "3bb8eccd",
   "metadata": {},
   "outputs": [
    {
     "name": "stdout",
     "output_type": "stream",
     "text": [
      "화씨온도: 100\n",
      "섭씨온도: 37.7777777778\n"
     ]
    }
   ],
   "source": [
    "F = int(input(\"화씨온도: \"))\n",
    "C = float((F-32)*5/9)\n",
    "\n",
    "print(\"섭씨온도: %.10f\"%C)"
   ]
  },
  {
   "cell_type": "markdown",
   "id": "edc8bee2",
   "metadata": {},
   "source": [
    "## 문제 2."
   ]
  },
  {
   "cell_type": "code",
   "execution_count": 19,
   "id": "f3198ef5",
   "metadata": {},
   "outputs": [
    {
     "name": "stdout",
     "output_type": "stream",
     "text": [
      "투입한 돈 : 5000\n",
      "물건값 : 2700\n",
      "거스름돈 : 2300\n",
      "500원짜리 : 4개\n",
      "100원짜리 : 3개\n"
     ]
    }
   ],
   "source": [
    "money = int(input(\"투입한 돈 : \"))\n",
    "value = int(input(\"물건값 : \"))\n",
    "\n",
    "return_value = money - value\n",
    "cnt_500 = return_value//500\n",
    "cnt_100 = (return_value%500)//100\n",
    "\n",
    "print(\"거스름돈 : {}\".format(return_value))\n",
    "print(\"500원짜리 : {}개\".format(cnt_500))\n",
    "print(\"100원짜리 : {}개\".format(cnt_100))"
   ]
  },
  {
   "cell_type": "markdown",
   "id": "4c24651a",
   "metadata": {},
   "source": [
    "## 문제 3."
   ]
  },
  {
   "cell_type": "code",
   "execution_count": 18,
   "id": "7cadda68",
   "metadata": {},
   "outputs": [
    {
     "name": "stdout",
     "output_type": "stream",
     "text": [
      "반지름을 입력하시오 : 5\n",
      "원 둘레: 31.42\n",
      "원 넓이: 78.54\n"
     ]
    }
   ],
   "source": [
    "R = int(input(\"반지름을 입력하시오 : \"))\n",
    "\n",
    "pie = 3.141592\n",
    "print(\"원 둘레: {}\".format(round(2*pie*R,2)))\n",
    "print(\"원 넓이: {}\".format(round(pie*R**2,2)))"
   ]
  },
  {
   "cell_type": "markdown",
   "id": "ba59c50d",
   "metadata": {},
   "source": [
    "# 2. 따라해보기"
   ]
  },
  {
   "cell_type": "markdown",
   "id": "72cbbf6d",
   "metadata": {},
   "source": [
    "range() 함수 : 숫자 리스트를 자동으로 만들어 줌\n",
    "\n",
    "형식:\n",
    "\n",
    "range(시작값, 끝나는값, 증감정도)"
   ]
  },
  {
   "cell_type": "code",
   "execution_count": 14,
   "id": "ddf561ee",
   "metadata": {},
   "outputs": [
    {
     "data": {
      "text/plain": [
       "range(0, 5)"
      ]
     },
     "execution_count": 14,
     "metadata": {},
     "output_type": "execute_result"
    }
   ],
   "source": [
    "range(5)"
   ]
  },
  {
   "cell_type": "code",
   "execution_count": 15,
   "id": "7465b2b1",
   "metadata": {},
   "outputs": [
    {
     "data": {
      "text/plain": [
       "[0, 1, 2, 3, 4]"
      ]
     },
     "execution_count": 15,
     "metadata": {},
     "output_type": "execute_result"
    }
   ],
   "source": [
    "list(range(5))"
   ]
  },
  {
   "cell_type": "code",
   "execution_count": 16,
   "id": "171d5a8b",
   "metadata": {},
   "outputs": [
    {
     "data": {
      "text/plain": [
       "[1, 2, 3, 4, 5]"
      ]
     },
     "execution_count": 16,
     "metadata": {},
     "output_type": "execute_result"
    }
   ],
   "source": [
    "list(range(1,6))"
   ]
  },
  {
   "cell_type": "code",
   "execution_count": 17,
   "id": "6862563a",
   "metadata": {},
   "outputs": [
    {
     "data": {
      "text/plain": [
       "[1, 3, 5]"
      ]
     },
     "execution_count": 17,
     "metadata": {},
     "output_type": "execute_result"
    }
   ],
   "source": [
    "list(range(1,7,2))"
   ]
  },
  {
   "cell_type": "markdown",
   "id": "a4bba613",
   "metadata": {},
   "source": [
    "## 실습 1) 1~10까지의 리스트 생성"
   ]
  },
  {
   "cell_type": "code",
   "execution_count": 21,
   "id": "c6ebc1b0",
   "metadata": {},
   "outputs": [
    {
     "data": {
      "text/plain": [
       "[1, 2, 3, 4, 5, 6, 7, 8, 9, 10]"
      ]
     },
     "execution_count": 21,
     "metadata": {},
     "output_type": "execute_result"
    }
   ],
   "source": [
    "list(range(1,11))"
   ]
  },
  {
   "cell_type": "markdown",
   "id": "c37e50c1",
   "metadata": {},
   "source": [
    "## 실습 2) 10~1까지의 리스트 생성"
   ]
  },
  {
   "cell_type": "code",
   "execution_count": 22,
   "id": "d6288c08",
   "metadata": {},
   "outputs": [
    {
     "data": {
      "text/plain": [
       "[10, 9, 8, 7, 6, 5, 4, 3, 2, 1]"
      ]
     },
     "execution_count": 22,
     "metadata": {},
     "output_type": "execute_result"
    }
   ],
   "source": [
    "list(range(10, 0, -1))"
   ]
  },
  {
   "cell_type": "markdown",
   "id": "f50073ff",
   "metadata": {},
   "source": [
    "## 실습 3) 1~10까지 짝수 리스트 생성"
   ]
  },
  {
   "cell_type": "code",
   "execution_count": 26,
   "id": "12554f4f",
   "metadata": {},
   "outputs": [
    {
     "data": {
      "text/plain": [
       "[2, 4, 6, 8, 10]"
      ]
     },
     "execution_count": 26,
     "metadata": {},
     "output_type": "execute_result"
    }
   ],
   "source": [
    "even_list = list(range(2,11,2))\n",
    "even_list"
   ]
  },
  {
   "cell_type": "markdown",
   "id": "2d4db52d",
   "metadata": {},
   "source": [
    "## 실습 4) 1~10까지 홀수 리스트 생성"
   ]
  },
  {
   "cell_type": "code",
   "execution_count": 27,
   "id": "12512453",
   "metadata": {},
   "outputs": [
    {
     "data": {
      "text/plain": [
       "[1, 3, 5, 7, 9]"
      ]
     },
     "execution_count": 27,
     "metadata": {},
     "output_type": "execute_result"
    }
   ],
   "source": [
    "odd_list = list(range(1,11,2))\n",
    "odd_list"
   ]
  },
  {
   "cell_type": "markdown",
   "id": "534ea9fe",
   "metadata": {},
   "source": [
    "## 실습 5) 리스트 더하기"
   ]
  },
  {
   "cell_type": "code",
   "execution_count": 28,
   "id": "1f13dca2",
   "metadata": {},
   "outputs": [
    {
     "data": {
      "text/plain": [
       "[2, 4, 6, 8, 10, 1, 3, 5, 7, 9]"
      ]
     },
     "execution_count": 28,
     "metadata": {},
     "output_type": "execute_result"
    }
   ],
   "source": [
    "even_list + odd_list"
   ]
  },
  {
   "cell_type": "code",
   "execution_count": null,
   "id": "d807f5ac",
   "metadata": {},
   "outputs": [],
   "source": []
  }
 ],
 "metadata": {
  "kernelspec": {
   "display_name": "Python 3 (ipykernel)",
   "language": "python",
   "name": "python3"
  },
  "language_info": {
   "codemirror_mode": {
    "name": "ipython",
    "version": 3
   },
   "file_extension": ".py",
   "mimetype": "text/x-python",
   "name": "python",
   "nbconvert_exporter": "python",
   "pygments_lexer": "ipython3",
   "version": "3.9.12"
  }
 },
 "nbformat": 4,
 "nbformat_minor": 5
}
