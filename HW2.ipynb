{
 "cells": [
  {
   "cell_type": "markdown",
   "id": "8a99cc5e",
   "metadata": {},
   "source": [
    "# 파이썬 프로그래밍 기초 실습2"
   ]
  },
  {
   "cell_type": "markdown",
   "id": "8d1d624f",
   "metadata": {},
   "source": [
    "## 조건문(if)"
   ]
  },
  {
   "cell_type": "markdown",
   "id": "8320535c",
   "metadata": {},
   "source": [
    "## 문제 1."
   ]
  },
  {
   "cell_type": "code",
   "execution_count": 2,
   "id": "1c0ef292",
   "metadata": {},
   "outputs": [
    {
     "name": "stdout",
     "output_type": "stream",
     "text": [
      "Enter a number: 7\n",
      "7 is Odd number\n"
     ]
    }
   ],
   "source": [
    "num = int(input(\"Enter a number: \"))\n",
    "\n",
    "if (num%2 ==1) :\n",
    "    print(\"%d is Odd number\" %num)\n",
    "else :\n",
    "    print(\"%d is Even number\" %num)"
   ]
  },
  {
   "cell_type": "code",
   "execution_count": 3,
   "id": "8dbc940c",
   "metadata": {},
   "outputs": [
    {
     "name": "stdout",
     "output_type": "stream",
     "text": [
      "Enter a number: 14\n",
      "14 is Even number\n"
     ]
    }
   ],
   "source": [
    "num = int(input(\"Enter a number: \"))\n",
    "\n",
    "if (num%2 ==1) :\n",
    "    print(\"%d is Odd number\" %num)\n",
    "else :\n",
    "    print(\"%d is Even number\" %num)"
   ]
  },
  {
   "cell_type": "markdown",
   "id": "1adf3cfa",
   "metadata": {},
   "source": [
    "## 문제 2."
   ]
  },
  {
   "cell_type": "code",
   "execution_count": 6,
   "id": "26bbbaee",
   "metadata": {},
   "outputs": [
    {
     "name": "stdout",
     "output_type": "stream",
     "text": [
      "Enter your midterm score: 77\n",
      "Enter your final score: 56\n",
      "Average: 66.5\n",
      "Grade: D\n"
     ]
    }
   ],
   "source": [
    "mid = int(input(\"Enter your midterm score: \"))\n",
    "final = int(input(\"Enter your final score: \"))\n",
    "average = (mid+final)/2\n",
    "print(\"Average: %.1f\" %average)\n",
    "\n",
    "if average >=90:\n",
    "    GRADE = 'A'\n",
    "elif average >=80:\n",
    "    GRADE = 'B'\n",
    "elif average >=70:\n",
    "    GRADE = 'C'\n",
    "elif average >=60:\n",
    "    GRADE = 'D'\n",
    "else :\n",
    "    GRADE = 'F'\n",
    "    \n",
    "print(\"Grade: %s\" %GRADE)"
   ]
  },
  {
   "cell_type": "markdown",
   "id": "1808b4f6",
   "metadata": {},
   "source": [
    "## 문제 3."
   ]
  },
  {
   "cell_type": "code",
   "execution_count": 7,
   "id": "61659d67",
   "metadata": {},
   "outputs": [
    {
     "name": "stdout",
     "output_type": "stream",
     "text": [
      "영어 점수 입력: 40\n",
      "수학 점수 입력: 100\n",
      "합격\n"
     ]
    }
   ],
   "source": [
    "score_english = int(input(\"영어 점수 입력: \"))\n",
    "score_math = int(input(\"수학 점수 입력: \"))\n",
    "\n",
    "if(score_english+score_math <110):\n",
    "    print(\"불합격: 총합 점수 부족\")\n",
    "elif score_math<40:\n",
    "    print(\"불합격: 수학 점수 부족\")\n",
    "elif score_english<40:\n",
    "    print(\"불합격: 영어 점수 부족\")\n",
    "else :\n",
    "    print(\"합격\")"
   ]
  },
  {
   "cell_type": "markdown",
   "id": "7ee7a03b",
   "metadata": {},
   "source": [
    "## 문제 4."
   ]
  },
  {
   "cell_type": "code",
   "execution_count": 8,
   "id": "de587f50",
   "metadata": {},
   "outputs": [
    {
     "name": "stdout",
     "output_type": "stream",
     "text": [
      "세 개의 수를 입력하시오: 30 22 50\n",
      "가장 큰 수는 50입니다.\n"
     ]
    }
   ],
   "source": [
    "numbers = input(\"세 개의 수를 입력하시오: \").split()\n",
    "numbers = list(map(int, numbers))\n",
    "\n",
    "max_number = numbers[0]\n",
    "\n",
    "if(numbers[1]>max_number):\n",
    "    max_number = numbers[1]\n",
    "else :\n",
    "    if(numbers[2]> max_number):\n",
    "        max_number = numbers[2]\n",
    "\n",
    "print(\"가장 큰 수는 %d입니다.\" %max_number)"
   ]
  },
  {
   "cell_type": "markdown",
   "id": "48fb2f8b",
   "metadata": {},
   "source": [
    "## 반복문"
   ]
  },
  {
   "cell_type": "markdown",
   "id": "00899d82",
   "metadata": {},
   "source": [
    "## 문제1."
   ]
  },
  {
   "cell_type": "markdown",
   "id": "5c1e6668",
   "metadata": {},
   "source": [
    "(1) while문을 이용하여 작성"
   ]
  },
  {
   "cell_type": "code",
   "execution_count": 10,
   "id": "b3a31551",
   "metadata": {},
   "outputs": [
    {
     "name": "stdout",
     "output_type": "stream",
     "text": [
      "P\n",
      "y\n",
      "t\n",
      "h\n",
      "o\n",
      "n\n"
     ]
    }
   ],
   "source": [
    "word = 'Python'\n",
    "\n",
    "i = 0\n",
    "while i < len(word):\n",
    "    print(word[i])\n",
    "    i+=1"
   ]
  },
  {
   "cell_type": "markdown",
   "id": "8ebbbf92",
   "metadata": {},
   "source": [
    "(2) for문을 이용하여 작성"
   ]
  },
  {
   "cell_type": "code",
   "execution_count": 12,
   "id": "7f2ca75d",
   "metadata": {},
   "outputs": [
    {
     "name": "stdout",
     "output_type": "stream",
     "text": [
      "P\n",
      "y\n",
      "t\n",
      "h\n",
      "o\n",
      "n\n"
     ]
    }
   ],
   "source": [
    "word = 'Python'\n",
    "\n",
    "for i in word :\n",
    "    print(i)"
   ]
  },
  {
   "cell_type": "markdown",
   "id": "bb878d54",
   "metadata": {},
   "source": [
    "## 문제2."
   ]
  },
  {
   "cell_type": "code",
   "execution_count": 18,
   "id": "09fe15f2",
   "metadata": {},
   "outputs": [
    {
     "name": "stdout",
     "output_type": "stream",
     "text": [
      "10,9,8,7,6,5,4,3,2,1,Happy new year!!\n"
     ]
    }
   ],
   "source": [
    "print_list = [10,9,8,7,6,5,4,3,2,1,\"Happy new year!!\"]\n",
    "\n",
    "for i in range(len(print_list)) :\n",
    "    if i == len(print_list)-1 :\n",
    "        print(print_list[i])\n",
    "        break\n",
    "    else :\n",
    "        print(print_list[i], end=',')"
   ]
  },
  {
   "cell_type": "markdown",
   "id": "a5386cfb",
   "metadata": {},
   "source": [
    "## 문제3."
   ]
  },
  {
   "cell_type": "code",
   "execution_count": 27,
   "id": "628a9f17",
   "metadata": {},
   "outputs": [
    {
     "name": "stdout",
     "output_type": "stream",
     "text": [
      "Enter two integers: 5 10\n",
      "The sum from 5 to 10 is 15\n"
     ]
    }
   ],
   "source": [
    "nums = input(\"Enter two integers: \").split()\n",
    "a, b = int(nums[0]), int(nums[1])\n",
    "\n",
    "if a<=0 or b<=0 :\n",
    "    print(\"입력값이 음수입니다.\")\n",
    "elif a <=b :\n",
    "    print(\"The sum from %d to %d is %d\" %(a, b, a+b))\n",
    "else :\n",
    "    print(\"b가 a보다 작습니다.\")"
   ]
  },
  {
   "cell_type": "markdown",
   "id": "b0914023",
   "metadata": {},
   "source": [
    "## 문제4."
   ]
  },
  {
   "cell_type": "code",
   "execution_count": 29,
   "id": "4825cf82",
   "metadata": {},
   "outputs": [
    {
     "name": "stdout",
     "output_type": "stream",
     "text": [
      "3\n"
     ]
    }
   ],
   "source": [
    "word ='banana'\n",
    "cnt = 0\n",
    "for i in range(len(word)) :\n",
    "    if word[i] == 'a':\n",
    "        cnt +=1\n",
    "print(cnt)"
   ]
  },
  {
   "cell_type": "markdown",
   "id": "3e8383ad",
   "metadata": {},
   "source": [
    "## 문제5."
   ]
  },
  {
   "cell_type": "code",
   "execution_count": 31,
   "id": "5b3450b6",
   "metadata": {},
   "outputs": [
    {
     "name": "stdout",
     "output_type": "stream",
     "text": [
      "0 1 2 3 4 5 6 7 8 9 \n",
      "0 5 10 15 20 25 30 35 40 45 50 \n",
      "10 9 8 7 6 5 4 3 2 1 "
     ]
    }
   ],
   "source": [
    "for i in range(10):\n",
    "    print(i, end=' ')\n",
    "print()\n",
    "for i in range(0, 51, 5):\n",
    "    print(i, end=' ')\n",
    "print()\n",
    "for i in range(10, 0, -1):\n",
    "    print(i, end=' ')"
   ]
  },
  {
   "cell_type": "markdown",
   "id": "c0f1c67c",
   "metadata": {},
   "source": [
    "## 문제6."
   ]
  },
  {
   "cell_type": "code",
   "execution_count": 33,
   "id": "29856620",
   "metadata": {},
   "outputs": [
    {
     "name": "stdout",
     "output_type": "stream",
     "text": [
      "red\n",
      "green\n",
      "blue\n"
     ]
    }
   ],
   "source": [
    "colors = [\"red\", \"green\", \"blue\"]\n",
    "\n",
    "for i in colors :\n",
    "    print(i)"
   ]
  },
  {
   "cell_type": "markdown",
   "id": "4a1b6f24",
   "metadata": {},
   "source": [
    "## 문제7."
   ]
  },
  {
   "cell_type": "code",
   "execution_count": 35,
   "id": "c6c92350",
   "metadata": {},
   "outputs": [
    {
     "name": "stdout",
     "output_type": "stream",
     "text": [
      "4 6 8 10 12 "
     ]
    }
   ],
   "source": [
    "a = [1, 3, 4, 5, 6, 7, 8, 9, 10, 11, 12, 13]\n",
    "\n",
    "for i in a :\n",
    "    if i%2 ==0 :\n",
    "        print(i, end=' ')\n",
    "    else :\n",
    "        continue"
   ]
  },
  {
   "cell_type": "markdown",
   "id": "5a91f049",
   "metadata": {},
   "source": [
    "## 문제8."
   ]
  },
  {
   "cell_type": "code",
   "execution_count": 36,
   "id": "526d4a74",
   "metadata": {},
   "outputs": [
    {
     "name": "stdout",
     "output_type": "stream",
     "text": [
      "출력하고 싶은 단을 입력하세요: 7\n",
      "7 * 1 = 7\n",
      "7 * 2 = 14\n",
      "7 * 3 = 21\n",
      "7 * 4 = 28\n",
      "7 * 5 = 35\n",
      "7 * 6 = 42\n",
      "7 * 7 = 49\n",
      "7 * 8 = 56\n",
      "7 * 9 = 63\n"
     ]
    }
   ],
   "source": [
    "n = int(input(\"출력하고 싶은 단을 입력하세요: \"))\n",
    "\n",
    "for i in range(1,10,1):\n",
    "    print(\"%d * %d = %d\" %(n, i, n*i))"
   ]
  },
  {
   "cell_type": "markdown",
   "id": "6f92ca7b",
   "metadata": {},
   "source": [
    "## 문제9."
   ]
  },
  {
   "cell_type": "code",
   "execution_count": 38,
   "id": "7addce27",
   "metadata": {},
   "outputs": [
    {
     "name": "stdout",
     "output_type": "stream",
     "text": [
      "2 * 1 = 2\n",
      "2 * 2 = 4\n",
      "2 * 3 = 6\n",
      "2 * 4 = 8\n",
      "2 * 5 = 10\n",
      "2 * 6 = 12\n",
      "2 * 7 = 14\n",
      "2 * 8 = 16\n",
      "2 * 9 = 18\n",
      "3 * 1 = 3\n",
      "3 * 2 = 6\n",
      "3 * 3 = 9\n",
      "3 * 4 = 12\n",
      "3 * 5 = 15\n",
      "3 * 6 = 18\n",
      "3 * 7 = 21\n",
      "3 * 8 = 24\n",
      "3 * 9 = 27\n",
      "4 * 1 = 4\n",
      "4 * 2 = 8\n",
      "4 * 3 = 12\n",
      "4 * 4 = 16\n",
      "4 * 5 = 20\n",
      "4 * 6 = 24\n",
      "4 * 7 = 28\n",
      "4 * 8 = 32\n",
      "4 * 9 = 36\n",
      "5 * 1 = 5\n",
      "5 * 2 = 10\n",
      "5 * 3 = 15\n",
      "5 * 4 = 20\n",
      "5 * 5 = 25\n",
      "5 * 6 = 30\n",
      "5 * 7 = 35\n",
      "5 * 8 = 40\n",
      "5 * 9 = 45\n",
      "6 * 1 = 6\n",
      "6 * 2 = 12\n",
      "6 * 3 = 18\n",
      "6 * 4 = 24\n",
      "6 * 5 = 30\n",
      "6 * 6 = 36\n",
      "6 * 7 = 42\n",
      "6 * 8 = 48\n",
      "6 * 9 = 54\n",
      "7 * 1 = 7\n",
      "7 * 2 = 14\n",
      "7 * 3 = 21\n",
      "7 * 4 = 28\n",
      "7 * 5 = 35\n",
      "7 * 6 = 42\n",
      "7 * 7 = 49\n",
      "7 * 8 = 56\n",
      "7 * 9 = 63\n",
      "8 * 1 = 8\n",
      "8 * 2 = 16\n",
      "8 * 3 = 24\n",
      "8 * 4 = 32\n",
      "8 * 5 = 40\n",
      "8 * 6 = 48\n",
      "8 * 7 = 56\n",
      "8 * 8 = 64\n",
      "8 * 9 = 72\n",
      "9 * 1 = 9\n",
      "9 * 2 = 18\n",
      "9 * 3 = 27\n",
      "9 * 4 = 36\n",
      "9 * 5 = 45\n",
      "9 * 6 = 54\n",
      "9 * 7 = 63\n",
      "9 * 8 = 72\n",
      "9 * 9 = 81\n"
     ]
    }
   ],
   "source": [
    "for n in range(2, 10, 1):    \n",
    "    for i in range(1,10,1):\n",
    "        print(\"%d * %d = %d\" %(n, i, n*i))"
   ]
  },
  {
   "cell_type": "markdown",
   "id": "c75dcb86",
   "metadata": {},
   "source": [
    "## 문제10."
   ]
  },
  {
   "cell_type": "code",
   "execution_count": 49,
   "id": "b14482ff",
   "metadata": {},
   "outputs": [
    {
     "name": "stdout",
     "output_type": "stream",
     "text": [
      "  2*  1 =   2   3*  1 =   3   4*  1 =   4   5*  1 =   5   6*  1 =   6   7*  1 =   7   8*  1 =   8   9*  1 =   9 \n",
      "  2*  2 =   4   3*  2 =   6   4*  2 =   8   5*  2 =  10   6*  2 =  12   7*  2 =  14   8*  2 =  16   9*  2 =  18 \n",
      "  2*  3 =   6   3*  3 =   9   4*  3 =  12   5*  3 =  15   6*  3 =  18   7*  3 =  21   8*  3 =  24   9*  3 =  27 \n",
      "  2*  4 =   8   3*  4 =  12   4*  4 =  16   5*  4 =  20   6*  4 =  24   7*  4 =  28   8*  4 =  32   9*  4 =  36 \n",
      "  2*  5 =  10   3*  5 =  15   4*  5 =  20   5*  5 =  25   6*  5 =  30   7*  5 =  35   8*  5 =  40   9*  5 =  45 \n",
      "  2*  6 =  12   3*  6 =  18   4*  6 =  24   5*  6 =  30   6*  6 =  36   7*  6 =  42   8*  6 =  48   9*  6 =  54 \n",
      "  2*  7 =  14   3*  7 =  21   4*  7 =  28   5*  7 =  35   6*  7 =  42   7*  7 =  49   8*  7 =  56   9*  7 =  63 \n",
      "  2*  8 =  16   3*  8 =  24   4*  8 =  32   5*  8 =  40   6*  8 =  48   7*  8 =  56   8*  8 =  64   9*  8 =  72 \n",
      "  2*  9 =  18   3*  9 =  27   4*  9 =  36   5*  9 =  45   6*  9 =  54   7*  9 =  63   8*  9 =  72   9*  9 =  81 \n"
     ]
    }
   ],
   "source": [
    "for i in range(1,10,1):\n",
    "    for n in range(2, 10, 1):    \n",
    "        print(\"%3d*%3d = %3d\" %(n, i, i*n), end = \" \")\n",
    "    print(\"\")"
   ]
  },
  {
   "cell_type": "markdown",
   "id": "b740da0a",
   "metadata": {},
   "source": [
    "## 문제11."
   ]
  },
  {
   "cell_type": "code",
   "execution_count": 50,
   "id": "39483a85",
   "metadata": {},
   "outputs": [
    {
     "name": "stdout",
     "output_type": "stream",
     "text": [
      "Input an integer: 3159\n",
      "★★★\n",
      "★\n",
      "★★★★★\n",
      "★★★★★★★★★\n"
     ]
    }
   ],
   "source": [
    "numbers = input(\"Input an integer: \")\n",
    "\n",
    "for i in range(len(numbers)):\n",
    "    print(\"★\"*int(numbers[i]))"
   ]
  },
  {
   "cell_type": "markdown",
   "id": "e553bcbb",
   "metadata": {},
   "source": [
    "## 문제12."
   ]
  },
  {
   "cell_type": "code",
   "execution_count": 51,
   "id": "3ee30f4d",
   "metadata": {},
   "outputs": [
    {
     "name": "stdout",
     "output_type": "stream",
     "text": [
      "Enter a number: 7\n",
      "Enter a number: 2\n",
      "Enter a number: 9\n",
      "Enter a number: 3\n",
      "Enter a number: 5\n",
      "Enter a number: done\n",
      "[7.0, 2.0, 9.0, 3.0, 5.0]\n",
      "Average: 5.2\n",
      "Maximum: 9.0\n",
      "Minimum: 2.0\n"
     ]
    }
   ],
   "source": [
    "number = 0\n",
    "number_list = []\n",
    "\n",
    "while number != 'done' :\n",
    "        number = input(\"Enter a number: \")\n",
    "        if number =='done':\n",
    "            break\n",
    "        else :\n",
    "            number_list.append(int(number))\n",
    "        \n",
    "number_list = list(map(float, number_list))        \n",
    "print(number_list)\n",
    "print(\"Average: %.1f\" %(sum(number_list)/len(number_list)))\n",
    "print(\"Maximum: %.1f\" %(max(number_list)))\n",
    "print(\"Minimum: %.1f\" %(min(number_list)))"
   ]
  },
  {
   "cell_type": "code",
   "execution_count": null,
   "id": "5a69c2f7",
   "metadata": {},
   "outputs": [],
   "source": []
  }
 ],
 "metadata": {
  "kernelspec": {
   "display_name": "Python 3 (ipykernel)",
   "language": "python",
   "name": "python3"
  },
  "language_info": {
   "codemirror_mode": {
    "name": "ipython",
    "version": 3
   },
   "file_extension": ".py",
   "mimetype": "text/x-python",
   "name": "python",
   "nbconvert_exporter": "python",
   "pygments_lexer": "ipython3",
   "version": "3.9.12"
  }
 },
 "nbformat": 4,
 "nbformat_minor": 5
}
