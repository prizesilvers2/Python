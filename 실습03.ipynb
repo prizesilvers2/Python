{
 "cells": [
  {
   "cell_type": "markdown",
   "id": "bd1741bb",
   "metadata": {},
   "source": [
    "# 튜플"
   ]
  },
  {
   "cell_type": "markdown",
   "id": "cf5cf682",
   "metadata": {},
   "source": [
    ": 수정 불가능한 자료형  \n",
    ": 읽기만 가능  \n",
    ": 괄호 () 이용"
   ]
  },
  {
   "cell_type": "code",
   "execution_count": 7,
   "id": "84606ecc",
   "metadata": {},
   "outputs": [],
   "source": [
    "t1 = tuple()"
   ]
  },
  {
   "cell_type": "code",
   "execution_count": 8,
   "id": "f47d6d6f",
   "metadata": {},
   "outputs": [],
   "source": [
    "# 튜플 내부에 원소를 하나 넣고 싶은 경우에는 (원소1, ) 이렇게 써줘야 함\n",
    "t2 = (1,)"
   ]
  },
  {
   "cell_type": "code",
   "execution_count": 4,
   "id": "a33132f8",
   "metadata": {},
   "outputs": [
    {
     "data": {
      "text/plain": [
       "(1,)"
      ]
     },
     "execution_count": 4,
     "metadata": {},
     "output_type": "execute_result"
    }
   ],
   "source": [
    "t2"
   ]
  },
  {
   "cell_type": "code",
   "execution_count": 5,
   "id": "0caa93e0",
   "metadata": {},
   "outputs": [],
   "source": [
    "t3 =(1,2,3)"
   ]
  },
  {
   "cell_type": "code",
   "execution_count": 10,
   "id": "fa87ba5e",
   "metadata": {},
   "outputs": [],
   "source": [
    "# 괄호를 생략해도 튜플임\n",
    "t4 = 1,2,3"
   ]
  },
  {
   "cell_type": "code",
   "execution_count": 9,
   "id": "3366acc5",
   "metadata": {},
   "outputs": [
    {
     "data": {
      "text/plain": [
       "tuple"
      ]
     },
     "execution_count": 9,
     "metadata": {},
     "output_type": "execute_result"
    }
   ],
   "source": [
    "type(t4)"
   ]
  },
  {
   "cell_type": "markdown",
   "id": "02c783d3",
   "metadata": {},
   "source": [
    "## 튜플 인덱싱, 슬라이싱"
   ]
  },
  {
   "cell_type": "code",
   "execution_count": 11,
   "id": "c14c3e79",
   "metadata": {},
   "outputs": [],
   "source": [
    "t = 1,2,3,4,5,6"
   ]
  },
  {
   "cell_type": "code",
   "execution_count": 12,
   "id": "ff06ac50",
   "metadata": {},
   "outputs": [
    {
     "data": {
      "text/plain": [
       "1"
      ]
     },
     "execution_count": 12,
     "metadata": {},
     "output_type": "execute_result"
    }
   ],
   "source": [
    "t[0]"
   ]
  },
  {
   "cell_type": "code",
   "execution_count": 13,
   "id": "74920f06",
   "metadata": {},
   "outputs": [
    {
     "data": {
      "text/plain": [
       "(1, 2, 3)"
      ]
     },
     "execution_count": 13,
     "metadata": {},
     "output_type": "execute_result"
    }
   ],
   "source": [
    "t[:3]"
   ]
  },
  {
   "cell_type": "code",
   "execution_count": 14,
   "id": "13df1046",
   "metadata": {},
   "outputs": [
    {
     "data": {
      "text/plain": [
       "(5, 6)"
      ]
     },
     "execution_count": 14,
     "metadata": {},
     "output_type": "execute_result"
    }
   ],
   "source": [
    "t[4:6]"
   ]
  },
  {
   "cell_type": "code",
   "execution_count": 17,
   "id": "a2f2929a",
   "metadata": {},
   "outputs": [
    {
     "ename": "TypeError",
     "evalue": "'tuple' object does not support item assignment",
     "output_type": "error",
     "traceback": [
      "\u001b[0;31m---------------------------------------------------------------------------\u001b[0m",
      "\u001b[0;31mTypeError\u001b[0m                                 Traceback (most recent call last)",
      "Input \u001b[0;32mIn [17]\u001b[0m, in \u001b[0;36m<cell line: 2>\u001b[0;34m()\u001b[0m\n\u001b[1;32m      1\u001b[0m \u001b[38;5;66;03m# 튜플은 내부 값을 수정하려고 하면 에러가 발생함\u001b[39;00m\n\u001b[0;32m----> 2\u001b[0m t[\u001b[38;5;241m0\u001b[39m] \u001b[38;5;241m=\u001b[39m \u001b[38;5;241m7\u001b[39m\n",
      "\u001b[0;31mTypeError\u001b[0m: 'tuple' object does not support item assignment"
     ]
    }
   ],
   "source": [
    "# 튜플은 내부 값을 수정하려고 하면 에러가 발생함\n",
    "t[0] = 7"
   ]
  },
  {
   "cell_type": "markdown",
   "id": "d34bf7e2",
   "metadata": {},
   "source": [
    "## 튜플 더하기, 곱하기"
   ]
  },
  {
   "cell_type": "code",
   "execution_count": 18,
   "id": "70304d0f",
   "metadata": {},
   "outputs": [],
   "source": [
    "t1 =(1,2)"
   ]
  },
  {
   "cell_type": "code",
   "execution_count": 19,
   "id": "d830e6d1",
   "metadata": {},
   "outputs": [],
   "source": [
    "t2 =('a','b')"
   ]
  },
  {
   "cell_type": "code",
   "execution_count": 20,
   "id": "91511604",
   "metadata": {},
   "outputs": [],
   "source": [
    "t3 = t1+t2"
   ]
  },
  {
   "cell_type": "code",
   "execution_count": 21,
   "id": "e5634d6a",
   "metadata": {},
   "outputs": [
    {
     "data": {
      "text/plain": [
       "(1, 2, 'a', 'b')"
      ]
     },
     "execution_count": 21,
     "metadata": {},
     "output_type": "execute_result"
    }
   ],
   "source": [
    "t3"
   ]
  },
  {
   "cell_type": "code",
   "execution_count": 22,
   "id": "4e765d45",
   "metadata": {},
   "outputs": [
    {
     "data": {
      "text/plain": [
       "(1, 2, 1, 2, 1, 2)"
      ]
     },
     "execution_count": 22,
     "metadata": {},
     "output_type": "execute_result"
    }
   ],
   "source": [
    "t1*3"
   ]
  },
  {
   "cell_type": "markdown",
   "id": "c39a034c",
   "metadata": {},
   "source": [
    "## 튜플 패킹, 언패킹\n",
    "\n",
    "튜플 패킹 : 여러 데이터를 튜플로 묶는 것  \n",
    "튜플 언패킹 : 튜플의 각 항목을 여러 개의 변수에 할당하는 것  \n",
    "\n",
    "관련 함수 : index(), count()"
   ]
  },
  {
   "cell_type": "code",
   "execution_count": 24,
   "id": "8ab18a10",
   "metadata": {},
   "outputs": [],
   "source": [
    "a =1,2,3"
   ]
  },
  {
   "cell_type": "code",
   "execution_count": 25,
   "id": "c8f242cf",
   "metadata": {},
   "outputs": [
    {
     "data": {
      "text/plain": [
       "(1, 2, 3)"
      ]
     },
     "execution_count": 25,
     "metadata": {},
     "output_type": "execute_result"
    }
   ],
   "source": [
    "a"
   ]
  },
  {
   "cell_type": "code",
   "execution_count": 26,
   "id": "20192fc7",
   "metadata": {},
   "outputs": [],
   "source": [
    "one, two, three = a"
   ]
  },
  {
   "cell_type": "code",
   "execution_count": 27,
   "id": "616d6847",
   "metadata": {},
   "outputs": [
    {
     "name": "stdout",
     "output_type": "stream",
     "text": [
      "1 2 3\n"
     ]
    }
   ],
   "source": [
    "print(one, two, three)"
   ]
  },
  {
   "cell_type": "code",
   "execution_count": 29,
   "id": "ff8652a6",
   "metadata": {},
   "outputs": [
    {
     "data": {
      "text/plain": [
       "0"
      ]
     },
     "execution_count": 29,
     "metadata": {},
     "output_type": "execute_result"
    }
   ],
   "source": [
    "a.index(1)"
   ]
  },
  {
   "cell_type": "code",
   "execution_count": 30,
   "id": "0a411e41",
   "metadata": {},
   "outputs": [
    {
     "data": {
      "text/plain": [
       "1"
      ]
     },
     "execution_count": 30,
     "metadata": {},
     "output_type": "execute_result"
    }
   ],
   "source": [
    "a.count(1)"
   ]
  },
  {
   "cell_type": "markdown",
   "id": "8499bee5",
   "metadata": {},
   "source": [
    "# 집합\n",
    "\n",
    "순서없이 항목을 저장, 항목이 중복될 수 없음\n",
    "\n",
    "관련 함수기능 : .add() , .remove(), .update(), .discard(), .clear()"
   ]
  },
  {
   "cell_type": "code",
   "execution_count": 31,
   "id": "eed09589",
   "metadata": {},
   "outputs": [],
   "source": [
    "s1 = set([1,2,3])\n",
    "s2 = {3,4,5}"
   ]
  },
  {
   "cell_type": "code",
   "execution_count": 32,
   "id": "49726e27",
   "metadata": {},
   "outputs": [
    {
     "data": {
      "text/plain": [
       "'HelloHello'"
      ]
     },
     "execution_count": 32,
     "metadata": {},
     "output_type": "execute_result"
    }
   ],
   "source": [
    "word = \"Hello\"*2\n",
    "word"
   ]
  },
  {
   "cell_type": "code",
   "execution_count": 33,
   "id": "19d5d91f",
   "metadata": {},
   "outputs": [
    {
     "data": {
      "text/plain": [
       "['H', 'e', 'l', 'l', 'o', 'H', 'e', 'l', 'l', 'o']"
      ]
     },
     "execution_count": 33,
     "metadata": {},
     "output_type": "execute_result"
    }
   ],
   "source": [
    "word_list = list(word)\n",
    "word_list"
   ]
  },
  {
   "cell_type": "code",
   "execution_count": 34,
   "id": "63a6d6fe",
   "metadata": {},
   "outputs": [],
   "source": [
    "s3 = set(word_list)"
   ]
  },
  {
   "cell_type": "code",
   "execution_count": 35,
   "id": "8c5e0221",
   "metadata": {},
   "outputs": [
    {
     "data": {
      "text/plain": [
       "{'H', 'e', 'l', 'o'}"
      ]
     },
     "execution_count": 35,
     "metadata": {},
     "output_type": "execute_result"
    }
   ],
   "source": [
    "s3"
   ]
  },
  {
   "cell_type": "code",
   "execution_count": 36,
   "id": "d8e9afd9",
   "metadata": {},
   "outputs": [],
   "source": [
    "s4 = set(\"Hello\")"
   ]
  },
  {
   "cell_type": "code",
   "execution_count": 37,
   "id": "9bd579a5",
   "metadata": {},
   "outputs": [
    {
     "data": {
      "text/plain": [
       "{'H', 'e', 'l', 'o'}"
      ]
     },
     "execution_count": 37,
     "metadata": {},
     "output_type": "execute_result"
    }
   ],
   "source": [
    "s4"
   ]
  },
  {
   "cell_type": "code",
   "execution_count": 38,
   "id": "43a8346c",
   "metadata": {},
   "outputs": [],
   "source": [
    "t = tuple(s4)"
   ]
  },
  {
   "cell_type": "code",
   "execution_count": 39,
   "id": "3446308b",
   "metadata": {},
   "outputs": [
    {
     "data": {
      "text/plain": [
       "('H', 'o', 'e', 'l')"
      ]
     },
     "execution_count": 39,
     "metadata": {},
     "output_type": "execute_result"
    }
   ],
   "source": [
    "t"
   ]
  },
  {
   "cell_type": "code",
   "execution_count": 53,
   "id": "5398747c",
   "metadata": {},
   "outputs": [],
   "source": [
    "order = [1,1,3,4,5,6,6,88,100]\n",
    "new1 = list(set(order))\n",
    "new1.sort()"
   ]
  },
  {
   "cell_type": "code",
   "execution_count": 54,
   "id": "8887c1d2",
   "metadata": {},
   "outputs": [
    {
     "data": {
      "text/plain": [
       "[1, 3, 4, 5, 6, 88, 100]"
      ]
     },
     "execution_count": 54,
     "metadata": {},
     "output_type": "execute_result"
    }
   ],
   "source": [
    "new1"
   ]
  },
  {
   "cell_type": "code",
   "execution_count": 42,
   "id": "2eaef42f",
   "metadata": {},
   "outputs": [
    {
     "data": {
      "text/plain": [
       "{1, 2, 3, 4, 5}"
      ]
     },
     "execution_count": 42,
     "metadata": {},
     "output_type": "execute_result"
    }
   ],
   "source": [
    "s = {1,2,3,4,5,3,4}\n",
    "s"
   ]
  },
  {
   "cell_type": "code",
   "execution_count": 43,
   "id": "f7ca6c32",
   "metadata": {},
   "outputs": [],
   "source": [
    "## 하나의 값을 올려주고 싶을 때\n",
    "s.add(10)"
   ]
  },
  {
   "cell_type": "code",
   "execution_count": 44,
   "id": "6bb32eb7",
   "metadata": {},
   "outputs": [
    {
     "data": {
      "text/plain": [
       "{1, 2, 3, 4, 5, 10}"
      ]
     },
     "execution_count": 44,
     "metadata": {},
     "output_type": "execute_result"
    }
   ],
   "source": [
    "s"
   ]
  },
  {
   "cell_type": "code",
   "execution_count": 45,
   "id": "b8e3c3bd",
   "metadata": {},
   "outputs": [],
   "source": [
    "## 2 라는 원소를 없애라(이 원소를 무조건 지워라)\n",
    "s.remove(2)"
   ]
  },
  {
   "cell_type": "code",
   "execution_count": 46,
   "id": "2ab70748",
   "metadata": {},
   "outputs": [
    {
     "data": {
      "text/plain": [
       "{1, 3, 4, 5, 10}"
      ]
     },
     "execution_count": 46,
     "metadata": {},
     "output_type": "execute_result"
    }
   ],
   "source": [
    "s"
   ]
  },
  {
   "cell_type": "code",
   "execution_count": 47,
   "id": "84fc19ec",
   "metadata": {},
   "outputs": [],
   "source": [
    "## 여러개의 값을 올려주고 싶을 때\n",
    "s.update([1,3,5,7,9])"
   ]
  },
  {
   "cell_type": "code",
   "execution_count": 48,
   "id": "6dbee6a1",
   "metadata": {},
   "outputs": [
    {
     "data": {
      "text/plain": [
       "{1, 3, 4, 5, 7, 9, 10}"
      ]
     },
     "execution_count": 48,
     "metadata": {},
     "output_type": "execute_result"
    }
   ],
   "source": [
    "s"
   ]
  },
  {
   "cell_type": "code",
   "execution_count": 49,
   "id": "22ac667b",
   "metadata": {},
   "outputs": [],
   "source": [
    "## 7 원소를 없애라(이 원소가 없으면 그냥 두어라)\n",
    "s.discard(7)"
   ]
  },
  {
   "cell_type": "code",
   "execution_count": 50,
   "id": "86773b00",
   "metadata": {},
   "outputs": [
    {
     "data": {
      "text/plain": [
       "{1, 3, 4, 5, 9, 10}"
      ]
     },
     "execution_count": 50,
     "metadata": {},
     "output_type": "execute_result"
    }
   ],
   "source": [
    "s"
   ]
  },
  {
   "cell_type": "code",
   "execution_count": 51,
   "id": "cebd1c7e",
   "metadata": {},
   "outputs": [
    {
     "data": {
      "text/plain": [
       "set()"
      ]
     },
     "execution_count": 51,
     "metadata": {},
     "output_type": "execute_result"
    }
   ],
   "source": [
    "s.clear()\n",
    "s"
   ]
  },
  {
   "cell_type": "markdown",
   "id": "3464219f",
   "metadata": {},
   "source": [
    "## 합집합, 교집합, 차집합\n",
    "\n",
    "합집합 : A.union(B)              A | B  \n",
    "교집합 : A.intersection(B)       A & B  \n",
    "차집합 : A.difference(B)         A - B  "
   ]
  },
  {
   "cell_type": "code",
   "execution_count": 55,
   "id": "5f4d4fc9",
   "metadata": {},
   "outputs": [
    {
     "data": {
      "text/plain": [
       "{1, 2, 3, 4, 5}"
      ]
     },
     "execution_count": 55,
     "metadata": {},
     "output_type": "execute_result"
    }
   ],
   "source": [
    "s1 = {1,2,3}\n",
    "s2 = {3,4,5}\n",
    "\n",
    "s1.union(s2)"
   ]
  },
  {
   "cell_type": "code",
   "execution_count": 56,
   "id": "079473bd",
   "metadata": {},
   "outputs": [
    {
     "data": {
      "text/plain": [
       "{3}"
      ]
     },
     "execution_count": 56,
     "metadata": {},
     "output_type": "execute_result"
    }
   ],
   "source": [
    "s1.intersection(s2)"
   ]
  },
  {
   "cell_type": "code",
   "execution_count": 57,
   "id": "5e298981",
   "metadata": {},
   "outputs": [
    {
     "data": {
      "text/plain": [
       "{1, 2}"
      ]
     },
     "execution_count": 57,
     "metadata": {},
     "output_type": "execute_result"
    }
   ],
   "source": [
    "s1-s2"
   ]
  },
  {
   "cell_type": "code",
   "execution_count": 58,
   "id": "aba7ec8b",
   "metadata": {},
   "outputs": [
    {
     "data": {
      "text/plain": [
       "{1, 2, 3, 4, 5}"
      ]
     },
     "execution_count": 58,
     "metadata": {},
     "output_type": "execute_result"
    }
   ],
   "source": [
    "s1|s2"
   ]
  },
  {
   "cell_type": "code",
   "execution_count": 59,
   "id": "a6407035",
   "metadata": {},
   "outputs": [
    {
     "data": {
      "text/plain": [
       "{3}"
      ]
     },
     "execution_count": 59,
     "metadata": {},
     "output_type": "execute_result"
    }
   ],
   "source": [
    "s1&s2"
   ]
  },
  {
   "cell_type": "markdown",
   "id": "d6b48f5e",
   "metadata": {},
   "source": [
    "### 실습"
   ]
  },
  {
   "cell_type": "code",
   "execution_count": 66,
   "id": "b76c9245",
   "metadata": {},
   "outputs": [
    {
     "name": "stdout",
     "output_type": "stream",
     "text": [
      "[15, 30, 45, 60, 75, 90] \n",
      "3과 5의 공배수: 6\n"
     ]
    }
   ],
   "source": [
    "s3 = set([x for x in range(0,101,3)]) - set([0])\n",
    "s5 = set([y for y in range(0,101,5)]) - set([0])\n",
    "\n",
    "s = s3 & s5\n",
    "s_list = list(s)\n",
    "s_list.sort()\n",
    "\n",
    "print(s_list, end=' ')\n",
    "print(\"\")\n",
    "print(\"3과 5의 공배수: %d\" %(len(s_list)))"
   ]
  },
  {
   "cell_type": "code",
   "execution_count": 77,
   "id": "1d31b99d",
   "metadata": {},
   "outputs": [
    {
     "name": "stdout",
     "output_type": "stream",
     "text": [
      "[15, 30, 45, 60, 75, 90]\n",
      "3과 5의 공배수: 6\n"
     ]
    }
   ],
   "source": [
    "num3 = []\n",
    "num5 = []\n",
    "\n",
    "for i in range(1, 101) :\n",
    "    if i%3==0 :\n",
    "        num3.append(i)\n",
    "    if i%5 == 0 :\n",
    "        num5.append(i)\n",
    "        \n",
    "num = set(num3) & set(num5)\n",
    "print(sorted(num))\n",
    "print(\"3과 5의 공배수: %d\" %(len(num)))"
   ]
  },
  {
   "cell_type": "code",
   "execution_count": 80,
   "id": "37793b59",
   "metadata": {},
   "outputs": [
    {
     "name": "stdout",
     "output_type": "stream",
     "text": [
      "[15, 30, 45, 60, 75, 90]\n",
      "3과 5의 공배수: 6\n"
     ]
    }
   ],
   "source": [
    "nb3 = set([k for k in range(1,101) if k%3==0])\n",
    "nb5 = set([m for m in range(1,101) if m%5==0])\n",
    "\n",
    "nb = nb3 & nb5\n",
    "print(sorted(nb))\n",
    "print(\"3과 5의 공배수: %d\" %(len(nb)))"
   ]
  },
  {
   "cell_type": "markdown",
   "id": "5adf498c",
   "metadata": {},
   "source": [
    "# 딕셔너리\n",
    "\n",
    ": 중괄호{} 묶임  \n",
    ": key , value의 쌍으로 이뤄짐\n",
    ": key 는 중복 될 수 없음  \n",
    ": 항목들 사이에 순서가 없음  \n",
    "\n",
    "```\n",
    "d = {key1 : value1 , key2 : value2}\n",
    "```"
   ]
  },
  {
   "cell_type": "code",
   "execution_count": 81,
   "id": "3ea0955c",
   "metadata": {},
   "outputs": [
    {
     "data": {
      "text/plain": [
       "{'kim': 1, 'park': 2}"
      ]
     },
     "execution_count": 81,
     "metadata": {},
     "output_type": "execute_result"
    }
   ],
   "source": [
    "d = {}\n",
    "d['kim'] = 1\n",
    "d['park'] =2\n",
    "d"
   ]
  },
  {
   "cell_type": "code",
   "execution_count": 82,
   "id": "8e65e234",
   "metadata": {},
   "outputs": [
    {
     "data": {
      "text/plain": [
       "2"
      ]
     },
     "execution_count": 82,
     "metadata": {},
     "output_type": "execute_result"
    }
   ],
   "source": [
    "d['park']"
   ]
  },
  {
   "cell_type": "code",
   "execution_count": 83,
   "id": "195c5532",
   "metadata": {},
   "outputs": [
    {
     "data": {
      "text/plain": [
       "1"
      ]
     },
     "execution_count": 83,
     "metadata": {},
     "output_type": "execute_result"
    }
   ],
   "source": [
    "d['kim']"
   ]
  },
  {
   "cell_type": "code",
   "execution_count": 84,
   "id": "9684f234",
   "metadata": {},
   "outputs": [],
   "source": [
    "d['youn'] = 1"
   ]
  },
  {
   "cell_type": "code",
   "execution_count": 85,
   "id": "383297a6",
   "metadata": {},
   "outputs": [
    {
     "data": {
      "text/plain": [
       "{'kim': 1, 'park': 2, 'youn': 1}"
      ]
     },
     "execution_count": 85,
     "metadata": {},
     "output_type": "execute_result"
    }
   ],
   "source": [
    "d"
   ]
  },
  {
   "cell_type": "code",
   "execution_count": 86,
   "id": "cf534899",
   "metadata": {},
   "outputs": [
    {
     "data": {
      "text/plain": [
       "dict_keys(['kim', 'park', 'youn'])"
      ]
     },
     "execution_count": 86,
     "metadata": {},
     "output_type": "execute_result"
    }
   ],
   "source": [
    "d.keys()"
   ]
  },
  {
   "cell_type": "code",
   "execution_count": 87,
   "id": "8b29d0bc",
   "metadata": {},
   "outputs": [
    {
     "data": {
      "text/plain": [
       "dict_values([1, 2, 1])"
      ]
     },
     "execution_count": 87,
     "metadata": {},
     "output_type": "execute_result"
    }
   ],
   "source": [
    "d.values()"
   ]
  },
  {
   "cell_type": "code",
   "execution_count": 89,
   "id": "c56b23c5",
   "metadata": {},
   "outputs": [
    {
     "data": {
      "text/plain": [
       "dict_items([('kim', 1), ('park', 2), ('youn', 1)])"
      ]
     },
     "execution_count": 89,
     "metadata": {},
     "output_type": "execute_result"
    }
   ],
   "source": [
    "# 키와 값의 항목을 튜플 형태로\n",
    "\n",
    "d.items()"
   ]
  },
  {
   "cell_type": "code",
   "execution_count": 90,
   "id": "199218d3",
   "metadata": {},
   "outputs": [
    {
     "data": {
      "text/plain": [
       "True"
      ]
     },
     "execution_count": 90,
     "metadata": {},
     "output_type": "execute_result"
    }
   ],
   "source": [
    "'kim' in d"
   ]
  },
  {
   "cell_type": "code",
   "execution_count": 91,
   "id": "b9711cc9",
   "metadata": {},
   "outputs": [
    {
     "data": {
      "text/plain": [
       "False"
      ]
     },
     "execution_count": 91,
     "metadata": {},
     "output_type": "execute_result"
    }
   ],
   "source": [
    "'lee' in d"
   ]
  },
  {
   "cell_type": "code",
   "execution_count": 92,
   "id": "a37258e5",
   "metadata": {},
   "outputs": [],
   "source": [
    "del d['kim']"
   ]
  },
  {
   "cell_type": "code",
   "execution_count": 93,
   "id": "8ab70676",
   "metadata": {},
   "outputs": [
    {
     "data": {
      "text/plain": [
       "{'park': 2, 'youn': 1}"
      ]
     },
     "execution_count": 93,
     "metadata": {},
     "output_type": "execute_result"
    }
   ],
   "source": [
    "d"
   ]
  },
  {
   "cell_type": "code",
   "execution_count": 94,
   "id": "16a30123",
   "metadata": {},
   "outputs": [],
   "source": [
    "d.clear()"
   ]
  },
  {
   "cell_type": "code",
   "execution_count": 95,
   "id": "6fd7457d",
   "metadata": {},
   "outputs": [
    {
     "data": {
      "text/plain": [
       "{}"
      ]
     },
     "execution_count": 95,
     "metadata": {},
     "output_type": "execute_result"
    }
   ],
   "source": [
    "d"
   ]
  },
  {
   "cell_type": "markdown",
   "id": "e47595a2",
   "metadata": {},
   "source": [
    "### 실습"
   ]
  },
  {
   "cell_type": "code",
   "execution_count": 105,
   "id": "1b752799",
   "metadata": {},
   "outputs": [
    {
     "name": "stdout",
     "output_type": "stream",
     "text": [
      "Enter a sentence : Python is fun!\n",
      "{'P': 1, 'y': 1, 't': 1, 'h': 1, 'o': 1, 'n': 2, ' ': 2, 'i': 1, 's': 1, 'f': 1, 'u': 1, '!': 1} "
     ]
    }
   ],
   "source": [
    "sentence = input(\"Enter a sentence : \")\n",
    "dict_sent = {}\n",
    "\n",
    "for i in range(len(sentence)) :\n",
    "    i = sentence[i]\n",
    "    if i in dict_sent.keys() :\n",
    "        dict_sent[i] +=1\n",
    "    else :\n",
    "        dict_sent[i] =1\n",
    "\n",
    "print(dict_sent, end = \" \")"
   ]
  },
  {
   "cell_type": "markdown",
   "id": "068c5f5c",
   "metadata": {},
   "source": [
    "# 함수와 모듈\n",
    "\n",
    ": (좋은 함수)매개변수를 가지고 함수이름의 작업을 해서 반환값을 주는 함수  \n",
    ": 매개변수 있/없 가능  \n",
    ": 반환값 있/없 가능\n",
    "\n",
    "```\n",
    "def 함수이름(매개변수) :\n",
    "수행할 문장\n",
    "…\n",
    "return 반환값\n",
    "```"
   ]
  },
  {
   "cell_type": "code",
   "execution_count": 107,
   "id": "2b50ac00",
   "metadata": {},
   "outputs": [],
   "source": [
    "def add(a, b) :\n",
    "    result = a + b\n",
    "    return result"
   ]
  },
  {
   "cell_type": "code",
   "execution_count": 108,
   "id": "42b4f610",
   "metadata": {},
   "outputs": [
    {
     "name": "stdout",
     "output_type": "stream",
     "text": [
      "300\n"
     ]
    }
   ],
   "source": [
    "add_result = add(100, 200)\n",
    "print(add_result) "
   ]
  },
  {
   "cell_type": "code",
   "execution_count": 114,
   "id": "c21cdf37",
   "metadata": {},
   "outputs": [
    {
     "name": "stdout",
     "output_type": "stream",
     "text": [
      "8\n"
     ]
    }
   ],
   "source": [
    "def add3add5() :\n",
    "    return 8\n",
    "\n",
    "def print_this(s) :\n",
    "    print(s)\n",
    "    \n",
    "print_this(add3add5())"
   ]
  },
  {
   "cell_type": "code",
   "execution_count": 115,
   "id": "5cbf3216",
   "metadata": {},
   "outputs": [
    {
     "name": "stdout",
     "output_type": "stream",
     "text": [
      "7\n",
      "12\n"
     ]
    }
   ],
   "source": [
    "# 튜플이나 리스트를 이용해 여러 개의 값을 반환할 수 있음\n",
    "\n",
    "def add_and_mul(a, b) :\n",
    "    return (a+b, a*b)\n",
    "\n",
    "add_res, mul_res = add_and_mul(3,4)\n",
    "print(add_res)\n",
    "print(mul_res)"
   ]
  },
  {
   "cell_type": "code",
   "execution_count": 117,
   "id": "18630f40",
   "metadata": {},
   "outputs": [
    {
     "name": "stdout",
     "output_type": "stream",
     "text": [
      "7\n",
      "12\n"
     ]
    }
   ],
   "source": [
    "def add_and_mul2(a, b) :\n",
    "    return a+b, a*b\n",
    "\n",
    "# 하나의 값만 필요할 때는 _ 로 선언해줘도 됨\n",
    "add_res2, _ = add_and_mul2(3,4)\n",
    "print(add_res2)\n",
    "print(_)"
   ]
  },
  {
   "cell_type": "markdown",
   "id": "b92712cc",
   "metadata": {},
   "source": [
    "# 실습1"
   ]
  },
  {
   "cell_type": "code",
   "execution_count": 118,
   "id": "1fcc6f94",
   "metadata": {},
   "outputs": [
    {
     "name": "stdout",
     "output_type": "stream",
     "text": [
      "6 14\n",
      "6 14\n"
     ]
    }
   ],
   "source": [
    "def my_len(x) :\n",
    "    length = 0\n",
    "    for i in x :\n",
    "        length += 1 \n",
    "    return length\n",
    "\n",
    "a = [5,5,6,7,8,3]\n",
    "b = 'Life is short.'\n",
    "print(len(a), len(b)) # 내장 함수 len()\n",
    "print(my_len(a), my_len(b)) # my_len()"
   ]
  },
  {
   "cell_type": "markdown",
   "id": "2264a25a",
   "metadata": {},
   "source": [
    "# 실습2"
   ]
  },
  {
   "cell_type": "code",
   "execution_count": 121,
   "id": "580ef3f6",
   "metadata": {},
   "outputs": [
    {
     "name": "stdout",
     "output_type": "stream",
     "text": [
      "6\n",
      "120\n"
     ]
    }
   ],
   "source": [
    "def mult(a, b):\n",
    "    value = 1\n",
    "    for i in range(a, b+1, 1) :\n",
    "        value = value *i\n",
    "    return value\n",
    "\n",
    "print(mult(1,3))\n",
    "print(mult(2,5))"
   ]
  },
  {
   "cell_type": "code",
   "execution_count": 159,
   "id": "08a2a92f",
   "metadata": {},
   "outputs": [
    {
     "name": "stdout",
     "output_type": "stream",
     "text": [
      "6\n",
      "120\n"
     ]
    }
   ],
   "source": [
    "# 재귀함수\n",
    "def mult2(a, b):\n",
    "    if a == b :\n",
    "        return a\n",
    "    return mult2(a, b-1)*b\n",
    "\n",
    "print(mult(1,3))\n",
    "print(mult(2,5))"
   ]
  },
  {
   "cell_type": "markdown",
   "id": "6a77e287",
   "metadata": {},
   "source": [
    "# 실습3"
   ]
  },
  {
   "cell_type": "code",
   "execution_count": 122,
   "id": "44ebb267",
   "metadata": {},
   "outputs": [
    {
     "name": "stdout",
     "output_type": "stream",
     "text": [
      "7 -9\n",
      "1 -1\n"
     ]
    }
   ],
   "source": [
    "def sum_pos_neg(l):\n",
    "    sum_p = 0\n",
    "    sum_n = 0\n",
    "    for i in l :\n",
    "        if i <0 :\n",
    "            sum_n += i\n",
    "        else :\n",
    "            sum_p += i\n",
    "            \n",
    "    return sum_p, sum_n\n",
    "\n",
    "possum,negsum = sum_pos_neg([3,4,-6,-3])\n",
    "print(possum,negsum) # 7 -9\n",
    "mylist=[0,0,0,0,0,0,0,0,0,1,-1]\n",
    "possum2,negsum2 = sum_pos_neg(mylist)\n",
    "print(possum2,negsum2) # 1 -1"
   ]
  },
  {
   "cell_type": "code",
   "execution_count": 174,
   "id": "f34068c3",
   "metadata": {},
   "outputs": [
    {
     "data": {
      "text/plain": [
       "(7, -9)"
      ]
     },
     "execution_count": 174,
     "metadata": {},
     "output_type": "execute_result"
    }
   ],
   "source": [
    "def sum_pos_neg2(l) :\n",
    "    if not l :\n",
    "        return 0,0\n",
    "    x = l.pop()\n",
    "    pos, neg = sum_pos_neg2(l)\n",
    "    if x>0 :\n",
    "        pos +=x\n",
    "    else :\n",
    "        neg +=x\n",
    "    return pos, neg\n",
    "\n",
    "sum_pos_neg2([3,4,-6,-3])"
   ]
  },
  {
   "cell_type": "markdown",
   "id": "32fc86a2",
   "metadata": {},
   "source": [
    "# 가변 매개변수\n",
    "\n",
    ": 매개변수가 몇 개인지 모를 경우  \n",
    "\n",
    "```\n",
    "def 함수이름 (*매개변수) :\n",
    "수행할 문장\n",
    "…\n",
    "```"
   ]
  },
  {
   "cell_type": "code",
   "execution_count": 123,
   "id": "1f97b265",
   "metadata": {},
   "outputs": [
    {
     "data": {
      "text/plain": [
       "2"
      ]
     },
     "execution_count": 123,
     "metadata": {},
     "output_type": "execute_result"
    }
   ],
   "source": [
    "def count_even(*n) :\n",
    "    cnt = 0\n",
    "    for v in n :\n",
    "        if v % 2 == 0 :\n",
    "            cnt +=1\n",
    "    return cnt\n",
    "\n",
    "count_even(1,2,3,4,5)"
   ]
  },
  {
   "cell_type": "markdown",
   "id": "5226970e",
   "metadata": {},
   "source": [
    "## 실습4"
   ]
  },
  {
   "cell_type": "code",
   "execution_count": 162,
   "id": "3258a064",
   "metadata": {},
   "outputs": [
    {
     "name": "stdout",
     "output_type": "stream",
     "text": [
      "[1.5, 1.5] [7.5, 5.5] [4.140000000000001, 2.72]\n"
     ]
    }
   ],
   "source": [
    "def vector_sum(vector, *vectors):\n",
    "    s_vector = [vector[0], vector[1]]\n",
    "    for i in vectors :\n",
    "        for j in range(0,2) :\n",
    "            s_vector[j] += i[j]\n",
    "    return s_vector\n",
    "\n",
    "v1=[0, 1]\n",
    "v2=[0.5, 0.5]\n",
    "v3=[1, 0]\n",
    "v4=[6, 4]\n",
    "v5=[3.14, 2.72]\n",
    "\n",
    "m1 = vector_sum(v1, v2, v3)\n",
    "m2 = vector_sum(v1, v2, v3, v4)\n",
    "m3 = vector_sum(v3, v5)\n",
    "print(m1, m2, m3)"
   ]
  },
  {
   "cell_type": "code",
   "execution_count": 178,
   "id": "d9dbc79d",
   "metadata": {},
   "outputs": [
    {
     "name": "stdout",
     "output_type": "stream",
     "text": [
      "[1.5, 1.5] [7.5, 5.5] [4.140000000000001, 2.72]\n"
     ]
    }
   ],
   "source": [
    "def vector_sum2(vector, *vectors) :\n",
    "    result = vector.copy()\n",
    "    for x, y in vectors :\n",
    "        result[0] += x\n",
    "        result[1] += y\n",
    "    return result\n",
    "\n",
    "v1=[0, 1]\n",
    "v2=[0.5, 0.5]\n",
    "v3=[1, 0]\n",
    "v4=[6, 4]\n",
    "v5=[3.14, 2.72]\n",
    "\n",
    "m1 = vector_sum(v1, v2, v3)\n",
    "m2 = vector_sum(v1, v2, v3, v4)\n",
    "m3 = vector_sum(v3, v5)\n",
    "print(m1, m2, m3)"
   ]
  },
  {
   "cell_type": "markdown",
   "id": "3396f311",
   "metadata": {},
   "source": [
    "# 디폴트 매개변수\n",
    "\n",
    ": 매개변수의 기본값을 지정해줄 수 있다.  \n",
    ": 함수 호출 시, 해당 매개변수에 대응되는 값을 주지 않으면 저으이할 때 지정한 기본값을 가짐\n",
    "  \n",
    "   \n",
    "   \n",
    "+ 앞 매개변수가 디폴트 값을 가지면, 뒤에 오는 매개변수는 반드시 디폴트 값을 가져야 함\n",
    "```\n",
    "# 맨 뒤에 디폴트 값을 위치 시켜줘야 함\n",
    "def print_name(first, second='Kim'): # 정상\n",
    "def print_name(first='Kim', second): # 에러 발생\n",
    "def print_name(first, second, third='Kim'): # 정상\n",
    "def print_name(first, second='Kim', third='M') # 정상\n",
    "```  \n",
    "\n",
    "+ 함수 호출 시, 해당 매개변수 이름을 명시적으로 지정해서 전달  \n",
    "```\n",
    "def calc(x, y=0, z=0) :\n",
    "return x+y+z\n",
    "result = calc(y=20, x=10, z=30) # 매개변수 순서 상관 없음\n",
    "print(result)\n",
    ">>> calc(y=20, x=10) # 정상\n",
    ">>> calc(10, y=30, z=20) # 정상\n",
    ">>> calc(10, 30, y=20) # 에러 발생\n",
    "```"
   ]
  },
  {
   "cell_type": "code",
   "execution_count": 176,
   "id": "219b936c",
   "metadata": {},
   "outputs": [
    {
     "name": "stdout",
     "output_type": "stream",
     "text": [
      "My name is Gildong Hong.\n",
      "My name is Gildong Kim.\n"
     ]
    }
   ],
   "source": [
    "def print_name(first, second='Kim'): #second 변수 기본값 'Kim'\n",
    "    print ('My name is', first, second + '.')\n",
    "\n",
    "print_name('Gildong', 'Hong')\n",
    "print_name('Gildong') #second 변수에 대응되는 값을 주지 않았으므로\n",
    "#정의할 때 지정한 'Kim'을 가짐"
   ]
  },
  {
   "cell_type": "code",
   "execution_count": 189,
   "id": "37753016",
   "metadata": {},
   "outputs": [
    {
     "name": "stdout",
     "output_type": "stream",
     "text": [
      "None\n"
     ]
    }
   ],
   "source": [
    "print([1,2].sort())"
   ]
  },
  {
   "cell_type": "markdown",
   "id": "4670b558",
   "metadata": {},
   "source": [
    "# 실습5."
   ]
  },
  {
   "cell_type": "code",
   "execution_count": 177,
   "id": "7f8a225a",
   "metadata": {},
   "outputs": [
    {
     "name": "stdout",
     "output_type": "stream",
     "text": [
      "[1, 1, 2, 2, 3, 5, 9]\n",
      "[4, 6, 9]\n",
      "[]\n"
     ]
    }
   ],
   "source": [
    "def merge_list(x=[], y=[]):\n",
    "    mer_list = x + y\n",
    "    return sorted(mer_list)\n",
    "\n",
    "l = [3, 5, 9, 1, 2]\n",
    "ml1 = merge_list(l,[2,1])\n",
    "ml2 = merge_list([6,9,4])\n",
    "ml3 = merge_list()\n",
    "print(ml1) # [1, 1, 2, 2, 3, 5, 9]\n",
    "print(ml2) # [0, 4, 6, 9]\n",
    "print(ml3) # [0, 0]"
   ]
  },
  {
   "cell_type": "markdown",
   "id": "57f2755d",
   "metadata": {},
   "source": [
    "# 지역변수, 전역변수\n",
    "\n",
    "- 지역변수(Local Variable)\n",
    ": 함수 안에서 만들어져 함수 안에서만 사용하는 변수\n",
    "\n",
    "```\n",
    "def add_value(a, b) :\n",
    "add_res = a+b\n",
    "return add_res\n",
    "x = 10\n",
    "y = 20\n",
    "res = add_value(x, y)\n",
    "print(add_res) # 에러 발생\n",
    "```\n",
    "\n",
    "- 전역변수(Global Variable)\n",
    ": 함수 밖에서 만들어져 아무데서나 사용할 수 있는 변수  \n",
    "(단, 함수 안에서 전역변수 수정 불가)\n",
    "\n",
    "```\n",
    "def addX(_x) :\n",
    "return x + _x\n",
    "x = 10\n",
    "y = 20\n",
    "res = addX(y)\n",
    "print(res) # ??\n",
    "```"
   ]
  },
  {
   "cell_type": "code",
   "execution_count": 180,
   "id": "e9aa0c46",
   "metadata": {},
   "outputs": [
    {
     "name": "stdout",
     "output_type": "stream",
     "text": [
      "30\n"
     ]
    }
   ],
   "source": [
    "def addX(_x) :\n",
    "    return x + _x\n",
    "\n",
    "x = 10\n",
    "y = 20\n",
    "res = addX(y)\n",
    "print(res) # ??"
   ]
  },
  {
   "cell_type": "code",
   "execution_count": 182,
   "id": "7db440de",
   "metadata": {},
   "outputs": [
    {
     "name": "stdout",
     "output_type": "stream",
     "text": [
      "30\n"
     ]
    }
   ],
   "source": [
    "# 함수 안에서 전역변수 수정 불가, 수정하려면 global 키워드 사용\n",
    "def addX(_x) :\n",
    "    global x # 전역변수임을 명시\n",
    "    x = x + _x\n",
    "x = 10\n",
    "y = 20\n",
    "addX(y)\n",
    "print(x)"
   ]
  },
  {
   "cell_type": "markdown",
   "id": "45a31d4b",
   "metadata": {},
   "source": [
    "# 모듈\n",
    "\n",
    ": 많이 사용하는 함수를 만들어 놓고, 프로그램에서 해당 함수 사용시, import하여 사용하면 편리함"
   ]
  },
  {
   "cell_type": "code",
   "execution_count": 1,
   "id": "3b45c1d3",
   "metadata": {},
   "outputs": [
    {
     "name": "stdout",
     "output_type": "stream",
     "text": [
      "importing Jupyter notebook from arth.ipynb\n",
      "Enter two integers: 13 5\n",
      "13 + 5 = 18\n",
      "13 - 5 =  8\n",
      "13 * 5 = 65\n",
      "13 / 5 = 2.6\n"
     ]
    }
   ],
   "source": [
    "#FILE: test.py\n",
    "#우리가 주피터 노트북을 이용해서 이 함수를 불러오므로 라이브러리를 하나 추가 해줘야함\n",
    "#import_ipynb 라이브러리를 사용함으로써 arth 파일을 불러올 수 있음\n",
    "import import_ipynb\n",
    "import arth\n",
    "numbers = input('Enter two integers: ')\n",
    "a, b = numbers.split()\n",
    "a = int(a)\n",
    "b = int(b)\n",
    "print (\"%d + %d = %2d\" % (a, b, arth.add(a, b)))\n",
    "print (\"%d - %d = %2d\" % (a, b, arth.sub(a, b)))\n",
    "print (\"%d * %d = %2d\" % (a, b, arth.mul(a, b)))\n",
    "print (\"%d / %d = %.1f\" % (a, b, arth.div(a, b)))"
   ]
  },
  {
   "cell_type": "markdown",
   "id": "58495a39",
   "metadata": {},
   "source": [
    "# 모듈\n",
    "\n",
    "- import module_name #기본적인 모듈 불러오기  \n",
    "    : import math  \n",
    "    : math.factorial(10)  \n",
    "- import module_name as mn #모듈에 다른 이름을 붙이기  \n",
    "    : import math as mt  \n",
    "    : mt.factorial(10)  \n",
    "- from module_name import func #특정 함수만 불러오기  \n",
    "    : from math import factorial  \n",
    "    : factorial(10)  "
   ]
  },
  {
   "cell_type": "code",
   "execution_count": 3,
   "id": "e59ad06d",
   "metadata": {},
   "outputs": [
    {
     "data": {
      "text/plain": [
       "'b'"
      ]
     },
     "execution_count": 3,
     "metadata": {},
     "output_type": "execute_result"
    }
   ],
   "source": [
    "import random\n",
    "\n",
    "random.choice('abcdefg')"
   ]
  },
  {
   "cell_type": "code",
   "execution_count": 193,
   "id": "c94b8d44",
   "metadata": {},
   "outputs": [
    {
     "data": {
      "text/plain": [
       "3"
      ]
     },
     "execution_count": 193,
     "metadata": {},
     "output_type": "execute_result"
    }
   ],
   "source": [
    "random.randint(1,3)"
   ]
  },
  {
   "cell_type": "code",
   "execution_count": 195,
   "id": "0b349313",
   "metadata": {},
   "outputs": [
    {
     "data": {
      "text/plain": [
       "1"
      ]
     },
     "execution_count": 195,
     "metadata": {},
     "output_type": "execute_result"
    }
   ],
   "source": [
    "random.randrange(1, 3+1)"
   ]
  },
  {
   "cell_type": "code",
   "execution_count": 196,
   "id": "563e1960",
   "metadata": {},
   "outputs": [
    {
     "name": "stdout",
     "output_type": "stream",
     "text": [
      "[4, 2, 3, 1, 5]\n"
     ]
    }
   ],
   "source": [
    "Ls = [1,2,3,4,5]\n",
    "random.shuffle(Ls)\n",
    "print(Ls)"
   ]
  },
  {
   "cell_type": "code",
   "execution_count": 197,
   "id": "b36af317",
   "metadata": {},
   "outputs": [
    {
     "data": {
      "text/plain": [
       "[1, 4, 5]"
      ]
     },
     "execution_count": 197,
     "metadata": {},
     "output_type": "execute_result"
    }
   ],
   "source": [
    "random.sample([1,2,3,4,5,6],3)"
   ]
  },
  {
   "cell_type": "markdown",
   "id": "4ed8ebaa",
   "metadata": {},
   "source": [
    "# 실습6"
   ]
  },
  {
   "cell_type": "code",
   "execution_count": 17,
   "id": "cc889766",
   "metadata": {},
   "outputs": [
    {
     "name": "stdout",
     "output_type": "stream",
     "text": [
      "1번째 자동 기입 ==>  4 9 15 16 31 40\n",
      "2번째 자동 기입 ==>  11 15 26 27 41 45\n",
      "3번째 자동 기입 ==>  7 9 17 19 27 28\n",
      "4번째 자동 기입 ==>  4 12 14 16 24 31\n",
      "5번째 자동 기입 ==>  10 13 14 20 29 31\n"
     ]
    }
   ],
   "source": [
    "import random\n",
    "\n",
    "num_list =[]\n",
    "for i in range(1,46) :\n",
    "    num_list.append(i)\n",
    "    \n",
    "for i in range(1, 6) :\n",
    "    result = random.sample(num_list, 6)\n",
    "    result.sort()\n",
    "    print(\"%d번째 자동 기입 ==> \" %i ,*result)"
   ]
  },
  {
   "cell_type": "code",
   "execution_count": 18,
   "id": "add0dd41",
   "metadata": {},
   "outputs": [
    {
     "name": "stdout",
     "output_type": "stream",
     "text": [
      "** 로또 번호 자동 기입을 시작합니다 **\n",
      "1번째 자동 기입 ==> 18 23 30 34 36 44 \n",
      "2번째 자동 기입 ==> 5 14 16 22 35 39 \n",
      "3번째 자동 기입 ==> 7 9 13 21 26 45 \n",
      "4번째 자동 기입 ==> 8 11 17 27 32 37 \n",
      "5번째 자동 기입 ==> 2 15 24 38 40 43 "
     ]
    }
   ],
   "source": [
    "## 모든 번째 줄의 번호가 안겹치게 짠 코드...\n",
    "print(\"** 로또 번호 자동 기입을 시작합니다 **\")\n",
    "\n",
    "union = list(range(1,46,1))\n",
    "first = random.sample(union, 6)\n",
    "\n",
    "print(\"1번째 자동 기입 ==> \", end = '')\n",
    "for i in range(6):\n",
    "    print(sorted(first)[i], end =' ')\n",
    "\n",
    "union = list(set(union) - set(first))\n",
    "second = random.sample(union, 6)\n",
    "print(\"\\n2번째 자동 기입 ==> \", end = '')\n",
    "for i in range(6):\n",
    "    print(sorted(second)[i], end =' ')\n",
    "\n",
    "union = list(set(union) - set(second))\n",
    "third = random.sample(union, 6)\n",
    "print(\"\\n3번째 자동 기입 ==> \", end = '')\n",
    "for i in range(6):\n",
    "    print(sorted(third)[i], end =' ')\n",
    "\n",
    "union = list(set(union) - set(third))\n",
    "forth = random.sample(union, 6)\n",
    "print(\"\\n4번째 자동 기입 ==> \", end = '')\n",
    "for i in range(6):\n",
    "    print(sorted(forth)[i], end =' ')\n",
    "\n",
    "\n",
    "union = list(set(union) - set(forth))\n",
    "fifth = random.sample(union, 6)\n",
    "print(\"\\n5번째 자동 기입 ==> \", end = '')\n",
    "for i in range(6):\n",
    "    print(sorted(fifth)[i], end =' ')"
   ]
  },
  {
   "cell_type": "markdown",
   "id": "21accff9",
   "metadata": {},
   "source": [
    "# 실습7."
   ]
  },
  {
   "cell_type": "code",
   "execution_count": 11,
   "id": "858b68c2",
   "metadata": {},
   "outputs": [
    {
     "name": "stdout",
     "output_type": "stream",
     "text": [
      "1\n",
      "9\n",
      "[3, 5, 2]\n"
     ]
    }
   ],
   "source": [
    "def get_min_max(l):\n",
    "    max_ = max(l)\n",
    "    min_ = min(l)\n",
    "\n",
    "    l.remove(max_)\n",
    "    l.remove(min_)\n",
    "\n",
    "    return min_,max_ \n",
    "    \n",
    "l = [3, 5, 9, 1, 2]\n",
    "min_val, max_val = get_min_max(l)\n",
    "print(min_val)\n",
    "print(max_val)\n",
    "print(l)"
   ]
  },
  {
   "cell_type": "markdown",
   "id": "c1f28ea0",
   "metadata": {},
   "source": [
    "# 실습8."
   ]
  },
  {
   "cell_type": "code",
   "execution_count": 21,
   "id": "9320aa4e",
   "metadata": {},
   "outputs": [
    {
     "name": "stdout",
     "output_type": "stream",
     "text": [
      "{'a': 2, 'c': 4, 'e': 9, 'b': 3, 'd': 7}\n"
     ]
    }
   ],
   "source": [
    "def comb_dict(d1, d2):\n",
    "    d3 = {}\n",
    "    for i in d1 :\n",
    "        for k in d2 :\n",
    "            if i == k :\n",
    "                d3[i] = d1[i] + d2[k]\n",
    "                continue\n",
    "            else : \n",
    "                d3[i] = d1[i]\n",
    "                d3[k] = d2[k]\n",
    "    return d3\n",
    "\n",
    "d1 = {'a': 1, 'b': 3, 'd': 7, 'e': 8}\n",
    "d2 = {'a': 2, 'c': 4, 'e': 1}\n",
    "d3 = comb_dict(d1, d2)\n",
    "print(d3)"
   ]
  },
  {
   "cell_type": "markdown",
   "id": "7b21ec7b",
   "metadata": {},
   "source": [
    "# 실습9."
   ]
  },
  {
   "cell_type": "code",
   "execution_count": 20,
   "id": "384ceb13",
   "metadata": {},
   "outputs": [
    {
     "name": "stdout",
     "output_type": "stream",
     "text": [
      "4\n",
      "300\n"
     ]
    }
   ],
   "source": [
    "def diff(num1, num2, *nums):\n",
    "    num_list = []\n",
    "    num_list.append(num1)\n",
    "    num_list.append(num2)\n",
    "    \n",
    "    for x in nums :\n",
    "        num_list.append(x)\n",
    "    \n",
    "    min_ = min(num_list)\n",
    "    max_ = max(num_list)\n",
    "    \n",
    "    diff = max_ - min_ \n",
    "    return diff\n",
    "\n",
    "print(diff(1,2,3,4,5))\n",
    "print(diff(-100, 200))\n",
    "# diff(1) # 오류발생!"
   ]
  },
  {
   "cell_type": "code",
   "execution_count": null,
   "id": "9d17269e",
   "metadata": {},
   "outputs": [],
   "source": []
  },
  {
   "cell_type": "code",
   "execution_count": null,
   "id": "079b08c9",
   "metadata": {},
   "outputs": [],
   "source": []
  },
  {
   "cell_type": "code",
   "execution_count": null,
   "id": "f12c00bb",
   "metadata": {},
   "outputs": [],
   "source": []
  },
  {
   "cell_type": "code",
   "execution_count": null,
   "id": "a3c9d5a7",
   "metadata": {},
   "outputs": [],
   "source": []
  },
  {
   "cell_type": "code",
   "execution_count": null,
   "id": "91ff2632",
   "metadata": {},
   "outputs": [],
   "source": []
  }
 ],
 "metadata": {
  "kernelspec": {
   "display_name": "Python 3 (ipykernel)",
   "language": "python",
   "name": "python3"
  },
  "language_info": {
   "codemirror_mode": {
    "name": "ipython",
    "version": 3
   },
   "file_extension": ".py",
   "mimetype": "text/x-python",
   "name": "python",
   "nbconvert_exporter": "python",
   "pygments_lexer": "ipython3",
   "version": "3.9.12"
  }
 },
 "nbformat": 4,
 "nbformat_minor": 5
}
