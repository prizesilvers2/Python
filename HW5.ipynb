{
 "cells": [
  {
   "cell_type": "markdown",
   "id": "0e5663b1",
   "metadata": {},
   "source": [
    "# 1. 파일"
   ]
  },
  {
   "cell_type": "markdown",
   "id": "9e8a765b",
   "metadata": {},
   "source": [
    "## 실습1)"
   ]
  },
  {
   "cell_type": "code",
   "execution_count": 97,
   "id": "ef67acf3",
   "metadata": {},
   "outputs": [
    {
     "name": "stdout",
     "output_type": "stream",
     "text": [
      "first line\n",
      "second line\n",
      "third line\n"
     ]
    }
   ],
   "source": [
    "f = open(\"test.txt\", \"r\")\n",
    "data = f.read()\n",
    "print(data)\n",
    "f.close()"
   ]
  },
  {
   "cell_type": "code",
   "execution_count": 99,
   "id": "9a8106cc",
   "metadata": {},
   "outputs": [
    {
     "name": "stdout",
     "output_type": "stream",
     "text": [
      "first 1\n",
      "line 3\n",
      "second 1\n",
      "third 1\n"
     ]
    }
   ],
   "source": [
    "words = data.split()\n",
    "dic = {}\n",
    "for i in words :\n",
    "    if i not in dic :\n",
    "        dic[i] = 1\n",
    "    else :\n",
    "        dic[i] +=1\n",
    "\n",
    "for k in dic:\n",
    "    print(k, dic[k])"
   ]
  },
  {
   "cell_type": "markdown",
   "id": "e815dffd",
   "metadata": {},
   "source": [
    "## 실습2)"
   ]
  },
  {
   "cell_type": "code",
   "execution_count": 2,
   "id": "f1662b63",
   "metadata": {},
   "outputs": [
    {
     "data": {
      "text/plain": [
       "True"
      ]
     },
     "execution_count": 2,
     "metadata": {},
     "output_type": "execute_result"
    }
   ],
   "source": [
    "# 현재 위치의 파일이 있는지 없는지\n",
    "import os\n",
    "os.path.exists(\"test.txt\")"
   ]
  },
  {
   "cell_type": "code",
   "execution_count": 100,
   "id": "d69829dd",
   "metadata": {},
   "outputs": [
    {
     "name": "stdout",
     "output_type": "stream",
     "text": [
      "Enter a file name: test.txt\n",
      "FIRST LINE\n",
      "SECOND LINE\n",
      "THIRD LINE\n"
     ]
    }
   ],
   "source": [
    "file_name = input(\"Enter a file name: \")\n",
    "if os.path.exists(file_name) :\n",
    "    f = open(file_name, \"r\")\n",
    "    data = f.read()\n",
    "    print(data.upper())\n",
    "    f.close()\n",
    "else :\n",
    "    print(\"파일이 없습니다.\")"
   ]
  },
  {
   "cell_type": "markdown",
   "id": "c811f4ad",
   "metadata": {},
   "source": [
    "## 실습3) - SKIP"
   ]
  },
  {
   "cell_type": "markdown",
   "id": "8c92b7cf",
   "metadata": {},
   "source": [
    "## 실습4)"
   ]
  },
  {
   "cell_type": "code",
   "execution_count": 94,
   "id": "0dceb452",
   "metadata": {},
   "outputs": [],
   "source": [
    "student_info =[]\n",
    "f = open(\"score.txt\", \"r\")\n",
    "lines = f.read()\n",
    "line_list = list(lines.split(\"\\n\"))\n",
    "for i in range(len(line_list)) :\n",
    "    words = line_list[i].split()\n",
    "    student_info.append(words)\n",
    "\n",
    "for k in range(len(line_list)) :\n",
    "    total = float(student_info[k][1])*0.4 + float(student_info[k][2])*0.6\n",
    "    student_info[k].append(total)\n",
    "    #print(total)\n",
    "\n",
    "for m in range(len(line_list)) :    \n",
    "    if student_info[m][3] >= 90 :\n",
    "        student_info[m].append('A')\n",
    "    elif student_info[m][3] >= 80 :\n",
    "        student_info[m].append('B')\n",
    "    elif student_info[m][3] >= 70 :\n",
    "        student_info[m].append('C')\n",
    "    elif student_info[m][3] >= 60 :\n",
    "        student_info[m].append('D')\n",
    "    else :\n",
    "        student_info[m].append('F')\n",
    "\n",
    "#print(student_info)\n",
    "# for i in range(len(student_info)) :\n",
    "#     print(\"{} {} {} {}({})\\n\".format(student_info[i][0],student_info[i][1],student_info[i][2],student_info[i][3],student_info[i][4] ))\n",
    "    \n",
    "f.close()"
   ]
  },
  {
   "cell_type": "code",
   "execution_count": 93,
   "id": "ee48ec4f",
   "metadata": {},
   "outputs": [],
   "source": [
    "fw = open(\"report.txt\", \"w\")\n",
    "\n",
    "for i in range(len(student_info)) :\n",
    "    data = \"{} {} {} {}({})\\n\".format(student_info[i][0],student_info[i][1],student_info[i][2],student_info[i][3],student_info[i][4] )\n",
    "    fw.write(data)\n",
    "\n",
    "fw.close()"
   ]
  }
 ],
 "metadata": {
  "kernelspec": {
   "display_name": "Python 3 (ipykernel)",
   "language": "python",
   "name": "python3"
  },
  "language_info": {
   "codemirror_mode": {
    "name": "ipython",
    "version": 3
   },
   "file_extension": ".py",
   "mimetype": "text/x-python",
   "name": "python",
   "nbconvert_exporter": "python",
   "pygments_lexer": "ipython3",
   "version": "3.9.12"
  }
 },
 "nbformat": 4,
 "nbformat_minor": 5
}
