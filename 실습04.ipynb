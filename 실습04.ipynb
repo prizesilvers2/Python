{
 "cells": [
  {
   "cell_type": "code",
   "execution_count": 3,
   "id": "5f5b1c03",
   "metadata": {},
   "outputs": [],
   "source": [
    "import os"
   ]
  },
  {
   "cell_type": "code",
   "execution_count": 6,
   "id": "5d6a0193",
   "metadata": {},
   "outputs": [
    {
     "data": {
      "text/plain": [
       "True"
      ]
     },
     "execution_count": 6,
     "metadata": {},
     "output_type": "execute_result"
    }
   ],
   "source": [
    "# 현재 위치의 파일이 있는지 없는지\n",
    "os.path.exists(\"test.txt\")"
   ]
  },
  {
   "cell_type": "markdown",
   "id": "729b0d5f",
   "metadata": {},
   "source": [
    "# 파일"
   ]
  },
  {
   "cell_type": "code",
   "execution_count": 1,
   "id": "93d63136",
   "metadata": {},
   "outputs": [],
   "source": [
    "# 파일을 열고 자동으로 닫기(with ~as)\n",
    "f = open(\"output.txt\", \"w\")\n",
    "f.write(\"Python is fun!\")\n",
    "f.close()"
   ]
  },
  {
   "cell_type": "code",
   "execution_count": 2,
   "id": "fa5a793b",
   "metadata": {},
   "outputs": [],
   "source": [
    "with open(\"output.txt\", \"w\") as f :\n",
    "    f.write(\"Python is fun!\")"
   ]
  },
  {
   "cell_type": "code",
   "execution_count": 7,
   "id": "1f0d9a46",
   "metadata": {},
   "outputs": [],
   "source": [
    "f = open(\"test.txt\", \"r\")"
   ]
  },
  {
   "cell_type": "markdown",
   "id": "6892ffc0",
   "metadata": {},
   "source": [
    "## 파일 포인터\n",
    "\n",
    ": 파일의 현재 위치를 가리키는 것  \n",
    "\n",
    "- f.tell() : 현재 파일 포인터의 위치 반환\n",
    "- f.seek() : 지정하는 곳으로 포인터의 위치를 변경  "
   ]
  },
  {
   "cell_type": "code",
   "execution_count": 8,
   "id": "6e9c4038",
   "metadata": {},
   "outputs": [
    {
     "data": {
      "text/plain": [
       "0"
      ]
     },
     "execution_count": 8,
     "metadata": {},
     "output_type": "execute_result"
    }
   ],
   "source": [
    "f.tell()"
   ]
  },
  {
   "cell_type": "code",
   "execution_count": 9,
   "id": "00a5287e",
   "metadata": {},
   "outputs": [
    {
     "data": {
      "text/plain": [
       "'first line\\n'"
      ]
     },
     "execution_count": 9,
     "metadata": {},
     "output_type": "execute_result"
    }
   ],
   "source": [
    "f.readline()"
   ]
  },
  {
   "cell_type": "code",
   "execution_count": 10,
   "id": "1dd284dd",
   "metadata": {},
   "outputs": [
    {
     "data": {
      "text/plain": [
       "11"
      ]
     },
     "execution_count": 10,
     "metadata": {},
     "output_type": "execute_result"
    }
   ],
   "source": [
    "f.tell()"
   ]
  },
  {
   "cell_type": "code",
   "execution_count": 11,
   "id": "a8defcf6",
   "metadata": {},
   "outputs": [
    {
     "data": {
      "text/plain": [
       "'second line\\n'"
      ]
     },
     "execution_count": 11,
     "metadata": {},
     "output_type": "execute_result"
    }
   ],
   "source": [
    "f.readline()"
   ]
  },
  {
   "cell_type": "code",
   "execution_count": 12,
   "id": "aca7a988",
   "metadata": {},
   "outputs": [
    {
     "data": {
      "text/plain": [
       "23"
      ]
     },
     "execution_count": 12,
     "metadata": {},
     "output_type": "execute_result"
    }
   ],
   "source": [
    "f.tell()"
   ]
  },
  {
   "cell_type": "code",
   "execution_count": 16,
   "id": "683ac245",
   "metadata": {},
   "outputs": [
    {
     "data": {
      "text/plain": [
       "' line\\n'"
      ]
     },
     "execution_count": 16,
     "metadata": {},
     "output_type": "execute_result"
    }
   ],
   "source": [
    "# 지정하는 곳으로 포인터의 위치를 변경\n",
    "f.seek(5)\n",
    "f.tell()\n",
    "f.readline()"
   ]
  },
  {
   "cell_type": "markdown",
   "id": "89ab4386",
   "metadata": {},
   "source": [
    "# 파일 참고자료"
   ]
  },
  {
   "cell_type": "markdown",
   "id": "1421c604",
   "metadata": {},
   "source": [
    "## sys 모듈\n",
    "\n",
    ": 도스(DOS)나 리눅스쉘에서 파이썬 명령어를 실행하면서 입력인수를 넣어줄 수도 있음\n",
    "\n",
    "```\n",
    "    (형태)\n",
    "    도스 명령어 [인수1  인수2]\n",
    "```"
   ]
  },
  {
   "cell_type": "code",
   "execution_count": 17,
   "id": "98a601d7",
   "metadata": {},
   "outputs": [],
   "source": [
    "import arth"
   ]
  },
  {
   "cell_type": "code",
   "execution_count": 18,
   "id": "b70dc06d",
   "metadata": {},
   "outputs": [
    {
     "data": {
      "text/plain": [
       "30"
      ]
     },
     "execution_count": 18,
     "metadata": {},
     "output_type": "execute_result"
    }
   ],
   "source": [
    "arth.add(10,20)"
   ]
  },
  {
   "cell_type": "code",
   "execution_count": null,
   "id": "ead2b77c",
   "metadata": {},
   "outputs": [],
   "source": []
  },
  {
   "cell_type": "markdown",
   "id": "dcce82ea",
   "metadata": {},
   "source": [
    "# Object-Oriented Programming"
   ]
  },
  {
   "cell_type": "code",
   "execution_count": 25,
   "id": "e72498db",
   "metadata": {},
   "outputs": [
    {
     "name": "stdout",
     "output_type": "stream",
     "text": [
      "0\n",
      "500\n",
      "500\n",
      "200\n",
      "200\n"
     ]
    }
   ],
   "source": [
    "balance = 0\n",
    "\n",
    "def deposit(amount) :\n",
    "    global balance\n",
    "    balance += amount\n",
    "    return balance\n",
    "\n",
    "def withdraw(amount):\n",
    "    global balance\n",
    "    balance -= amount\n",
    "    return balance\n",
    "\n",
    "print(balance)\n",
    "print(deposit(500))\n",
    "print(balance)\n",
    "print(withdraw(300))\n",
    "print(balance)"
   ]
  },
  {
   "cell_type": "code",
   "execution_count": 26,
   "id": "c82629ff",
   "metadata": {},
   "outputs": [
    {
     "name": "stdout",
     "output_type": "stream",
     "text": [
      "0\n",
      "0\n",
      "1000\n",
      "2000\n"
     ]
    }
   ],
   "source": [
    "# 여러개의 계좌 모델링\n",
    "def make_account() :\n",
    "    return {'balance' : 0}\n",
    "\n",
    "def deposit(account, amount) :\n",
    "    account['balance'] += amount\n",
    "    return account['balance']\n",
    "\n",
    "def withdraw(account, amount) :\n",
    "    account['balance'] -= amount\n",
    "    return account['balance']\n",
    "\n",
    "a = make_account()\n",
    "b = make_account()\n",
    "print(a['balance'])\n",
    "print(b['balance'])\n",
    "print(deposit(a, 1000))\n",
    "print(deposit(b, 2000))"
   ]
  },
  {
   "cell_type": "markdown",
   "id": "eeb85c40",
   "metadata": {},
   "source": [
    "# 클래스\n",
    "\n",
    ": 데이터와 함수를 묶어 객체로 만들어 주는 개념  \n",
    ": 객체의 기반이 되는 틀을 정의하는 개념  \n",
    ": 클래스 정의 문법  \n",
    "\n",
    ": 객체란 모종의 변수와 메서드를 담는 추상적 개념  \n",
    ": 클래스는 객체의 기반이 되는 틀을 정의함  \n",
    ": 클래스의 구성요소 (어트리뷰트)  \n",
    "- 변수(데이터 어트리뷰트)\n",
    "- 메서드(메서드 어트리뷰트)  "
   ]
  },
  {
   "cell_type": "code",
   "execution_count": 28,
   "id": "d4f23c36",
   "metadata": {},
   "outputs": [],
   "source": [
    "class Dog :\n",
    "    \"\"\"A simple example class\"\"\"\n",
    "    name = 'MongJa'\n",
    "    \n",
    "    def bark(self) :\n",
    "        return 'wal wal'"
   ]
  },
  {
   "cell_type": "code",
   "execution_count": 29,
   "id": "4359cbee",
   "metadata": {},
   "outputs": [
    {
     "data": {
      "text/plain": [
       "'MongJa'"
      ]
     },
     "execution_count": 29,
     "metadata": {},
     "output_type": "execute_result"
    }
   ],
   "source": [
    "Dog.name"
   ]
  },
  {
   "cell_type": "code",
   "execution_count": 30,
   "id": "9167daa3",
   "metadata": {},
   "outputs": [
    {
     "data": {
      "text/plain": [
       "<function __main__.Dog.bark(self)>"
      ]
     },
     "execution_count": 30,
     "metadata": {},
     "output_type": "execute_result"
    }
   ],
   "source": [
    "Dog.bark"
   ]
  },
  {
   "cell_type": "code",
   "execution_count": 31,
   "id": "1475e41f",
   "metadata": {},
   "outputs": [],
   "source": [
    "dog1 = Dog()"
   ]
  },
  {
   "cell_type": "code",
   "execution_count": 32,
   "id": "faea6347",
   "metadata": {},
   "outputs": [
    {
     "data": {
      "text/plain": [
       "'wal wal'"
      ]
     },
     "execution_count": 32,
     "metadata": {},
     "output_type": "execute_result"
    }
   ],
   "source": [
    "dog1.bark()"
   ]
  },
  {
   "cell_type": "code",
   "execution_count": 35,
   "id": "2f0a6f19",
   "metadata": {},
   "outputs": [],
   "source": [
    "# 이렇게 추가를 하는 것은 그다지 추천하지 않음\n",
    "# 어트리뷰트를 추가하는 방법\n",
    "dog1.age = 100"
   ]
  },
  {
   "cell_type": "code",
   "execution_count": 36,
   "id": "ca4cce3c",
   "metadata": {},
   "outputs": [
    {
     "data": {
      "text/plain": [
       "100"
      ]
     },
     "execution_count": 36,
     "metadata": {},
     "output_type": "execute_result"
    }
   ],
   "source": [
    "dog1.age"
   ]
  },
  {
   "cell_type": "code",
   "execution_count": 38,
   "id": "394f1ccd",
   "metadata": {},
   "outputs": [
    {
     "data": {
      "text/plain": [
       "<__main__.Dog at 0x7f5feb265d90>"
      ]
     },
     "execution_count": 38,
     "metadata": {},
     "output_type": "execute_result"
    }
   ],
   "source": [
    "dog1"
   ]
  },
  {
   "cell_type": "code",
   "execution_count": 39,
   "id": "7d3cf8c7",
   "metadata": {},
   "outputs": [],
   "source": [
    "l = [1,10,2,9,5]"
   ]
  },
  {
   "cell_type": "code",
   "execution_count": 41,
   "id": "b2184ead",
   "metadata": {},
   "outputs": [
    {
     "data": {
      "text/plain": [
       "[1, 2, 5, 9, 10]"
      ]
     },
     "execution_count": 41,
     "metadata": {},
     "output_type": "execute_result"
    }
   ],
   "source": [
    "list.sort(l)\n",
    "l"
   ]
  },
  {
   "cell_type": "code",
   "execution_count": 43,
   "id": "67c767b5",
   "metadata": {},
   "outputs": [
    {
     "data": {
      "text/plain": [
       "[1, 2, 5, 9, 10]"
      ]
     },
     "execution_count": 43,
     "metadata": {},
     "output_type": "execute_result"
    }
   ],
   "source": [
    "l.sort()\n",
    "l"
   ]
  },
  {
   "cell_type": "markdown",
   "id": "9dbba2af",
   "metadata": {},
   "source": [
    "## 특수 메서드"
   ]
  },
  {
   "cell_type": "code",
   "execution_count": 45,
   "id": "9f1635da",
   "metadata": {},
   "outputs": [],
   "source": [
    "# class Sample:\n",
    "#     def __init__ (self) :\n",
    "#         #statement\n",
    "#         return None   # 무조건 return은 None이어야 함\n",
    "#                       # 또는 생략 가능"
   ]
  },
  {
   "cell_type": "code",
   "execution_count": 47,
   "id": "4df4ce05",
   "metadata": {},
   "outputs": [
    {
     "name": "stdout",
     "output_type": "stream",
     "text": [
      "init 함수가 호출되었네요!\n"
     ]
    }
   ],
   "source": [
    "class Sample:\n",
    "    def __init__ (self) :\n",
    "        print(\"init 함수가 호출되었네요!\")\n",
    "        \n",
    "a = Sample()"
   ]
  },
  {
   "cell_type": "code",
   "execution_count": 48,
   "id": "c4436f2f",
   "metadata": {},
   "outputs": [
    {
     "name": "stdout",
     "output_type": "stream",
     "text": [
      "건물이름= 공학1동\n",
      "건물층수= 3\n",
      "엘리베이터 유무== True\n",
      "\n",
      "건물이름= 공학1동\n",
      "건물층수= 3\n",
      "엘리베이터 유무== True\n"
     ]
    }
   ],
   "source": [
    "class Building:\n",
    "    name = '공학1동'\n",
    "    h = 3\n",
    "    elev = True\n",
    "    \n",
    "    def get_info(self) :\n",
    "        print(\"건물이름=\", self.name)\n",
    "        print(\"건물층수=\", self.h)\n",
    "        print(\"엘리베이터 유무==\", self.elev)\n",
    "        \n",
    "a = Building()\n",
    "b = Building()\n",
    "\n",
    "a.get_info()\n",
    "print()\n",
    "b.get_info()"
   ]
  },
  {
   "cell_type": "code",
   "execution_count": 54,
   "id": "6c849af4",
   "metadata": {},
   "outputs": [],
   "source": [
    "class Building2:\n",
    "    def __init__(self, name =\"공학1동\", h =3, elev = True) :\n",
    "        self.name = name\n",
    "        self.h = h\n",
    "        self.elev = elev\n",
    "    \n",
    "    def get_info(self) :\n",
    "        print(\"건물이름 = \", self.name)\n",
    "        print(\"건물층수 = \", self.h)\n",
    "        print(\"엘리베이터 유무 = \", self.elev)"
   ]
  },
  {
   "cell_type": "code",
   "execution_count": 55,
   "id": "15e45cfe",
   "metadata": {},
   "outputs": [],
   "source": [
    "a = Building2()\n",
    "b = Building2(\"공학2동\", 10, True)"
   ]
  },
  {
   "cell_type": "code",
   "execution_count": 56,
   "id": "77e4bf7a",
   "metadata": {},
   "outputs": [
    {
     "name": "stdout",
     "output_type": "stream",
     "text": [
      "건물이름 =  공학1동\n",
      "건물층수 =  3\n",
      "엘리베이터 유무 =  True\n",
      "\n",
      "건물이름 =  공학2동\n",
      "건물층수 =  10\n",
      "엘리베이터 유무 =  True\n"
     ]
    }
   ],
   "source": [
    "a.get_info()\n",
    "print()\n",
    "b.get_info()"
   ]
  },
  {
   "cell_type": "markdown",
   "id": "7770348d",
   "metadata": {},
   "source": [
    "### 클래스 실습"
   ]
  },
  {
   "cell_type": "code",
   "execution_count": 57,
   "id": "1f4a8ee1",
   "metadata": {},
   "outputs": [],
   "source": [
    "class Human:\n",
    "    def __init__(self, name, age, height, weight) :\n",
    "        self.name = name\n",
    "        self.age = age\n",
    "        self.height = height\n",
    "        self.weight = weight\n",
    "    \n",
    "    def getolder(self) :\n",
    "        self.age += 1\n",
    "    \n",
    "    def changeheight(self, high):\n",
    "        self.height += high\n",
    "        \n",
    "    def changeweight(self, mass):\n",
    "        self.weight += mass\n",
    "        \n",
    "    def get_info(self) :\n",
    "        print(\"이름 : \", self.name)\n",
    "        print(\"나이 : \", self.age)\n",
    "        print(\"키   : \", self.height)\n",
    "        print(\"몸무게 : \", self.weight)"
   ]
  },
  {
   "cell_type": "code",
   "execution_count": 62,
   "id": "d89812c7",
   "metadata": {},
   "outputs": [],
   "source": [
    "a = Human(\"홍길동\", 20, 180, 80)"
   ]
  },
  {
   "cell_type": "code",
   "execution_count": 63,
   "id": "7a6d827e",
   "metadata": {},
   "outputs": [
    {
     "name": "stdout",
     "output_type": "stream",
     "text": [
      "이름 :  홍길동\n",
      "나이 :  20\n",
      "키   :  180\n",
      "몸무게 :  80\n"
     ]
    }
   ],
   "source": [
    "a.get_info()"
   ]
  },
  {
   "cell_type": "code",
   "execution_count": 64,
   "id": "f21dc850",
   "metadata": {},
   "outputs": [],
   "source": [
    "a.getolder()"
   ]
  },
  {
   "cell_type": "code",
   "execution_count": 65,
   "id": "fb1af8cb",
   "metadata": {},
   "outputs": [
    {
     "name": "stdout",
     "output_type": "stream",
     "text": [
      "이름 :  홍길동\n",
      "나이 :  21\n",
      "키   :  180\n",
      "몸무게 :  80\n"
     ]
    }
   ],
   "source": [
    "a.get_info()"
   ]
  },
  {
   "cell_type": "code",
   "execution_count": 66,
   "id": "a6d55a18",
   "metadata": {},
   "outputs": [
    {
     "name": "stdout",
     "output_type": "stream",
     "text": [
      "이름 :  홍길동\n",
      "나이 :  21\n",
      "키   :  190\n",
      "몸무게 :  80\n"
     ]
    }
   ],
   "source": [
    "a.changeheight(10)\n",
    "a.get_info()"
   ]
  },
  {
   "cell_type": "code",
   "execution_count": 68,
   "id": "b6e8bc0f",
   "metadata": {},
   "outputs": [
    {
     "name": "stdout",
     "output_type": "stream",
     "text": [
      "이름 :  홍길동\n",
      "나이 :  21\n",
      "키   :  190\n",
      "몸무게 :  100\n"
     ]
    }
   ],
   "source": [
    "a.changeweight(10)\n",
    "a.get_info()"
   ]
  },
  {
   "cell_type": "code",
   "execution_count": 69,
   "id": "16b20b3d",
   "metadata": {},
   "outputs": [],
   "source": [
    "class Dog :\n",
    "    def __init__(self, name, age) :\n",
    "        self.name = name\n",
    "        self.age = age\n",
    "    def print_name_age(self) :\n",
    "        print(self.name, self.age)"
   ]
  },
  {
   "cell_type": "code",
   "execution_count": 70,
   "id": "2789984e",
   "metadata": {},
   "outputs": [],
   "source": [
    "d1 = Dog(\"yomi\", 5)"
   ]
  },
  {
   "cell_type": "code",
   "execution_count": 71,
   "id": "8380cd8e",
   "metadata": {},
   "outputs": [
    {
     "name": "stdout",
     "output_type": "stream",
     "text": [
      "yomi 5\n"
     ]
    }
   ],
   "source": [
    "d1.print_name_age()"
   ]
  },
  {
   "cell_type": "code",
   "execution_count": 72,
   "id": "ffe3e961",
   "metadata": {},
   "outputs": [],
   "source": [
    "class dogdog :\n",
    "    kind = 'canine'"
   ]
  },
  {
   "cell_type": "code",
   "execution_count": 73,
   "id": "b6360145",
   "metadata": {},
   "outputs": [
    {
     "name": "stdout",
     "output_type": "stream",
     "text": [
      "canine\n"
     ]
    }
   ],
   "source": [
    "d1 = dogdog()\n",
    "d2 = dogdog()\n",
    "\n",
    "d1.kind = 'puppy'\n",
    "print(d2.kind)"
   ]
  },
  {
   "cell_type": "code",
   "execution_count": 74,
   "id": "9c492680",
   "metadata": {},
   "outputs": [
    {
     "data": {
      "text/plain": [
       "'puppy'"
      ]
     },
     "execution_count": 74,
     "metadata": {},
     "output_type": "execute_result"
    }
   ],
   "source": [
    "d1.kind"
   ]
  },
  {
   "cell_type": "code",
   "execution_count": 79,
   "id": "641037f1",
   "metadata": {},
   "outputs": [
    {
     "data": {
      "text/plain": [
       "(140049949709552, 140049949709552, 140049949487856)"
      ]
     },
     "execution_count": 79,
     "metadata": {},
     "output_type": "execute_result"
    }
   ],
   "source": [
    "id(dogdog.kind), id(d2.kind), id(d1.kind)"
   ]
  },
  {
   "cell_type": "code",
   "execution_count": 83,
   "id": "7e22cf48",
   "metadata": {},
   "outputs": [],
   "source": [
    "class Dog :\n",
    "    def __init__(self) :\n",
    "        self.tricks =[]\n",
    "    \n",
    "    def add_trick(self, trick) :\n",
    "        self.tricks.append(trick)"
   ]
  },
  {
   "cell_type": "code",
   "execution_count": 84,
   "id": "eabd879c",
   "metadata": {},
   "outputs": [
    {
     "name": "stdout",
     "output_type": "stream",
     "text": [
      "[]\n"
     ]
    }
   ],
   "source": [
    "dog1 = Dog()\n",
    "dog2 = Dog()\n",
    "dog1.add_trick(\"roll over\")\n",
    "print(dog2.tricks)"
   ]
  },
  {
   "cell_type": "markdown",
   "id": "3328005d",
   "metadata": {},
   "source": [
    "# 실습 문제1"
   ]
  },
  {
   "cell_type": "code",
   "execution_count": 11,
   "id": "7e093506",
   "metadata": {},
   "outputs": [],
   "source": [
    "class BankAccount : \n",
    "    def __init__(self, balance=0, name=\"none\"):\n",
    "        self.balance = balance\n",
    "        self.name = name\n",
    "    \n",
    "    def deposit(self, amount):\n",
    "        self.balance += amount\n",
    "        print(\"입금합니다. 잔액은 %d\" %self.balance)\n",
    "        \n",
    "    def withdraw(self, amount):\n",
    "        if self.balance < amount :\n",
    "            print(\"잔액이 부족합니다.\")\n",
    "        else :\n",
    "            self.balance -= amount\n",
    "            print(\"출금합니다. 잔액은 %d\" %self.balance)\n",
    "        \n",
    "    def get_info(self, ):\n",
    "        print(self.name, \"님의 계좌의 잔액은\", self.balance, \"원입니다.\")       "
   ]
  },
  {
   "cell_type": "code",
   "execution_count": 12,
   "id": "abd6952c",
   "metadata": {},
   "outputs": [],
   "source": [
    "a = BankAccount(100, \"Gildong Hong\")"
   ]
  },
  {
   "cell_type": "code",
   "execution_count": 13,
   "id": "ee5020c3",
   "metadata": {},
   "outputs": [
    {
     "name": "stdout",
     "output_type": "stream",
     "text": [
      "Gildong Hong 님의 계좌의 잔액은 100 원입니다.\n"
     ]
    }
   ],
   "source": [
    "a.get_info()"
   ]
  },
  {
   "cell_type": "code",
   "execution_count": 14,
   "id": "6d0e781f",
   "metadata": {},
   "outputs": [
    {
     "name": "stdout",
     "output_type": "stream",
     "text": [
      "입금합니다. 잔액은 200\n"
     ]
    }
   ],
   "source": [
    "a.deposit(100)"
   ]
  },
  {
   "cell_type": "code",
   "execution_count": 15,
   "id": "e361389e",
   "metadata": {},
   "outputs": [
    {
     "name": "stdout",
     "output_type": "stream",
     "text": [
      "입금합니다. 잔액은 1200\n"
     ]
    }
   ],
   "source": [
    "a.deposit(1000)"
   ]
  },
  {
   "cell_type": "code",
   "execution_count": 16,
   "id": "a38d7932",
   "metadata": {},
   "outputs": [
    {
     "name": "stdout",
     "output_type": "stream",
     "text": [
      "잔액이 부족합니다.\n"
     ]
    }
   ],
   "source": [
    "a.withdraw(1500)"
   ]
  },
  {
   "cell_type": "code",
   "execution_count": 17,
   "id": "1d33527c",
   "metadata": {},
   "outputs": [
    {
     "name": "stdout",
     "output_type": "stream",
     "text": [
      "출금합니다. 잔액은 200\n"
     ]
    }
   ],
   "source": [
    "a.withdraw(1000)"
   ]
  },
  {
   "cell_type": "code",
   "execution_count": 18,
   "id": "e33ca1c1",
   "metadata": {},
   "outputs": [
    {
     "name": "stdout",
     "output_type": "stream",
     "text": [
      "Gildong Hong 님의 계좌의 잔액은 200 원입니다.\n"
     ]
    }
   ],
   "source": [
    "a.get_info()"
   ]
  },
  {
   "cell_type": "markdown",
   "id": "659abc6f",
   "metadata": {},
   "source": [
    "# 상속\n",
    "\n",
    ": 기존 클래스의 속성을 물려 받아 새로운 클래스를 만드는 것  \n",
    ": 새 클래스는 기존 클래스의 모든 변수 및 매서드를 가짐  \n",
    ": 주로 기존 클래스를 확장하는 용도로 사용  \n",
    ": 다중 클래스도 상속 가능 \",\"로 구분"
   ]
  },
  {
   "cell_type": "code",
   "execution_count": 19,
   "id": "8af8a912",
   "metadata": {},
   "outputs": [],
   "source": [
    "class A :\n",
    "    a = 1\n",
    "    def print_a(self) :\n",
    "        print(\"A class\")"
   ]
  },
  {
   "cell_type": "code",
   "execution_count": 20,
   "id": "ebdfdf58",
   "metadata": {},
   "outputs": [],
   "source": [
    "class B :\n",
    "    b = 1\n",
    "    def print_b(self) :\n",
    "        print(\"B class\")"
   ]
  },
  {
   "cell_type": "code",
   "execution_count": 21,
   "id": "2de9e5aa",
   "metadata": {},
   "outputs": [],
   "source": [
    "class C(A) :\n",
    "    c = 1\n",
    "    def print_c(self) :\n",
    "        print(\"C class\")"
   ]
  },
  {
   "cell_type": "code",
   "execution_count": 22,
   "id": "54874f27",
   "metadata": {},
   "outputs": [],
   "source": [
    "class D(C, B) :\n",
    "    d = 1\n",
    "    def print_d(self) :\n",
    "        print(\"D class\")"
   ]
  },
  {
   "cell_type": "code",
   "execution_count": 23,
   "id": "6bfc0e94",
   "metadata": {},
   "outputs": [],
   "source": [
    "c = C()\n",
    "d = D()"
   ]
  },
  {
   "cell_type": "code",
   "execution_count": 25,
   "id": "14fe832c",
   "metadata": {},
   "outputs": [
    {
     "data": {
      "text/plain": [
       "[__main__.D, __main__.C, __main__.A, __main__.B, object]"
      ]
     },
     "execution_count": 25,
     "metadata": {},
     "output_type": "execute_result"
    }
   ],
   "source": [
    "D.mro()"
   ]
  },
  {
   "cell_type": "code",
   "execution_count": 27,
   "id": "c4311a60",
   "metadata": {},
   "outputs": [
    {
     "name": "stdout",
     "output_type": "stream",
     "text": [
      "A class\n"
     ]
    }
   ],
   "source": [
    "c.print_a()"
   ]
  },
  {
   "cell_type": "markdown",
   "id": "43b8af6a",
   "metadata": {},
   "source": [
    "## 매서드 오버라이팅(Overriding)"
   ]
  },
  {
   "cell_type": "code",
   "execution_count": 32,
   "id": "4158c58f",
   "metadata": {},
   "outputs": [],
   "source": [
    "class A() :\n",
    "    def __init__(self) :\n",
    "        print(\"this is [A] class and [__init__] function\")\n",
    "        self.var1 = 0\n",
    "        self.var2 = 0\n",
    "\n",
    "class B(A) :\n",
    "    def __init__(self) :\n",
    "        # 상속을 받은 클래스의 값을 쓰고 싶으면 super()를 사용하면 됨\n",
    "        super().__init__()\n",
    "        print(\"this is [B] class and [__init__] function\")\n",
    "        self.var3 = 0\n",
    "        self.var4 = 0"
   ]
  },
  {
   "cell_type": "code",
   "execution_count": 33,
   "id": "5cdf8d28",
   "metadata": {},
   "outputs": [
    {
     "name": "stdout",
     "output_type": "stream",
     "text": [
      "this is [A] class and [__init__] function\n",
      "this is [B] class and [__init__] function\n"
     ]
    }
   ],
   "source": [
    "b = B()"
   ]
  },
  {
   "cell_type": "markdown",
   "id": "31cae5c6",
   "metadata": {},
   "source": [
    "# 실습 문제2"
   ]
  },
  {
   "cell_type": "code",
   "execution_count": 70,
   "id": "4c57e145",
   "metadata": {},
   "outputs": [],
   "source": [
    "class BankAccount : \n",
    "    def __init__(self, balance=0, name=\"none\"):\n",
    "        self.balance = balance\n",
    "        self.name = name\n",
    "    \n",
    "    def deposit(self, amount):\n",
    "        self.balance += amount\n",
    "        print(\"입금합니다. 잔액은 %d\" %self.balance)\n",
    "        \n",
    "    def withdraw(self, amount):\n",
    "        if self.balance < amount :\n",
    "            print(\"잔액이 부족합니다.\")\n",
    "        else :\n",
    "            self.balance -= amount\n",
    "            print(\"출금합니다. 잔액은 %d\" %self.balance)\n",
    "        \n",
    "    def get_info(self):\n",
    "        print(self.name, \"님의 계좌의 잔액은\", self.balance, \"원입니다.\")\n",
    "        \n",
    "        \n",
    "    def __add__(self, amount) :\n",
    "        self.deposit(amount)"
   ]
  },
  {
   "cell_type": "code",
   "execution_count": 51,
   "id": "b06d9bef",
   "metadata": {},
   "outputs": [],
   "source": [
    "class MinimumBalanceAccount(BankAccount) :\n",
    "    def __init__(self, balance = 0, name = \"none\", min_bal = 0) :\n",
    "        super().__init__(balance,name)\n",
    "        self.min_bal = min_bal\n",
    "        #self.name = name\n",
    "        #self.balance = balance\n",
    "\n",
    "    def withdraw(self, amount) :\n",
    "        if self.balance < amount+self.min_bal :\n",
    "            print(\"최소 잔액을 유지해야 합니다.\")\n",
    "        else :\n",
    "            self.balance -= amount\n",
    "            print(\"출금합니다. 잔액은 %d\" %self.balance)\n",
    "            \n",
    "    def get_info(self) :\n",
    "        super().get_info()\n",
    "        print(\"최소 잔액 : \", self.min_bal)"
   ]
  },
  {
   "cell_type": "code",
   "execution_count": 53,
   "id": "34b13cd7",
   "metadata": {},
   "outputs": [
    {
     "name": "stdout",
     "output_type": "stream",
     "text": [
      "입금합니다. 잔액은 1500\n",
      "최소 잔액을 유지해야 합니다.\n",
      "kim 님의 계좌의 잔액은 1500 원입니다.\n",
      "최소 잔액 :  1000\n"
     ]
    }
   ],
   "source": [
    "acc = MinimumBalanceAccount(500, 'kim', 1000)\n",
    "acc.deposit(1000)\n",
    "acc.withdraw(600)\n",
    "acc.get_info()"
   ]
  },
  {
   "cell_type": "code",
   "execution_count": 71,
   "id": "8e065cb3",
   "metadata": {},
   "outputs": [
    {
     "name": "stdout",
     "output_type": "stream",
     "text": [
      "입금합니다. 잔액은 110000\n",
      "kim 님의 계좌의 잔액은 110000 원입니다.\n"
     ]
    }
   ],
   "source": [
    "a = BankAccount(10000, 'kim')\n",
    "a+100000\n",
    "a.get_info()"
   ]
  },
  {
   "cell_type": "code",
   "execution_count": 61,
   "id": "bb74eaff",
   "metadata": {},
   "outputs": [],
   "source": [
    "class A :\n",
    "    def sayhi(self) :\n",
    "        print(\"say hi to A\")"
   ]
  },
  {
   "cell_type": "code",
   "execution_count": 62,
   "id": "4a4e4d25",
   "metadata": {},
   "outputs": [],
   "source": [
    "class B :\n",
    "    def sayhi(self) :\n",
    "        print(\"say hi to B\")"
   ]
  },
  {
   "cell_type": "code",
   "execution_count": 63,
   "id": "c7845ca9",
   "metadata": {},
   "outputs": [],
   "source": [
    "class C(A,B) :\n",
    "    c = 10"
   ]
  },
  {
   "cell_type": "code",
   "execution_count": 64,
   "id": "13b97f1d",
   "metadata": {},
   "outputs": [],
   "source": [
    "hiC = C()"
   ]
  },
  {
   "cell_type": "code",
   "execution_count": 65,
   "id": "655e1a23",
   "metadata": {},
   "outputs": [
    {
     "name": "stdout",
     "output_type": "stream",
     "text": [
      "say hi to A\n"
     ]
    }
   ],
   "source": [
    "hiC.sayhi()"
   ]
  },
  {
   "cell_type": "code",
   "execution_count": 67,
   "id": "1aa35a62",
   "metadata": {},
   "outputs": [
    {
     "data": {
      "text/plain": [
       "[__main__.C, __main__.A, __main__.B, object]"
      ]
     },
     "execution_count": 67,
     "metadata": {},
     "output_type": "execute_result"
    }
   ],
   "source": [
    "# 상속도 우선순위가 있음\n",
    "C.mro()"
   ]
  },
  {
   "cell_type": "markdown",
   "id": "acbe66d5",
   "metadata": {},
   "source": [
    "## 연산자 오버로딩"
   ]
  },
  {
   "cell_type": "code",
   "execution_count": 68,
   "id": "5832e066",
   "metadata": {},
   "outputs": [
    {
     "data": {
      "text/plain": [
       "(30, 30)"
      ]
     },
     "execution_count": 68,
     "metadata": {},
     "output_type": "execute_result"
    }
   ],
   "source": [
    "a = 10\n",
    "b = 20\n",
    "a.__add__(b), a+b"
   ]
  },
  {
   "cell_type": "code",
   "execution_count": 69,
   "id": "739a2637",
   "metadata": {},
   "outputs": [
    {
     "data": {
      "text/plain": [
       "([1, 4, 5, 'a', 'c'], [1, 4, 5, 'a', 'c'])"
      ]
     },
     "execution_count": 69,
     "metadata": {},
     "output_type": "execute_result"
    }
   ],
   "source": [
    "a = [1,4,5]\n",
    "b = ['a', 'c']\n",
    "a.__add__(b), a+b"
   ]
  },
  {
   "cell_type": "code",
   "execution_count": null,
   "id": "9427f1c7",
   "metadata": {},
   "outputs": [],
   "source": []
  }
 ],
 "metadata": {
  "kernelspec": {
   "display_name": "Python 3 (ipykernel)",
   "language": "python",
   "name": "python3"
  },
  "language_info": {
   "codemirror_mode": {
    "name": "ipython",
    "version": 3
   },
   "file_extension": ".py",
   "mimetype": "text/x-python",
   "name": "python",
   "nbconvert_exporter": "python",
   "pygments_lexer": "ipython3",
   "version": "3.9.12"
  }
 },
 "nbformat": 4,
 "nbformat_minor": 5
}
