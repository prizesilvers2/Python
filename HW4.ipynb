{
 "cells": [
  {
   "cell_type": "markdown",
   "id": "afe35637",
   "metadata": {},
   "source": [
    "# 실습7."
   ]
  },
  {
   "cell_type": "code",
   "execution_count": 1,
   "id": "420745a5",
   "metadata": {},
   "outputs": [
    {
     "name": "stdout",
     "output_type": "stream",
     "text": [
      "1\n",
      "9\n",
      "[3, 5, 2]\n"
     ]
    }
   ],
   "source": [
    "def get_min_max(l):\n",
    "    max_ = max(l)\n",
    "    min_ = min(l)\n",
    "\n",
    "    l.remove(max_)\n",
    "    l.remove(min_)\n",
    "\n",
    "    return min_,max_ \n",
    "    \n",
    "l = [3, 5, 9, 1, 2]\n",
    "min_val, max_val = get_min_max(l)\n",
    "print(min_val)\n",
    "print(max_val)\n",
    "print(l)"
   ]
  },
  {
   "cell_type": "markdown",
   "id": "5695fd90",
   "metadata": {},
   "source": [
    "# 실습8."
   ]
  },
  {
   "cell_type": "code",
   "execution_count": 11,
   "id": "a9b2603a",
   "metadata": {},
   "outputs": [
    {
     "name": "stdout",
     "output_type": "stream",
     "text": [
      "{'a': 3, 'b': 3, 'd': 7, 'e': 9, 'c': 4}\n"
     ]
    }
   ],
   "source": [
    "def comb_dict(d1, d2):\n",
    "    d3 = d1.copy()\n",
    "    for k in d2 :\n",
    "        if k in d3:\n",
    "            d3[k] = d1[k] + d2[k]\n",
    "            continue\n",
    "        else : \n",
    "            d3[k] = d2[k]\n",
    "    return d3\n",
    "\n",
    "d1 = {'a': 1, 'b': 3, 'd': 7, 'e': 8}\n",
    "d2 = {'a': 2, 'c': 4, 'e': 1}\n",
    "d3 = comb_dict(d1, d2)\n",
    "print(d3)"
   ]
  },
  {
   "cell_type": "markdown",
   "id": "ec265277",
   "metadata": {},
   "source": [
    "# 실습9."
   ]
  },
  {
   "cell_type": "code",
   "execution_count": 7,
   "id": "60c6eef8",
   "metadata": {},
   "outputs": [
    {
     "name": "stdout",
     "output_type": "stream",
     "text": [
      "4\n",
      "300\n"
     ]
    }
   ],
   "source": [
    "def diff(num1, num2, *nums):\n",
    "    num_list = []\n",
    "    num_list.append(num1)\n",
    "    num_list.append(num2)\n",
    "    \n",
    "    for x in nums :\n",
    "        num_list.append(x)\n",
    "    \n",
    "    min_ = min(num_list)\n",
    "    max_ = max(num_list)\n",
    "    \n",
    "    diff = max_ - min_ \n",
    "    return diff\n",
    "\n",
    "print(diff(1,2,3,4,5))\n",
    "print(diff(-100, 200))\n",
    "# diff(1) # 오류발생!"
   ]
  },
  {
   "cell_type": "code",
   "execution_count": null,
   "id": "e62df201",
   "metadata": {},
   "outputs": [],
   "source": []
  }
 ],
 "metadata": {
  "kernelspec": {
   "display_name": "Python 3 (ipykernel)",
   "language": "python",
   "name": "python3"
  },
  "language_info": {
   "codemirror_mode": {
    "name": "ipython",
    "version": 3
   },
   "file_extension": ".py",
   "mimetype": "text/x-python",
   "name": "python",
   "nbconvert_exporter": "python",
   "pygments_lexer": "ipython3",
   "version": "3.9.12"
  }
 },
 "nbformat": 4,
 "nbformat_minor": 5
}
