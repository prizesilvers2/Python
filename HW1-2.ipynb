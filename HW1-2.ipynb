{
 "cells": [
  {
   "cell_type": "markdown",
   "id": "117e0b9e",
   "metadata": {},
   "source": [
    "# 실습문제 3"
   ]
  },
  {
   "cell_type": "code",
   "execution_count": 1,
   "id": "7af4a67f",
   "metadata": {},
   "outputs": [],
   "source": [
    "word = 'Hello'"
   ]
  },
  {
   "cell_type": "code",
   "execution_count": 2,
   "id": "fad1744d",
   "metadata": {},
   "outputs": [
    {
     "data": {
      "text/plain": [
       "'o'"
      ]
     },
     "execution_count": 2,
     "metadata": {},
     "output_type": "execute_result"
    }
   ],
   "source": [
    "word[-1]"
   ]
  },
  {
   "cell_type": "code",
   "execution_count": 4,
   "id": "c3aab73d",
   "metadata": {},
   "outputs": [
    {
     "data": {
      "text/plain": [
       "'o'"
      ]
     },
     "execution_count": 4,
     "metadata": {},
     "output_type": "execute_result"
    }
   ],
   "source": [
    "# len함수를 사용해서 마지막 글자를 구해보자\n",
    "word[len(word)-1]"
   ]
  },
  {
   "cell_type": "markdown",
   "id": "0615d7c0",
   "metadata": {},
   "source": [
    "# 실습문제 4"
   ]
  },
  {
   "cell_type": "code",
   "execution_count": 6,
   "id": "17a9fc38",
   "metadata": {},
   "outputs": [
    {
     "name": "stdout",
     "output_type": "stream",
     "text": [
      "날짜(연/월/일)입력 : 2022/07/27\n",
      "입력한 날짜의 10년 후는 2032년 07월 27일\n"
     ]
    }
   ],
   "source": [
    "year, month, day = input(\"날짜(연/월/일)입력 : \").split(\"/\")\n",
    "print(\"입력한 날짜의 10년 후는 {}년 {}월 {}일\".format(int(year)+10, month, day))"
   ]
  },
  {
   "cell_type": "code",
   "execution_count": 15,
   "id": "d3068301",
   "metadata": {},
   "outputs": [],
   "source": [
    "date = list(map(int, ['1', '2', '3']))"
   ]
  },
  {
   "cell_type": "code",
   "execution_count": 16,
   "id": "81b88262",
   "metadata": {},
   "outputs": [
    {
     "data": {
      "text/plain": [
       "[1, 2, 3]"
      ]
     },
     "execution_count": 16,
     "metadata": {},
     "output_type": "execute_result"
    }
   ],
   "source": [
    "date"
   ]
  },
  {
   "cell_type": "markdown",
   "id": "4e567be9",
   "metadata": {},
   "source": [
    "# 파이썬 프로그래밍 기초 실습 1-2"
   ]
  },
  {
   "cell_type": "markdown",
   "id": "309222cf",
   "metadata": {},
   "source": [
    "## 문제 4"
   ]
  },
  {
   "cell_type": "code",
   "execution_count": 20,
   "id": "2995a64a",
   "metadata": {},
   "outputs": [
    {
     "name": "stdout",
     "output_type": "stream",
     "text": [
      "Enter two integer: 8 5\n",
      "8 5\n"
     ]
    }
   ],
   "source": [
    "numbers = input(\"Enter two integer: \").split()\n",
    "a = int(numbers[0])\n",
    "b = int(numbers[1])\n",
    "print(a,b)"
   ]
  },
  {
   "cell_type": "code",
   "execution_count": 21,
   "id": "7e64b205",
   "metadata": {},
   "outputs": [
    {
     "name": "stdout",
     "output_type": "stream",
     "text": [
      "8 + 5 = 13\n",
      "8 - 5 = 3\n",
      "8 * 5 = 40\n",
      "8 / 5 = 1.6\n",
      "8 % 5 = 3\n"
     ]
    }
   ],
   "source": [
    "print(\"%s + %s = %s\" %(a,b,a+b))\n",
    "print(\"%s - %s = %s\" %(a,b,a-b))\n",
    "print(\"%s * %s = %s\" %(a,b,a*b))\n",
    "print(\"%s / %s = %s\" %(a,b,a/b))\n",
    "print(\"%d %% %d = %d\" %(a,b,(a%b)))"
   ]
  },
  {
   "cell_type": "markdown",
   "id": "495ed361",
   "metadata": {},
   "source": [
    "## 문제 5"
   ]
  },
  {
   "cell_type": "code",
   "execution_count": 23,
   "id": "e7d75ec3",
   "metadata": {},
   "outputs": [
    {
     "name": "stdout",
     "output_type": "stream",
     "text": [
      "Enter two integers: 70 91\n",
      "The sum of 70 and 91 is 161\n",
      "The average of numbers is 80.5\n"
     ]
    }
   ],
   "source": [
    "numbers = input('Enter two integers: ').split()\n",
    "A = int(numbers[0])\n",
    "B = int(numbers[1])\n",
    "print(\"The sum of %d and %d is %d\" %(A, B, A+B))\n",
    "print(\"The average of numbers is %.1f\" %((A+B)/2))"
   ]
  },
  {
   "cell_type": "markdown",
   "id": "54ece85a",
   "metadata": {},
   "source": [
    "## 문제 6"
   ]
  },
  {
   "cell_type": "code",
   "execution_count": 34,
   "id": "111200a9",
   "metadata": {},
   "outputs": [
    {
     "name": "stdout",
     "output_type": "stream",
     "text": [
      "날짜(연/월/일)입력: 2022/07/26\n",
      "입력한 날짜의 10년 후는 2032년 7월 26일\n"
     ]
    }
   ],
   "source": [
    "date = input('날짜(연/월/일)입력: ').split(\"/\")\n",
    "date = list(map(int, date))\n",
    "print(\"입력한 날짜의 %d년 후는 %d년 %d월 %d일\" %(10, date[0]+10, date[1], date[2]))"
   ]
  },
  {
   "cell_type": "code",
   "execution_count": null,
   "id": "b3335f33",
   "metadata": {},
   "outputs": [],
   "source": []
  },
  {
   "cell_type": "code",
   "execution_count": null,
   "id": "9d2026e7",
   "metadata": {},
   "outputs": [],
   "source": []
  }
 ],
 "metadata": {
  "kernelspec": {
   "display_name": "Python 3 (ipykernel)",
   "language": "python",
   "name": "python3"
  },
  "language_info": {
   "codemirror_mode": {
    "name": "ipython",
    "version": 3
   },
   "file_extension": ".py",
   "mimetype": "text/x-python",
   "name": "python",
   "nbconvert_exporter": "python",
   "pygments_lexer": "ipython3",
   "version": "3.9.12"
  }
 },
 "nbformat": 4,
 "nbformat_minor": 5
}
