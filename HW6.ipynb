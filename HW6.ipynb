{
 "cells": [
  {
   "cell_type": "markdown",
   "id": "33aeccbf",
   "metadata": {},
   "source": [
    "# 과제"
   ]
  },
  {
   "cell_type": "code",
   "execution_count": 62,
   "id": "710b8ce1",
   "metadata": {},
   "outputs": [],
   "source": [
    "class Set: \n",
    "    def __init__ (self, set_list) :\n",
    "        # list를 받아 중복 제거; 매개 변수 없이 생성 시,빈 집합 상태로 생성\n",
    "        self.set_list = set_list\n",
    "        pass\n",
    "        \n",
    "    def add(self, elem) :\n",
    "        # Set에 elem이 존재하지 않으면 추가\n",
    "        if elem not in self.set_list :\n",
    "            self.set_list.append(elem)\n",
    "        \n",
    "    def discard(self, elem) :\n",
    "        # Set에 elem이 존재하면 삭제\n",
    "        for x in self.set_list :\n",
    "            if x == elem :\n",
    "                self.set_list.remove(elem)\n",
    "                print(self.set_list)\n",
    "        \n",
    "    def clear(self) :\n",
    "        # Set에 존재하는 모든 원소 삭제\n",
    "        self.set_list = []\n",
    "        print(self.set_list)\n",
    "    \n",
    "    def __len__(self) :\n",
    "        # Set에 존재하는 원소 개수 반환\n",
    "        cnt = 0\n",
    "        for i in self.set_list :\n",
    "            cnt +=1\n",
    "        return cnt\n",
    "        \n",
    "    def ___str__(self) :\n",
    "        # Set에 존재하는 원소를 '{1, 2, 3}'의 형태로 반환\n",
    "        # data = \"{{}}\".format(self.set_list)\n",
    "        print(data)\n",
    "        \n",
    "    def __contains__(self, elem) :\n",
    "        # #### in 멤버체크 Set에 elem이 존재하면 참 반환, 아니면 거짓 반환\n",
    "        pass\n",
    "    \n",
    "    def __le__(self, b) :\n",
    "        #self가 other의 부분집합이면 참 반환, 아니면 거짓 반환\n",
    "        pass\n",
    "    \n",
    "    def __ge__(self, b) :\n",
    "        #other가 self의 부분집합이면 참 반환, 아니면 거짓 반환\n",
    "        pass\n",
    "    \n",
    "    def __or__(self, b) :\n",
    "        #self와 other의 원소를 모두 포함하는 합집합 Set반환\n",
    "        pass\n",
    "    \n",
    "    def __and__(self, b) :\n",
    "        # self와 other가 공통으로 포함하는 원소를 포함하는 교집합 Set 반환\n",
    "        pass\n",
    "    \n",
    "    def __sub__(self, b) :\n",
    "        #self의 원소 중 other에 없는 원소만을 포함하는 차집합 Set 반환\n",
    "        pass\n",
    "    \n",
    "    # 위의 기능에 맞추어 구현, In-place operation\n",
    "    def __ior__(self, b) :\n",
    "        \n",
    "        #return\n",
    "        pass\n",
    "    \n",
    "    def __iand__(self, b) :\n",
    "        #return\n",
    "        pass\n",
    "    \n",
    "    def __isub__(self, b) :\n",
    "        #return\n",
    "        pass        "
   ]
  },
  {
   "cell_type": "code",
   "execution_count": 66,
   "id": "e50781b9",
   "metadata": {},
   "outputs": [
    {
     "name": "stdout",
     "output_type": "stream",
     "text": [
      "<__main__.Set object at 0x7fa8f828a8b0>\n",
      "<__main__.Set object at 0x7fa8f828a040>\n",
      "\n"
     ]
    }
   ],
   "source": [
    "a = Set([1,2,3,4])\n",
    "b = Set([1,2,3,4])\n",
    "\n",
    "print(a)\n",
    "print(b)\n",
    "print()"
   ]
  },
  {
   "cell_type": "code",
   "execution_count": 67,
   "id": "ddfa3a7a",
   "metadata": {},
   "outputs": [
    {
     "name": "stdout",
     "output_type": "stream",
     "text": [
      "[1, 2, 3]\n"
     ]
    }
   ],
   "source": [
    "a.discard(4)"
   ]
  },
  {
   "cell_type": "code",
   "execution_count": 68,
   "id": "80d8bf0c",
   "metadata": {},
   "outputs": [
    {
     "data": {
      "text/plain": [
       "3"
      ]
     },
     "execution_count": 68,
     "metadata": {},
     "output_type": "execute_result"
    }
   ],
   "source": [
    "len(a)"
   ]
  },
  {
   "cell_type": "code",
   "execution_count": 69,
   "id": "d8a932c2",
   "metadata": {},
   "outputs": [],
   "source": [
    "a.add(5)"
   ]
  },
  {
   "cell_type": "code",
   "execution_count": 54,
   "id": "3d78541a",
   "metadata": {},
   "outputs": [
    {
     "name": "stdout",
     "output_type": "stream",
     "text": [
      "[]\n"
     ]
    }
   ],
   "source": [
    "a.clear()"
   ]
  },
  {
   "cell_type": "code",
   "execution_count": 65,
   "id": "d3f2d2d8",
   "metadata": {},
   "outputs": [
    {
     "name": "stdout",
     "output_type": "stream",
     "text": [
      "{}\n"
     ]
    }
   ],
   "source": [
    "a.___str__()"
   ]
  },
  {
   "cell_type": "code",
   "execution_count": null,
   "id": "55c7f7e2",
   "metadata": {},
   "outputs": [],
   "source": []
  },
  {
   "cell_type": "code",
   "execution_count": null,
   "id": "e7061db3",
   "metadata": {},
   "outputs": [],
   "source": []
  },
  {
   "cell_type": "code",
   "execution_count": null,
   "id": "b46e5b46",
   "metadata": {},
   "outputs": [],
   "source": []
  },
  {
   "cell_type": "code",
   "execution_count": null,
   "id": "a929ea5c",
   "metadata": {},
   "outputs": [],
   "source": []
  },
  {
   "cell_type": "code",
   "execution_count": null,
   "id": "e81738d0",
   "metadata": {},
   "outputs": [],
   "source": []
  },
  {
   "cell_type": "code",
   "execution_count": null,
   "id": "caf8f47e",
   "metadata": {},
   "outputs": [],
   "source": []
  },
  {
   "cell_type": "code",
   "execution_count": null,
   "id": "481f604c",
   "metadata": {},
   "outputs": [],
   "source": []
  },
  {
   "cell_type": "code",
   "execution_count": null,
   "id": "27049ecc",
   "metadata": {},
   "outputs": [],
   "source": []
  },
  {
   "cell_type": "code",
   "execution_count": null,
   "id": "8ab8f690",
   "metadata": {},
   "outputs": [],
   "source": []
  },
  {
   "cell_type": "code",
   "execution_count": null,
   "id": "3204472d",
   "metadata": {},
   "outputs": [],
   "source": []
  },
  {
   "cell_type": "code",
   "execution_count": null,
   "id": "75098291",
   "metadata": {},
   "outputs": [],
   "source": []
  },
  {
   "cell_type": "code",
   "execution_count": null,
   "id": "f1dc5c18",
   "metadata": {},
   "outputs": [],
   "source": []
  },
  {
   "cell_type": "code",
   "execution_count": null,
   "id": "87d8e372",
   "metadata": {},
   "outputs": [],
   "source": []
  },
  {
   "cell_type": "code",
   "execution_count": null,
   "id": "797a8a78",
   "metadata": {},
   "outputs": [],
   "source": []
  },
  {
   "cell_type": "code",
   "execution_count": null,
   "id": "8e6bcd4a",
   "metadata": {},
   "outputs": [],
   "source": []
  },
  {
   "cell_type": "code",
   "execution_count": null,
   "id": "4133c554",
   "metadata": {},
   "outputs": [],
   "source": []
  }
 ],
 "metadata": {
  "kernelspec": {
   "display_name": "Python 3 (ipykernel)",
   "language": "python",
   "name": "python3"
  },
  "language_info": {
   "codemirror_mode": {
    "name": "ipython",
    "version": 3
   },
   "file_extension": ".py",
   "mimetype": "text/x-python",
   "name": "python",
   "nbconvert_exporter": "python",
   "pygments_lexer": "ipython3",
   "version": "3.9.12"
  }
 },
 "nbformat": 4,
 "nbformat_minor": 5
}
