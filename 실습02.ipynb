{
 "cells": [
  {
   "cell_type": "markdown",
   "id": "6a250f7c",
   "metadata": {},
   "source": [
    "# 실습2"
   ]
  },
  {
   "cell_type": "markdown",
   "id": "40ed9a31",
   "metadata": {},
   "source": [
    "## 시퀀스(Sequence) 자료형"
   ]
  },
  {
   "cell_type": "markdown",
   "id": "11a36dd0",
   "metadata": {},
   "source": [
    "## 1. 문자열(String)"
   ]
  },
  {
   "cell_type": "code",
   "execution_count": 4,
   "id": "b3e4abb9",
   "metadata": {},
   "outputs": [
    {
     "data": {
      "text/plain": [
       "'Python is fun!'"
      ]
     },
     "execution_count": 4,
     "metadata": {},
     "output_type": "execute_result"
    }
   ],
   "source": [
    "a = 'Python is fun!'\n",
    "a"
   ]
  },
  {
   "cell_type": "code",
   "execution_count": 5,
   "id": "1a12d824",
   "metadata": {},
   "outputs": [
    {
     "data": {
      "text/plain": [
       "'PythonPythonPython'"
      ]
     },
     "execution_count": 5,
     "metadata": {},
     "output_type": "execute_result"
    }
   ],
   "source": [
    "'Python'*3"
   ]
  },
  {
   "cell_type": "code",
   "execution_count": 6,
   "id": "60b08eb3",
   "metadata": {},
   "outputs": [],
   "source": [
    "word = 'Python'"
   ]
  },
  {
   "cell_type": "code",
   "execution_count": 7,
   "id": "c053f5fa",
   "metadata": {},
   "outputs": [
    {
     "data": {
      "text/plain": [
       "'Py'"
      ]
     },
     "execution_count": 7,
     "metadata": {},
     "output_type": "execute_result"
    }
   ],
   "source": [
    "word[:2]"
   ]
  },
  {
   "cell_type": "code",
   "execution_count": 8,
   "id": "e052bd72",
   "metadata": {},
   "outputs": [
    {
     "data": {
      "text/plain": [
       "'Py'"
      ]
     },
     "execution_count": 8,
     "metadata": {},
     "output_type": "execute_result"
    }
   ],
   "source": [
    "word[0:2]"
   ]
  },
  {
   "cell_type": "code",
   "execution_count": 9,
   "id": "e55d044e",
   "metadata": {},
   "outputs": [
    {
     "data": {
      "text/plain": [
       "'hon'"
      ]
     },
     "execution_count": 9,
     "metadata": {},
     "output_type": "execute_result"
    }
   ],
   "source": [
    "word[3:]"
   ]
  },
  {
   "cell_type": "code",
   "execution_count": 10,
   "id": "0909e617",
   "metadata": {},
   "outputs": [],
   "source": [
    "word = \"12345\""
   ]
  },
  {
   "cell_type": "code",
   "execution_count": 11,
   "id": "85a663be",
   "metadata": {},
   "outputs": [
    {
     "data": {
      "text/plain": [
       "'12345'"
      ]
     },
     "execution_count": 11,
     "metadata": {},
     "output_type": "execute_result"
    }
   ],
   "source": [
    "word"
   ]
  },
  {
   "cell_type": "code",
   "execution_count": 12,
   "id": "43a16036",
   "metadata": {},
   "outputs": [
    {
     "data": {
      "text/plain": [
       "'12345'"
      ]
     },
     "execution_count": 12,
     "metadata": {},
     "output_type": "execute_result"
    }
   ],
   "source": [
    "word[:]"
   ]
  },
  {
   "cell_type": "code",
   "execution_count": 13,
   "id": "cfeda217",
   "metadata": {},
   "outputs": [
    {
     "data": {
      "text/plain": [
       "'54321'"
      ]
     },
     "execution_count": 13,
     "metadata": {},
     "output_type": "execute_result"
    }
   ],
   "source": [
    "word[::-1]"
   ]
  },
  {
   "cell_type": "code",
   "execution_count": 14,
   "id": "6ac4af6b",
   "metadata": {},
   "outputs": [
    {
     "data": {
      "text/plain": [
       "'135'"
      ]
     },
     "execution_count": 14,
     "metadata": {},
     "output_type": "execute_result"
    }
   ],
   "source": [
    "word[::2]"
   ]
  },
  {
   "cell_type": "code",
   "execution_count": 15,
   "id": "763e9660",
   "metadata": {},
   "outputs": [
    {
     "data": {
      "text/plain": [
       "1"
      ]
     },
     "execution_count": 15,
     "metadata": {},
     "output_type": "execute_result"
    }
   ],
   "source": [
    "word.index('2')"
   ]
  },
  {
   "cell_type": "code",
   "execution_count": 16,
   "id": "539267a2",
   "metadata": {},
   "outputs": [],
   "source": [
    "word2 = word+word[::-1]"
   ]
  },
  {
   "cell_type": "code",
   "execution_count": 17,
   "id": "53d0fa6b",
   "metadata": {},
   "outputs": [
    {
     "data": {
      "text/plain": [
       "'1234554321'"
      ]
     },
     "execution_count": 17,
     "metadata": {},
     "output_type": "execute_result"
    }
   ],
   "source": [
    "word2"
   ]
  },
  {
   "cell_type": "code",
   "execution_count": 18,
   "id": "a683e4bb",
   "metadata": {},
   "outputs": [
    {
     "data": {
      "text/plain": [
       "'5'"
      ]
     },
     "execution_count": 18,
     "metadata": {},
     "output_type": "execute_result"
    }
   ],
   "source": [
    "word2[4]"
   ]
  },
  {
   "cell_type": "code",
   "execution_count": 36,
   "id": "5e118b67",
   "metadata": {},
   "outputs": [
    {
     "name": "stdout",
     "output_type": "stream",
     "text": [
      "0\n",
      "9\n"
     ]
    }
   ],
   "source": [
    "i = 0\n",
    "index =''\n",
    "for i in range(len(word2)):\n",
    "    if word2[i] == '1':\n",
    "        index = i     \n",
    "        print(index)"
   ]
  },
  {
   "cell_type": "code",
   "execution_count": 37,
   "id": "badcd75c",
   "metadata": {},
   "outputs": [],
   "source": [
    "word = 'Python'"
   ]
  },
  {
   "cell_type": "code",
   "execution_count": 38,
   "id": "a31ddf40",
   "metadata": {},
   "outputs": [
    {
     "data": {
      "text/plain": [
       "True"
      ]
     },
     "execution_count": 38,
     "metadata": {},
     "output_type": "execute_result"
    }
   ],
   "source": [
    "'o' in word"
   ]
  },
  {
   "cell_type": "code",
   "execution_count": 39,
   "id": "1937be50",
   "metadata": {},
   "outputs": [
    {
     "data": {
      "text/plain": [
       "False"
      ]
     },
     "execution_count": 39,
     "metadata": {},
     "output_type": "execute_result"
    }
   ],
   "source": [
    "'x' in word"
   ]
  },
  {
   "cell_type": "code",
   "execution_count": 40,
   "id": "f58155a5",
   "metadata": {},
   "outputs": [
    {
     "data": {
      "text/plain": [
       "True"
      ]
     },
     "execution_count": 40,
     "metadata": {},
     "output_type": "execute_result"
    }
   ],
   "source": [
    "'on' in word"
   ]
  },
  {
   "cell_type": "code",
   "execution_count": 41,
   "id": "02f083bb",
   "metadata": {},
   "outputs": [
    {
     "data": {
      "text/plain": [
       "6"
      ]
     },
     "execution_count": 41,
     "metadata": {},
     "output_type": "execute_result"
    }
   ],
   "source": [
    "len(word)"
   ]
  },
  {
   "cell_type": "code",
   "execution_count": 42,
   "id": "6863253c",
   "metadata": {},
   "outputs": [
    {
     "data": {
      "text/plain": [
       "1"
      ]
     },
     "execution_count": 42,
     "metadata": {},
     "output_type": "execute_result"
    }
   ],
   "source": [
    "word.count('P')"
   ]
  },
  {
   "cell_type": "code",
   "execution_count": 43,
   "id": "2549d706",
   "metadata": {},
   "outputs": [],
   "source": [
    "s = 'Python is fun!'"
   ]
  },
  {
   "cell_type": "code",
   "execution_count": 55,
   "id": "f4dd35bc",
   "metadata": {},
   "outputs": [
    {
     "data": {
      "text/plain": [
       "2"
      ]
     },
     "execution_count": 55,
     "metadata": {},
     "output_type": "execute_result"
    }
   ],
   "source": [
    "# 자료형.함수 => method(매서드)라고 부름\n",
    "s.count('n')"
   ]
  },
  {
   "cell_type": "code",
   "execution_count": 54,
   "id": "ce128c82",
   "metadata": {},
   "outputs": [
    {
     "data": {
      "text/plain": [
       "5"
      ]
     },
     "execution_count": 54,
     "metadata": {},
     "output_type": "execute_result"
    }
   ],
   "source": [
    "s.find('n')"
   ]
  },
  {
   "cell_type": "code",
   "execution_count": 57,
   "id": "c5a555b3",
   "metadata": {},
   "outputs": [
    {
     "data": {
      "text/plain": [
       "'PYTHON IS FUN!'"
      ]
     },
     "execution_count": 57,
     "metadata": {},
     "output_type": "execute_result"
    }
   ],
   "source": [
    "s.upper()"
   ]
  },
  {
   "cell_type": "code",
   "execution_count": 59,
   "id": "736bcbbd",
   "metadata": {},
   "outputs": [
    {
     "ename": "TypeError",
     "evalue": "str.upper() takes no arguments (1 given)",
     "output_type": "error",
     "traceback": [
      "\u001b[0;31m---------------------------------------------------------------------------\u001b[0m",
      "\u001b[0;31mTypeError\u001b[0m                                 Traceback (most recent call last)",
      "Input \u001b[0;32mIn [59]\u001b[0m, in \u001b[0;36m<cell line: 1>\u001b[0;34m()\u001b[0m\n\u001b[0;32m----> 1\u001b[0m \u001b[43ms\u001b[49m\u001b[38;5;241;43m.\u001b[39;49m\u001b[43mupper\u001b[49m\u001b[43m(\u001b[49m\u001b[38;5;124;43m'\u001b[39;49m\u001b[38;5;124;43mi\u001b[39;49m\u001b[38;5;124;43m'\u001b[39;49m\u001b[43m)\u001b[49m\n",
      "\u001b[0;31mTypeError\u001b[0m: str.upper() takes no arguments (1 given)"
     ]
    }
   ],
   "source": [
    "s.upper('i')"
   ]
  },
  {
   "cell_type": "code",
   "execution_count": 45,
   "id": "56f7dadd",
   "metadata": {},
   "outputs": [
    {
     "data": {
      "text/plain": [
       "5"
      ]
     },
     "execution_count": 45,
     "metadata": {},
     "output_type": "execute_result"
    }
   ],
   "source": [
    "s.index('n')"
   ]
  },
  {
   "cell_type": "code",
   "execution_count": 46,
   "id": "8ae5e6cb",
   "metadata": {},
   "outputs": [],
   "source": [
    "a =','"
   ]
  },
  {
   "cell_type": "code",
   "execution_count": 47,
   "id": "1fc4897b",
   "metadata": {},
   "outputs": [
    {
     "data": {
      "text/plain": [
       "'1,2,3,4'"
      ]
     },
     "execution_count": 47,
     "metadata": {},
     "output_type": "execute_result"
    }
   ],
   "source": [
    "a.join('1234')"
   ]
  },
  {
   "cell_type": "code",
   "execution_count": 51,
   "id": "e105e9ed",
   "metadata": {},
   "outputs": [],
   "source": [
    "abc = ' '"
   ]
  },
  {
   "cell_type": "code",
   "execution_count": 52,
   "id": "9bcbb2b4",
   "metadata": {},
   "outputs": [
    {
     "data": {
      "text/plain": [
       "'h i'"
      ]
     },
     "execution_count": 52,
     "metadata": {},
     "output_type": "execute_result"
    }
   ],
   "source": [
    "abc.join('hi')"
   ]
  },
  {
   "cell_type": "code",
   "execution_count": 53,
   "id": "4d051ff0",
   "metadata": {},
   "outputs": [
    {
     "data": {
      "text/plain": [
       "'h i h i'"
      ]
     },
     "execution_count": 53,
     "metadata": {},
     "output_type": "execute_result"
    }
   ],
   "source": [
    "abc.join('hihi')"
   ]
  },
  {
   "cell_type": "code",
   "execution_count": 60,
   "id": "4552c81f",
   "metadata": {},
   "outputs": [
    {
     "data": {
      "text/plain": [
       "'1,2,3,4'"
      ]
     },
     "execution_count": 60,
     "metadata": {},
     "output_type": "execute_result"
    }
   ],
   "source": [
    "','.join('1234')"
   ]
  },
  {
   "cell_type": "code",
   "execution_count": 64,
   "id": "017a075d",
   "metadata": {},
   "outputs": [],
   "source": [
    "a = list(''.join('1234'))"
   ]
  },
  {
   "cell_type": "code",
   "execution_count": 65,
   "id": "7a1982ef",
   "metadata": {},
   "outputs": [
    {
     "data": {
      "text/plain": [
       "['1', '2', '3', '4']"
      ]
     },
     "execution_count": 65,
     "metadata": {},
     "output_type": "execute_result"
    }
   ],
   "source": [
    "a"
   ]
  },
  {
   "cell_type": "code",
   "execution_count": 66,
   "id": "9d6d6f64",
   "metadata": {},
   "outputs": [],
   "source": [
    "s1 = 'python is fun'"
   ]
  },
  {
   "cell_type": "code",
   "execution_count": 67,
   "id": "69104671",
   "metadata": {},
   "outputs": [
    {
     "data": {
      "text/plain": [
       "['python', 'is', 'fun']"
      ]
     },
     "execution_count": 67,
     "metadata": {},
     "output_type": "execute_result"
    }
   ],
   "source": [
    "s1.split()"
   ]
  },
  {
   "cell_type": "code",
   "execution_count": 68,
   "id": "3d9920a1",
   "metadata": {},
   "outputs": [],
   "source": [
    "s2 = \"one:two:three\""
   ]
  },
  {
   "cell_type": "code",
   "execution_count": 69,
   "id": "064eaef1",
   "metadata": {},
   "outputs": [
    {
     "data": {
      "text/plain": [
       "['one', 'two', 'three']"
      ]
     },
     "execution_count": 69,
     "metadata": {},
     "output_type": "execute_result"
    }
   ],
   "source": [
    "s2.split(\":\")"
   ]
  },
  {
   "cell_type": "code",
   "execution_count": 70,
   "id": "b4387e45",
   "metadata": {},
   "outputs": [
    {
     "data": {
      "text/plain": [
       "'one:two:three'"
      ]
     },
     "execution_count": 70,
     "metadata": {},
     "output_type": "execute_result"
    }
   ],
   "source": [
    "s2"
   ]
  },
  {
   "cell_type": "markdown",
   "id": "823bb46e",
   "metadata": {},
   "source": [
    "## 리스트"
   ]
  },
  {
   "cell_type": "code",
   "execution_count": 71,
   "id": "f7ea3885",
   "metadata": {},
   "outputs": [],
   "source": [
    "fruit = [\"banana\",\"apple\", \"cherry\"]"
   ]
  },
  {
   "cell_type": "code",
   "execution_count": 72,
   "id": "fa5b4737",
   "metadata": {},
   "outputs": [
    {
     "data": {
      "text/plain": [
       "3"
      ]
     },
     "execution_count": 72,
     "metadata": {},
     "output_type": "execute_result"
    }
   ],
   "source": [
    "len(fruit)"
   ]
  },
  {
   "cell_type": "code",
   "execution_count": 73,
   "id": "fc821708",
   "metadata": {},
   "outputs": [
    {
     "data": {
      "text/plain": [
       "6"
      ]
     },
     "execution_count": 73,
     "metadata": {},
     "output_type": "execute_result"
    }
   ],
   "source": [
    "len(fruit[0])"
   ]
  },
  {
   "cell_type": "code",
   "execution_count": 74,
   "id": "c686448e",
   "metadata": {},
   "outputs": [],
   "source": [
    "score = [70,99,25,100]"
   ]
  },
  {
   "cell_type": "code",
   "execution_count": 75,
   "id": "6fdccea9",
   "metadata": {},
   "outputs": [],
   "source": [
    "empty_list =[]"
   ]
  },
  {
   "cell_type": "code",
   "execution_count": 76,
   "id": "1d545e7a",
   "metadata": {},
   "outputs": [
    {
     "data": {
      "text/plain": [
       "['spring', 'summer', 'fall', 'winter']"
      ]
     },
     "execution_count": 76,
     "metadata": {},
     "output_type": "execute_result"
    }
   ],
   "source": [
    "season = ['spring', 'summer', 'fall', 'winter']\n",
    "season"
   ]
  },
  {
   "cell_type": "code",
   "execution_count": 77,
   "id": "4a708bb6",
   "metadata": {},
   "outputs": [
    {
     "data": {
      "text/plain": [
       "'summer'"
      ]
     },
     "execution_count": 77,
     "metadata": {},
     "output_type": "execute_result"
    }
   ],
   "source": [
    "season[1]"
   ]
  },
  {
   "cell_type": "code",
   "execution_count": 81,
   "id": "a6286801",
   "metadata": {},
   "outputs": [
    {
     "data": {
      "text/plain": [
       "'봄 여 름 가 을 겨 울'"
      ]
     },
     "execution_count": 81,
     "metadata": {},
     "output_type": "execute_result"
    }
   ],
   "source": [
    "\" \".join(\"봄여름가을겨울\")"
   ]
  },
  {
   "cell_type": "code",
   "execution_count": 82,
   "id": "984f36e9",
   "metadata": {},
   "outputs": [],
   "source": [
    "a = [45,87,99,21,55]"
   ]
  },
  {
   "cell_type": "code",
   "execution_count": 83,
   "id": "df270a15",
   "metadata": {},
   "outputs": [
    {
     "data": {
      "text/plain": [
       "[45, 87]"
      ]
     },
     "execution_count": 83,
     "metadata": {},
     "output_type": "execute_result"
    }
   ],
   "source": [
    "a[:2]"
   ]
  },
  {
   "cell_type": "code",
   "execution_count": 84,
   "id": "e670f975",
   "metadata": {},
   "outputs": [
    {
     "data": {
      "text/plain": [
       "[21, 55]"
      ]
     },
     "execution_count": 84,
     "metadata": {},
     "output_type": "execute_result"
    }
   ],
   "source": [
    "a[3:]"
   ]
  },
  {
   "cell_type": "code",
   "execution_count": 85,
   "id": "f4d6c675",
   "metadata": {},
   "outputs": [
    {
     "data": {
      "text/plain": [
       "[1, 2, 3, 4, 5, 6]"
      ]
     },
     "execution_count": 85,
     "metadata": {},
     "output_type": "execute_result"
    }
   ],
   "source": [
    "a = [1,2,3]\n",
    "b = [4,5,6]\n",
    "a+b"
   ]
  },
  {
   "cell_type": "code",
   "execution_count": 86,
   "id": "ddaccecf",
   "metadata": {},
   "outputs": [
    {
     "data": {
      "text/plain": [
       "[1, 2, 3, 1, 2, 3, 1, 2, 3]"
      ]
     },
     "execution_count": 86,
     "metadata": {},
     "output_type": "execute_result"
    }
   ],
   "source": [
    "a*3"
   ]
  },
  {
   "cell_type": "code",
   "execution_count": 87,
   "id": "bfefd517",
   "metadata": {},
   "outputs": [],
   "source": [
    "fruit = [\"banana\", \"apple\", \"orange\"]"
   ]
  },
  {
   "cell_type": "code",
   "execution_count": 88,
   "id": "5f553467",
   "metadata": {},
   "outputs": [
    {
     "data": {
      "text/plain": [
       "True"
      ]
     },
     "execution_count": 88,
     "metadata": {},
     "output_type": "execute_result"
    }
   ],
   "source": [
    "\"apple\" in fruit"
   ]
  },
  {
   "cell_type": "code",
   "execution_count": 91,
   "id": "ae3b3781",
   "metadata": {},
   "outputs": [
    {
     "data": {
      "text/plain": [
       "False"
      ]
     },
     "execution_count": 91,
     "metadata": {},
     "output_type": "execute_result"
    }
   ],
   "source": [
    "\"apple orange\" in fruit"
   ]
  },
  {
   "cell_type": "code",
   "execution_count": 92,
   "id": "c71007cd",
   "metadata": {},
   "outputs": [
    {
     "data": {
      "text/plain": [
       "False"
      ]
     },
     "execution_count": 92,
     "metadata": {},
     "output_type": "execute_result"
    }
   ],
   "source": [
    "\"cherry\" in fruit"
   ]
  },
  {
   "cell_type": "code",
   "execution_count": 93,
   "id": "0ee6fc08",
   "metadata": {},
   "outputs": [
    {
     "data": {
      "text/plain": [
       "True"
      ]
     },
     "execution_count": 93,
     "metadata": {},
     "output_type": "execute_result"
    }
   ],
   "source": [
    "\"cherry\" not in fruit"
   ]
  },
  {
   "cell_type": "code",
   "execution_count": 95,
   "id": "9f7c7b2d",
   "metadata": {},
   "outputs": [],
   "source": [
    "a = '1 2 3'\n",
    "a = a.split()"
   ]
  },
  {
   "cell_type": "code",
   "execution_count": 96,
   "id": "f4f7aea6",
   "metadata": {},
   "outputs": [
    {
     "data": {
      "text/plain": [
       "'3'"
      ]
     },
     "execution_count": 96,
     "metadata": {},
     "output_type": "execute_result"
    }
   ],
   "source": [
    "a[2]"
   ]
  },
  {
   "cell_type": "code",
   "execution_count": 98,
   "id": "fde6c828",
   "metadata": {},
   "outputs": [
    {
     "data": {
      "text/plain": [
       "['1', '2', '8']"
      ]
     },
     "execution_count": 98,
     "metadata": {},
     "output_type": "execute_result"
    }
   ],
   "source": [
    "a[2] = '8'\n",
    "a"
   ]
  },
  {
   "cell_type": "code",
   "execution_count": 99,
   "id": "a8b39429",
   "metadata": {},
   "outputs": [],
   "source": [
    "del a[0]"
   ]
  },
  {
   "cell_type": "code",
   "execution_count": 100,
   "id": "7d4149e8",
   "metadata": {},
   "outputs": [
    {
     "data": {
      "text/plain": [
       "['2', '8']"
      ]
     },
     "execution_count": 100,
     "metadata": {},
     "output_type": "execute_result"
    }
   ],
   "source": [
    "a"
   ]
  },
  {
   "cell_type": "markdown",
   "id": "4f6cce1e",
   "metadata": {},
   "source": [
    "### 리스트 패킹, 언패킹\n",
    "\n",
    "패킹 : 한 변수에 여러 개의 데이터를 넣는 것  \n",
    "언패킹 : 한 변수의 데이터를 각각의 변수로 반환  "
   ]
  },
  {
   "cell_type": "code",
   "execution_count": 101,
   "id": "fa781a4b",
   "metadata": {},
   "outputs": [],
   "source": [
    "t = [1,2,3]\n",
    "a,b,c = t"
   ]
  },
  {
   "cell_type": "code",
   "execution_count": 102,
   "id": "251224d1",
   "metadata": {},
   "outputs": [
    {
     "data": {
      "text/plain": [
       "1"
      ]
     },
     "execution_count": 102,
     "metadata": {},
     "output_type": "execute_result"
    }
   ],
   "source": [
    "a"
   ]
  },
  {
   "cell_type": "code",
   "execution_count": 103,
   "id": "86058e0c",
   "metadata": {},
   "outputs": [
    {
     "name": "stdout",
     "output_type": "stream",
     "text": [
      "1 2 3\n"
     ]
    }
   ],
   "source": [
    "print(a,b,c)"
   ]
  },
  {
   "cell_type": "code",
   "execution_count": 105,
   "id": "c64ba661",
   "metadata": {},
   "outputs": [
    {
     "ename": "ValueError",
     "evalue": "too many values to unpack (expected 2)",
     "output_type": "error",
     "traceback": [
      "\u001b[0;31m---------------------------------------------------------------------------\u001b[0m",
      "\u001b[0;31mValueError\u001b[0m                                Traceback (most recent call last)",
      "Input \u001b[0;32mIn [105]\u001b[0m, in \u001b[0;36m<cell line: 2>\u001b[0;34m()\u001b[0m\n\u001b[1;32m      1\u001b[0m \u001b[38;5;66;03m# 개수가 맞지 않으면 에러 발생\u001b[39;00m\n\u001b[0;32m----> 2\u001b[0m x, y \u001b[38;5;241m=\u001b[39m t\n",
      "\u001b[0;31mValueError\u001b[0m: too many values to unpack (expected 2)"
     ]
    }
   ],
   "source": [
    "# 개수가 맞지 않으면 에러 발생\n",
    "x, y = t"
   ]
  },
  {
   "cell_type": "code",
   "execution_count": 106,
   "id": "9a0a227b",
   "metadata": {},
   "outputs": [],
   "source": [
    "a,b,c = t[::-1]"
   ]
  },
  {
   "cell_type": "code",
   "execution_count": 107,
   "id": "8854be4a",
   "metadata": {},
   "outputs": [
    {
     "name": "stdout",
     "output_type": "stream",
     "text": [
      "3 2 1\n"
     ]
    }
   ],
   "source": [
    "print(a,b,c)"
   ]
  },
  {
   "cell_type": "markdown",
   "id": "4284e43b",
   "metadata": {},
   "source": [
    "## 조건문"
   ]
  },
  {
   "cell_type": "markdown",
   "id": "249d276e",
   "metadata": {},
   "source": [
    "논리연산자  \n",
    "\n",
    ": and  \n",
    ": or  \n",
    ": not  "
   ]
  },
  {
   "cell_type": "code",
   "execution_count": 108,
   "id": "23e12d66",
   "metadata": {},
   "outputs": [
    {
     "data": {
      "text/plain": [
       "True"
      ]
     },
     "execution_count": 108,
     "metadata": {},
     "output_type": "execute_result"
    }
   ],
   "source": [
    "a = 99\n",
    "not(a ==100)"
   ]
  },
  {
   "cell_type": "code",
   "execution_count": 109,
   "id": "410abf52",
   "metadata": {},
   "outputs": [
    {
     "name": "stdout",
     "output_type": "stream",
     "text": [
      "거짓\n",
      "100보다 크거나 같다\n",
      "프로그램 끝\n"
     ]
    }
   ],
   "source": [
    "a = 200\n",
    "\n",
    "if a<100 :\n",
    "    print(\"참\")\n",
    "    print(\"100보다 작다\")\n",
    "else :\n",
    "    print(\"거짓\")\n",
    "    print(\"100보다 크거나 같다\")\n",
    "    \n",
    "print(\"프로그램 끝\")"
   ]
  },
  {
   "cell_type": "code",
   "execution_count": 110,
   "id": "ef4477ba",
   "metadata": {},
   "outputs": [
    {
     "name": "stdout",
     "output_type": "stream",
     "text": [
      "정수를 입력하시오: 100\n",
      "양수입니다.\n"
     ]
    }
   ],
   "source": [
    "num = int(input(\"정수를 입력하시오: \"))\n",
    "\n",
    "if num >0 :\n",
    "    print(\"양수입니다.\")\n",
    "elif num == 0:\n",
    "    print(\"0입니다.\")\n",
    "else :\n",
    "    print(\"음수입니다.\")"
   ]
  },
  {
   "cell_type": "code",
   "execution_count": 111,
   "id": "993ee36a",
   "metadata": {},
   "outputs": [
    {
     "name": "stdout",
     "output_type": "stream",
     "text": [
      "성공\n"
     ]
    }
   ],
   "source": [
    "if 1 in [1,2,3] :\n",
    "    print(\"성공\")\n",
    "else :\n",
    "    print(\"실패\")"
   ]
  },
  {
   "cell_type": "markdown",
   "id": "cd90c9c1",
   "metadata": {},
   "source": [
    "## 실습1"
   ]
  },
  {
   "cell_type": "code",
   "execution_count": 116,
   "id": "890b3327",
   "metadata": {},
   "outputs": [
    {
     "name": "stdout",
     "output_type": "stream",
     "text": [
      "영어 점수 입력: 80\n",
      "수학 점수 입력: 20\n",
      "불합격: 총합 점수 부족\n"
     ]
    }
   ],
   "source": [
    "score_english = int(input(\"영어 점수 입력: \"))\n",
    "score_math = int(input(\"수학 점수 입력: \"))\n",
    "\n",
    "if(score_english+score_math <110):\n",
    "    print(\"불합격: 총합 점수 부족\")\n",
    "elif score_math<40:\n",
    "    print(\"불합격: 수학 점수 부족\")\n",
    "elif score_english<40:\n",
    "    print(\"불합격: 영어 점수 부족\")\n",
    "else :\n",
    "    print(\"합격\")"
   ]
  },
  {
   "cell_type": "markdown",
   "id": "c956a40f",
   "metadata": {},
   "source": [
    "## 실습2"
   ]
  },
  {
   "cell_type": "code",
   "execution_count": 120,
   "id": "7be100e3",
   "metadata": {},
   "outputs": [
    {
     "name": "stdout",
     "output_type": "stream",
     "text": [
      "세 개의 수를 입력하시오: 30 22 50\n",
      "가장 큰 수는 50입니다.\n"
     ]
    }
   ],
   "source": [
    "numbers = input(\"세 개의 수를 입력하시오: \").split()\n",
    "numbers = list(map(int, numbers))\n",
    "\n",
    "max_number = numbers[0]\n",
    "\n",
    "if(numbers[1]>max_number):\n",
    "    max_number = numbers[1]\n",
    "else :\n",
    "    if(numbers[2]> max_number):\n",
    "        max_number = numbers[2]\n",
    "\n",
    "print(\"가장 큰 수는 %d입니다.\" %max_number)"
   ]
  },
  {
   "cell_type": "code",
   "execution_count": 134,
   "id": "97a3b56d",
   "metadata": {},
   "outputs": [
    {
     "name": "stdout",
     "output_type": "stream",
     "text": [
      "세 개의 수를 입력하시오: 30 22 50\n",
      "가장 큰 수는 50입니다.\n"
     ]
    }
   ],
   "source": [
    "a, b, c = input(\"세 개의 수를 입력하시오: \").split()\n",
    "a, b, c = int(a), int(b), int(c)\n",
    "\n",
    "if a>b:\n",
    "    if a>c:\n",
    "        max_value = a\n",
    "    else :\n",
    "        max_value = c\n",
    "else :\n",
    "    if b>c:\n",
    "        max_value = b\n",
    "    else :\n",
    "        max_value = c\n",
    "\n",
    "print(\"가장 큰 수는 %d입니다.\" %max_value)"
   ]
  },
  {
   "cell_type": "markdown",
   "id": "b1f10a68",
   "metadata": {},
   "source": [
    "## 반복문"
   ]
  },
  {
   "cell_type": "markdown",
   "id": "1a60d6a5",
   "metadata": {},
   "source": [
    "### while문"
   ]
  },
  {
   "cell_type": "code",
   "execution_count": 121,
   "id": "5b23f38a",
   "metadata": {},
   "outputs": [
    {
     "name": "stdout",
     "output_type": "stream",
     "text": [
      "1\n",
      "2\n",
      "3\n",
      "4\n",
      "5\n"
     ]
    }
   ],
   "source": [
    "number = 1\n",
    "while number <=5 :\n",
    "    print(number)\n",
    "    number = number +1"
   ]
  },
  {
   "cell_type": "code",
   "execution_count": 123,
   "id": "d27ea0f7",
   "metadata": {},
   "outputs": [
    {
     "name": "stdout",
     "output_type": "stream",
     "text": [
      "1 2 3 4 5 "
     ]
    }
   ],
   "source": [
    "number = 1\n",
    "while number <=5 :\n",
    "    print(number, end=' ')\n",
    "    number = number +1"
   ]
  },
  {
   "cell_type": "code",
   "execution_count": 126,
   "id": "24ec3dd4",
   "metadata": {},
   "outputs": [
    {
     "name": "stdout",
     "output_type": "stream",
     "text": [
      "1부터 10까지의 합: 55\n"
     ]
    }
   ],
   "source": [
    "# while 문 이용해서 1~10까지의 합\n",
    "i = 1\n",
    "sum = 0\n",
    "while i <11 :\n",
    "    sum = sum + i\n",
    "    i = i +1\n",
    "    \n",
    "print(\"1부터 10까지의 합: %d\" %sum)"
   ]
  },
  {
   "cell_type": "markdown",
   "id": "e1356367",
   "metadata": {},
   "source": [
    "## range() 함수"
   ]
  },
  {
   "cell_type": "code",
   "execution_count": 128,
   "id": "880bff53",
   "metadata": {},
   "outputs": [
    {
     "data": {
      "text/plain": [
       "[1, 3, 5]"
      ]
     },
     "execution_count": 128,
     "metadata": {},
     "output_type": "execute_result"
    }
   ],
   "source": [
    "list(range(1,7,2))"
   ]
  },
  {
   "cell_type": "code",
   "execution_count": 144,
   "id": "92d0333c",
   "metadata": {},
   "outputs": [
    {
     "data": {
      "text/plain": [
       "5"
      ]
     },
     "execution_count": 144,
     "metadata": {},
     "output_type": "execute_result"
    }
   ],
   "source": [
    "range(1,7,2)[2]"
   ]
  },
  {
   "cell_type": "code",
   "execution_count": 130,
   "id": "4116abe8",
   "metadata": {},
   "outputs": [
    {
     "data": {
      "text/plain": [
       "[0, 1, 2, 3, 4]"
      ]
     },
     "execution_count": 130,
     "metadata": {},
     "output_type": "execute_result"
    }
   ],
   "source": [
    "list(range(5))"
   ]
  },
  {
   "cell_type": "code",
   "execution_count": 131,
   "id": "c53dd34b",
   "metadata": {},
   "outputs": [
    {
     "data": {
      "text/plain": [
       "[5, 6, 7, 8, 9]"
      ]
     },
     "execution_count": 131,
     "metadata": {},
     "output_type": "execute_result"
    }
   ],
   "source": [
    "list(range(5,10))"
   ]
  },
  {
   "cell_type": "code",
   "execution_count": 143,
   "id": "6eb7711a",
   "metadata": {},
   "outputs": [
    {
     "data": {
      "text/plain": [
       "True"
      ]
     },
     "execution_count": 143,
     "metadata": {},
     "output_type": "execute_result"
    }
   ],
   "source": [
    "\"dddd\".__contains__(\"dd\")"
   ]
  },
  {
   "cell_type": "markdown",
   "id": "0b09f378",
   "metadata": {},
   "source": [
    "## for문"
   ]
  },
  {
   "cell_type": "code",
   "execution_count": 132,
   "id": "ef83e0a7",
   "metadata": {},
   "outputs": [
    {
     "name": "stdout",
     "output_type": "stream",
     "text": [
      "Hello World!\n",
      "Hello World!\n",
      "Hello World!\n",
      "Hello World!\n",
      "Hello World!\n"
     ]
    }
   ],
   "source": [
    "for x in range(5):\n",
    "    print(\"Hello World!\")"
   ]
  },
  {
   "cell_type": "code",
   "execution_count": 133,
   "id": "d7907b54",
   "metadata": {},
   "outputs": [
    {
     "name": "stdout",
     "output_type": "stream",
     "text": [
      "01234"
     ]
    }
   ],
   "source": [
    "for x in range(5):\n",
    "    print(x,end='')"
   ]
  },
  {
   "cell_type": "code",
   "execution_count": 135,
   "id": "767e20d8",
   "metadata": {},
   "outputs": [
    {
     "name": "stdout",
     "output_type": "stream",
     "text": [
      "13579"
     ]
    }
   ],
   "source": [
    "for x in range(1,10,2):\n",
    "    print(x,end='')"
   ]
  },
  {
   "cell_type": "code",
   "execution_count": 136,
   "id": "60bb5f73",
   "metadata": {},
   "outputs": [
    {
     "name": "stdout",
     "output_type": "stream",
     "text": [
      "python"
     ]
    }
   ],
   "source": [
    "for x in \"python\" :\n",
    "    print(x, end='')"
   ]
  },
  {
   "cell_type": "markdown",
   "id": "c7340b48",
   "metadata": {},
   "source": [
    "## 실습1(구구단 출력)"
   ]
  },
  {
   "cell_type": "code",
   "execution_count": 137,
   "id": "94417639",
   "metadata": {},
   "outputs": [
    {
     "name": "stdout",
     "output_type": "stream",
     "text": [
      "출력하고 싶은 단을 입력하세요: 7\n",
      "7 * 1 = 7\n",
      "7 * 2 = 14\n",
      "7 * 3 = 21\n",
      "7 * 4 = 28\n",
      "7 * 5 = 35\n",
      "7 * 6 = 42\n",
      "7 * 7 = 49\n",
      "7 * 8 = 56\n",
      "7 * 9 = 63\n"
     ]
    }
   ],
   "source": [
    "n = int(input(\"출력하고 싶은 단을 입력하세요: \"))\n",
    "\n",
    "for i in range(1,10,1):\n",
    "    print(\"%d * %d = %d\" %(n, i, n*i))"
   ]
  },
  {
   "cell_type": "markdown",
   "id": "d6b967c9",
   "metadata": {},
   "source": [
    "## 실습2"
   ]
  },
  {
   "cell_type": "code",
   "execution_count": 138,
   "id": "74f18fac",
   "metadata": {},
   "outputs": [
    {
     "name": "stdout",
     "output_type": "stream",
     "text": [
      "Input an integer: 3159\n",
      "★★★\n",
      "★\n",
      "★★★★★\n",
      "★★★★★★★★★\n"
     ]
    }
   ],
   "source": [
    "numbers = input(\"Input an integer: \")\n",
    "\n",
    "for i in range(len(numbers)):\n",
    "    print(\"★\"*int(numbers[i]))"
   ]
  },
  {
   "cell_type": "code",
   "execution_count": 176,
   "id": "0be4a2e1",
   "metadata": {},
   "outputs": [
    {
     "name": "stdout",
     "output_type": "stream",
     "text": [
      "Input an integer: 3159\n",
      "★★★\n",
      "★\n",
      "★★★★★\n",
      "★★★★★★★★★\n"
     ]
    }
   ],
   "source": [
    "nn = input(\"Input an integer: \")\n",
    "\n",
    "i=0\n",
    "while nn[i] !='' :\n",
    "    print(\"★\"*int(nn[i]))\n",
    "    i = i+1\n",
    "    if i == len(nn):\n",
    "        break"
   ]
  },
  {
   "cell_type": "code",
   "execution_count": 24,
   "id": "717ea59e",
   "metadata": {},
   "outputs": [
    {
     "name": "stdout",
     "output_type": "stream",
     "text": [
      "Input an integer: 3159\n",
      "★★★\n",
      "★\n",
      "★★★★★\n",
      "★★★★★★★★★\n"
     ]
    }
   ],
   "source": [
    "star_num = input(\"Input an integer: \")\n",
    "\n",
    "for x in star_num :\n",
    "    x = int(x)\n",
    "    for _ in range(x) :\n",
    "        print(\"★\", end=\"\")\n",
    "    print(\"\")"
   ]
  },
  {
   "cell_type": "markdown",
   "id": "0a922206",
   "metadata": {},
   "source": [
    "## break, continue"
   ]
  },
  {
   "cell_type": "code",
   "execution_count": 140,
   "id": "0716a4d3",
   "metadata": {},
   "outputs": [
    {
     "name": "stdout",
     "output_type": "stream",
     "text": [
      "12345"
     ]
    }
   ],
   "source": [
    "for i in range(1,11):\n",
    "    if i>5:\n",
    "        break\n",
    "    print(i,end='')"
   ]
  },
  {
   "cell_type": "code",
   "execution_count": 142,
   "id": "7faac79d",
   "metadata": {},
   "outputs": [
    {
     "name": "stdout",
     "output_type": "stream",
     "text": [
      "13579"
     ]
    }
   ],
   "source": [
    "for i in range(1,11):\n",
    "    if i%2 ==0 :\n",
    "        continue\n",
    "    print(i, end='')"
   ]
  },
  {
   "cell_type": "markdown",
   "id": "9a012e6c",
   "metadata": {},
   "source": [
    "## 리스트 관련 함수"
   ]
  },
  {
   "cell_type": "code",
   "execution_count": 145,
   "id": "3a96a4b2",
   "metadata": {},
   "outputs": [],
   "source": [
    "colors = []"
   ]
  },
  {
   "cell_type": "code",
   "execution_count": 146,
   "id": "36db644c",
   "metadata": {},
   "outputs": [
    {
     "data": {
      "text/plain": [
       "[]"
      ]
     },
     "execution_count": 146,
     "metadata": {},
     "output_type": "execute_result"
    }
   ],
   "source": [
    "colors"
   ]
  },
  {
   "cell_type": "markdown",
   "id": "ed68e91f",
   "metadata": {},
   "source": [
    "### .append() 추가"
   ]
  },
  {
   "cell_type": "code",
   "execution_count": 147,
   "id": "08864ce3",
   "metadata": {},
   "outputs": [],
   "source": [
    "colors.append('red')"
   ]
  },
  {
   "cell_type": "code",
   "execution_count": 148,
   "id": "c65e8cfa",
   "metadata": {},
   "outputs": [],
   "source": [
    "colors.append('green')"
   ]
  },
  {
   "cell_type": "code",
   "execution_count": 149,
   "id": "c7fbec5b",
   "metadata": {},
   "outputs": [],
   "source": [
    "colors.append('blue')"
   ]
  },
  {
   "cell_type": "code",
   "execution_count": 150,
   "id": "e9b72733",
   "metadata": {},
   "outputs": [
    {
     "name": "stdout",
     "output_type": "stream",
     "text": [
      "['red', 'green', 'blue']\n"
     ]
    }
   ],
   "source": [
    "print(colors)"
   ]
  },
  {
   "cell_type": "markdown",
   "id": "188c656d",
   "metadata": {},
   "source": [
    "### . pop() 제일 뒤에 원소 삭제"
   ]
  },
  {
   "cell_type": "code",
   "execution_count": 26,
   "id": "904f01ea",
   "metadata": {},
   "outputs": [],
   "source": [
    "colors = []\n",
    "colors.append('red')\n",
    "colors.append('green')\n",
    "colors.append('blue')"
   ]
  },
  {
   "cell_type": "code",
   "execution_count": 27,
   "id": "c6140931",
   "metadata": {},
   "outputs": [
    {
     "data": {
      "text/plain": [
       "['red', 'green', 'blue']"
      ]
     },
     "execution_count": 27,
     "metadata": {},
     "output_type": "execute_result"
    }
   ],
   "source": [
    "colors"
   ]
  },
  {
   "cell_type": "code",
   "execution_count": 28,
   "id": "9f02b063",
   "metadata": {},
   "outputs": [
    {
     "data": {
      "text/plain": [
       "'blue'"
      ]
     },
     "execution_count": 28,
     "metadata": {},
     "output_type": "execute_result"
    }
   ],
   "source": [
    "colors.pop()"
   ]
  },
  {
   "cell_type": "code",
   "execution_count": 29,
   "id": "bb3f7c0b",
   "metadata": {},
   "outputs": [
    {
     "data": {
      "text/plain": [
       "['red', 'green']"
      ]
     },
     "execution_count": 29,
     "metadata": {},
     "output_type": "execute_result"
    }
   ],
   "source": [
    "colors"
   ]
  },
  {
   "cell_type": "markdown",
   "id": "5423e4e8",
   "metadata": {},
   "source": [
    "### .remove() 삭제"
   ]
  },
  {
   "cell_type": "code",
   "execution_count": 151,
   "id": "9ff7bb15",
   "metadata": {},
   "outputs": [],
   "source": [
    "colors.append('red')"
   ]
  },
  {
   "cell_type": "code",
   "execution_count": 152,
   "id": "30ac6427",
   "metadata": {},
   "outputs": [
    {
     "name": "stdout",
     "output_type": "stream",
     "text": [
      "['red', 'green', 'blue', 'red']\n"
     ]
    }
   ],
   "source": [
    "print(colors)"
   ]
  },
  {
   "cell_type": "code",
   "execution_count": 153,
   "id": "688cbbab",
   "metadata": {},
   "outputs": [],
   "source": [
    "colors.remove('red')"
   ]
  },
  {
   "cell_type": "code",
   "execution_count": 154,
   "id": "2499286d",
   "metadata": {},
   "outputs": [
    {
     "name": "stdout",
     "output_type": "stream",
     "text": [
      "['green', 'blue', 'red']\n"
     ]
    }
   ],
   "source": [
    "print(colors)"
   ]
  },
  {
   "cell_type": "markdown",
   "id": "41b18ab3",
   "metadata": {},
   "source": [
    "### .sort() 정렬 - 리턴값 없음"
   ]
  },
  {
   "cell_type": "code",
   "execution_count": 155,
   "id": "7298d7eb",
   "metadata": {},
   "outputs": [],
   "source": [
    "a = [1,7,9,2,5]"
   ]
  },
  {
   "cell_type": "code",
   "execution_count": 156,
   "id": "30822dde",
   "metadata": {},
   "outputs": [],
   "source": [
    "a.sort()"
   ]
  },
  {
   "cell_type": "code",
   "execution_count": 157,
   "id": "7a2795a4",
   "metadata": {},
   "outputs": [
    {
     "data": {
      "text/plain": [
       "[1, 2, 5, 7, 9]"
      ]
     },
     "execution_count": 157,
     "metadata": {},
     "output_type": "execute_result"
    }
   ],
   "source": [
    "a"
   ]
  },
  {
   "cell_type": "code",
   "execution_count": 158,
   "id": "8bef811e",
   "metadata": {},
   "outputs": [],
   "source": [
    "f = ['banana', 'apple', 'orange']\n",
    "f.sort()"
   ]
  },
  {
   "cell_type": "code",
   "execution_count": 159,
   "id": "c3ea6432",
   "metadata": {},
   "outputs": [
    {
     "data": {
      "text/plain": [
       "['apple', 'banana', 'orange']"
      ]
     },
     "execution_count": 159,
     "metadata": {},
     "output_type": "execute_result"
    }
   ],
   "source": [
    "f"
   ]
  },
  {
   "cell_type": "markdown",
   "id": "0f81e80c",
   "metadata": {},
   "source": [
    "### sorted() 정렬 - 리턴값 존재"
   ]
  },
  {
   "cell_type": "code",
   "execution_count": 160,
   "id": "1f01da19",
   "metadata": {},
   "outputs": [],
   "source": [
    "f = ['banana', 'apple', 'orange']\n",
    "f1 = f.sort()"
   ]
  },
  {
   "cell_type": "code",
   "execution_count": 161,
   "id": "7561103c",
   "metadata": {},
   "outputs": [],
   "source": [
    "f1"
   ]
  },
  {
   "cell_type": "code",
   "execution_count": 162,
   "id": "f4814d9c",
   "metadata": {},
   "outputs": [],
   "source": [
    "f = ['banana', 'apple', 'orange']"
   ]
  },
  {
   "cell_type": "code",
   "execution_count": 163,
   "id": "776c54df",
   "metadata": {},
   "outputs": [],
   "source": [
    "f2 = sorted(f)"
   ]
  },
  {
   "cell_type": "code",
   "execution_count": 164,
   "id": "1bfdb393",
   "metadata": {},
   "outputs": [
    {
     "data": {
      "text/plain": [
       "['apple', 'banana', 'orange']"
      ]
     },
     "execution_count": 164,
     "metadata": {},
     "output_type": "execute_result"
    }
   ],
   "source": [
    "f2"
   ]
  },
  {
   "cell_type": "markdown",
   "id": "4f6e18af",
   "metadata": {},
   "source": [
    "### .reverse() 역순정렬"
   ]
  },
  {
   "cell_type": "code",
   "execution_count": 165,
   "id": "dea74922",
   "metadata": {},
   "outputs": [],
   "source": [
    "a = [1,7,9,2,5]"
   ]
  },
  {
   "cell_type": "code",
   "execution_count": 166,
   "id": "6349744f",
   "metadata": {},
   "outputs": [],
   "source": [
    "a.reverse()"
   ]
  },
  {
   "cell_type": "code",
   "execution_count": 167,
   "id": "d74434c6",
   "metadata": {},
   "outputs": [
    {
     "data": {
      "text/plain": [
       "[5, 2, 9, 7, 1]"
      ]
     },
     "execution_count": 167,
     "metadata": {},
     "output_type": "execute_result"
    }
   ],
   "source": [
    "a"
   ]
  },
  {
   "cell_type": "code",
   "execution_count": 170,
   "id": "2a7598e0",
   "metadata": {},
   "outputs": [
    {
     "data": {
      "text/plain": [
       "[1, 7, 9, 2, 5]"
      ]
     },
     "execution_count": 170,
     "metadata": {},
     "output_type": "execute_result"
    }
   ],
   "source": [
    "a=a[::-1]\n",
    "a"
   ]
  },
  {
   "cell_type": "markdown",
   "id": "798fc3a2",
   "metadata": {},
   "source": [
    "### 최대값, 최소값, 총합"
   ]
  },
  {
   "cell_type": "code",
   "execution_count": 1,
   "id": "d3603bdb",
   "metadata": {},
   "outputs": [
    {
     "data": {
      "text/plain": [
       "99"
      ]
     },
     "execution_count": 1,
     "metadata": {},
     "output_type": "execute_result"
    }
   ],
   "source": [
    "a = [45,87,99,21,55]\n",
    "max(a)"
   ]
  },
  {
   "cell_type": "code",
   "execution_count": 2,
   "id": "d0b00c68",
   "metadata": {},
   "outputs": [
    {
     "data": {
      "text/plain": [
       "21"
      ]
     },
     "execution_count": 2,
     "metadata": {},
     "output_type": "execute_result"
    }
   ],
   "source": [
    "min(a)"
   ]
  },
  {
   "cell_type": "code",
   "execution_count": 3,
   "id": "4f956ae9",
   "metadata": {},
   "outputs": [
    {
     "data": {
      "text/plain": [
       "307"
      ]
     },
     "execution_count": 3,
     "metadata": {},
     "output_type": "execute_result"
    }
   ],
   "source": [
    "sum(a)"
   ]
  },
  {
   "cell_type": "markdown",
   "id": "9955aaf9",
   "metadata": {},
   "source": [
    "### .copy() 리스트 복사"
   ]
  },
  {
   "cell_type": "code",
   "execution_count": 4,
   "id": "9eb2a15a",
   "metadata": {},
   "outputs": [],
   "source": [
    "a = [1,7,9,2,5]\n",
    "b = a.copy()"
   ]
  },
  {
   "cell_type": "code",
   "execution_count": 5,
   "id": "33ec115b",
   "metadata": {},
   "outputs": [],
   "source": [
    "b[0] =2"
   ]
  },
  {
   "cell_type": "code",
   "execution_count": 6,
   "id": "5ed60219",
   "metadata": {},
   "outputs": [
    {
     "data": {
      "text/plain": [
       "[1, 7, 9, 2, 5]"
      ]
     },
     "execution_count": 6,
     "metadata": {},
     "output_type": "execute_result"
    }
   ],
   "source": [
    "a"
   ]
  },
  {
   "cell_type": "code",
   "execution_count": 7,
   "id": "681708ce",
   "metadata": {},
   "outputs": [
    {
     "data": {
      "text/plain": [
       "[2, 7, 9, 2, 5]"
      ]
     },
     "execution_count": 7,
     "metadata": {},
     "output_type": "execute_result"
    }
   ],
   "source": [
    "b"
   ]
  },
  {
   "cell_type": "code",
   "execution_count": 8,
   "id": "517bfa68",
   "metadata": {},
   "outputs": [],
   "source": [
    "a = [1,7,9,2,5]\n",
    "b = a"
   ]
  },
  {
   "cell_type": "code",
   "execution_count": 9,
   "id": "4d3713b9",
   "metadata": {},
   "outputs": [],
   "source": [
    "b[0] = 2"
   ]
  },
  {
   "cell_type": "code",
   "execution_count": 10,
   "id": "4fa763b6",
   "metadata": {},
   "outputs": [
    {
     "data": {
      "text/plain": [
       "[2, 7, 9, 2, 5]"
      ]
     },
     "execution_count": 10,
     "metadata": {},
     "output_type": "execute_result"
    }
   ],
   "source": [
    "a"
   ]
  },
  {
   "cell_type": "markdown",
   "id": "b3c4c7c5",
   "metadata": {},
   "source": [
    "### .deepcopy()"
   ]
  },
  {
   "cell_type": "code",
   "execution_count": 11,
   "id": "c5499455",
   "metadata": {},
   "outputs": [],
   "source": [
    "import copy"
   ]
  },
  {
   "cell_type": "code",
   "execution_count": 12,
   "id": "f7439b32",
   "metadata": {},
   "outputs": [],
   "source": [
    "b = copy.deepcopy(a)"
   ]
  },
  {
   "cell_type": "code",
   "execution_count": 13,
   "id": "12e204c8",
   "metadata": {},
   "outputs": [
    {
     "data": {
      "text/plain": [
       "[2, 7, 9, 2, 5]"
      ]
     },
     "execution_count": 13,
     "metadata": {},
     "output_type": "execute_result"
    }
   ],
   "source": [
    "b"
   ]
  },
  {
   "cell_type": "code",
   "execution_count": 31,
   "id": "53e6dc6e",
   "metadata": {},
   "outputs": [
    {
     "data": {
      "text/plain": [
       "[[2, 1], 3]"
      ]
     },
     "execution_count": 31,
     "metadata": {},
     "output_type": "execute_result"
    }
   ],
   "source": [
    "# 추가예시 -> 리스트안에 배열값은 복사를 못해가므로 deepcopy이용해서 복사해주기\n",
    "a =[[0,1],3]\n",
    "b = a.copy()\n",
    "b[0][0] =2\n",
    "a"
   ]
  },
  {
   "cell_type": "markdown",
   "id": "dc3f6543",
   "metadata": {},
   "source": [
    "## 리스트 - 실습1"
   ]
  },
  {
   "cell_type": "code",
   "execution_count": 21,
   "id": "6dbdeff2",
   "metadata": {},
   "outputs": [
    {
     "name": "stdout",
     "output_type": "stream",
     "text": [
      "Enter a number: 7\n",
      "Enter a number: 2\n",
      "Enter a number: 9\n",
      "Enter a number: 3\n",
      "Enter a number: 5\n",
      "Enter a number: done\n",
      "[7.0, 2.0, 9.0, 3.0, 5.0]\n",
      "Average: 5.2\n",
      "Maximum: 9.0\n",
      "Minimum: 2.0\n"
     ]
    }
   ],
   "source": [
    "number = 0\n",
    "number_list = []\n",
    "\n",
    "while number != 'done' :\n",
    "        number = input(\"Enter a number: \")\n",
    "        if number =='done':\n",
    "            break\n",
    "        else :\n",
    "            number_list.append(int(number))\n",
    "        \n",
    "number_list = list(map(float, number_list))        \n",
    "print(number_list)\n",
    "print(\"Average: %.1f\" %(sum(number_list)/len(number_list)))\n",
    "print(\"Maximum: %.1f\" %(max(number_list)))\n",
    "print(\"Minimum: %.1f\" %(min(number_list)))"
   ]
  },
  {
   "cell_type": "code",
   "execution_count": 32,
   "id": "5e5faf69",
   "metadata": {},
   "outputs": [
    {
     "name": "stdout",
     "output_type": "stream",
     "text": [
      "Enter a number: 7\n",
      "Enter a number: 2\n",
      "Enter a number: 9\n",
      "Enter a number: 3\n",
      "Enter a number: 5\n",
      "Enter a number: done\n",
      "[7, 2, 9, 3, 5]\n"
     ]
    }
   ],
   "source": [
    "save =[]\n",
    "\n",
    "while True :\n",
    "    s = input(\"Enter a number: \")\n",
    "    if s == 'done' :\n",
    "        break\n",
    "    number = int(s)\n",
    "    save.append(number)\n",
    "\n",
    "print(save)"
   ]
  },
  {
   "cell_type": "code",
   "execution_count": null,
   "id": "73361ba2",
   "metadata": {},
   "outputs": [],
   "source": []
  }
 ],
 "metadata": {
  "kernelspec": {
   "display_name": "Python 3 (ipykernel)",
   "language": "python",
   "name": "python3"
  },
  "language_info": {
   "codemirror_mode": {
    "name": "ipython",
    "version": 3
   },
   "file_extension": ".py",
   "mimetype": "text/x-python",
   "name": "python",
   "nbconvert_exporter": "python",
   "pygments_lexer": "ipython3",
   "version": "3.9.12"
  }
 },
 "nbformat": 4,
 "nbformat_minor": 5
}
